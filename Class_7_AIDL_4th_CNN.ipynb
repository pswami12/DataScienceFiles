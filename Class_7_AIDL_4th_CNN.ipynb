{
  "nbformat": 4,
  "nbformat_minor": 0,
  "metadata": {
    "colab": {
      "provenance": [],
      "include_colab_link": true
    },
    "kernelspec": {
      "name": "python3",
      "display_name": "Python 3"
    },
    "accelerator": "GPU"
  },
  "cells": [
    {
      "cell_type": "markdown",
      "metadata": {
        "id": "view-in-github",
        "colab_type": "text"
      },
      "source": [
        "<a href=\"https://colab.research.google.com/github/pswami12/DataScienceFiles/blob/main/Class_7_AIDL_4th_CNN.ipynb\" target=\"_parent\"><img src=\"https://colab.research.google.com/assets/colab-badge.svg\" alt=\"Open In Colab\"/></a>"
      ]
    },
    {
      "cell_type": "markdown",
      "metadata": {
        "id": "aNyZv-Ec52ot"
      },
      "source": [
        "# **Import Libraries and modules**"
      ]
    },
    {
      "cell_type": "code",
      "metadata": {
        "id": "Eso6UHE080D4"
      },
      "source": [
        "import numpy as np\n",
        "\n",
        "from tensorflow.keras.models import Sequential\n",
        "from tensorflow.keras.layers import Dense, Dropout, Activation, Flatten, Add, BatchNormalization\n",
        "from tensorflow.keras.layers import Convolution2D, MaxPooling2D\n",
        "from keras.utils import np_utils\n",
        "\n",
        "from tensorflow.keras.datasets import mnist"
      ],
      "execution_count": 1,
      "outputs": []
    },
    {
      "cell_type": "markdown",
      "metadata": {
        "id": "zByEi95J86RD"
      },
      "source": [
        "### Load pre-shuffled MNIST data into train and test sets"
      ]
    },
    {
      "cell_type": "code",
      "metadata": {
        "id": "7eRM0QWN83PV",
        "colab": {
          "base_uri": "https://localhost:8080/"
        },
        "outputId": "2ea97a73-c3f5-4971-9456-59ec947fd00f"
      },
      "source": [
        "(X_train, y_train), (X_test, y_test) = mnist.load_data()"
      ],
      "execution_count": 2,
      "outputs": [
        {
          "output_type": "stream",
          "name": "stdout",
          "text": [
            "Downloading data from https://storage.googleapis.com/tensorflow/tf-keras-datasets/mnist.npz\n",
            "11490434/11490434 [==============================] - 0s 0us/step\n"
          ]
        }
      ]
    },
    {
      "cell_type": "code",
      "metadata": {
        "id": "4a4Be72j8-ZC",
        "outputId": "5a97a672-2fa6-4002-a3ec-4a599490b18b",
        "colab": {
          "base_uri": "https://localhost:8080/",
          "height": 465
        }
      },
      "source": [
        "print (X_train.shape)\n",
        "from matplotlib import pyplot as plt\n",
        "%matplotlib inline\n",
        "plt.imshow(X_train[0])"
      ],
      "execution_count": 3,
      "outputs": [
        {
          "output_type": "stream",
          "name": "stdout",
          "text": [
            "(60000, 28, 28)\n"
          ]
        },
        {
          "output_type": "execute_result",
          "data": {
            "text/plain": [
              "<matplotlib.image.AxesImage at 0x7f828ae87640>"
            ]
          },
          "metadata": {},
          "execution_count": 3
        },
        {
          "output_type": "display_data",
          "data": {
            "text/plain": [
              "<Figure size 640x480 with 1 Axes>"
            ],
            "image/png": "[encoded data removed]"
          },
          "metadata": {}
        }
      ]
    },
    {
      "cell_type": "code",
      "metadata": {
        "id": "dkmprriw9AnZ"
      },
      "source": [
        "X_train = X_train.reshape(X_train.shape[0], 28, 28,1)\n",
        "X_test = X_test.reshape(X_test.shape[0], 28, 28,1)"
      ],
      "execution_count": 4,
      "outputs": []
    },
    {
      "cell_type": "code",
      "metadata": {
        "id": "X2m4YS4E9CRh"
      },
      "source": [
        "X_train = X_train.astype('float32')\n",
        "X_test = X_test.astype('float32')\n",
        "X_train /= 255\n",
        "X_test /= 255"
      ],
      "execution_count": 5,
      "outputs": []
    },
    {
      "cell_type": "code",
      "metadata": {
        "id": "0Mn0vAYD9DvB",
        "outputId": "269f978c-40da-40e9-da54-887056aa1984",
        "colab": {
          "base_uri": "https://localhost:8080/"
        }
      },
      "source": [
        "y_train[:10]"
      ],
      "execution_count": 6,
      "outputs": [
        {
          "output_type": "execute_result",
          "data": {
            "text/plain": [
              "array([5, 0, 4, 1, 9, 2, 1, 3, 1, 4], dtype=uint8)"
            ]
          },
          "metadata": {},
          "execution_count": 6
        }
      ]
    },
    {
      "cell_type": "code",
      "metadata": {
        "id": "ZG8JiXR39FHC"
      },
      "source": [
        "# Convert 1-dimensional class arrays to 10-dimensional class matrices\n",
        "Y_train = np_utils.to_categorical(y_train, 10)\n",
        "Y_test = np_utils.to_categorical(y_test, 10)"
      ],
      "execution_count": 7,
      "outputs": []
    },
    {
      "cell_type": "code",
      "metadata": {
        "id": "fYlFRvKS9HMB",
        "outputId": "29fdb40c-9299-4dc0-8ff1-7b3bd35ebf6e",
        "colab": {
          "base_uri": "https://localhost:8080/"
        }
      },
      "source": [
        "\n",
        "Y_train[:10]\n"
      ],
      "execution_count": 8,
      "outputs": [
        {
          "output_type": "execute_result",
          "data": {
            "text/plain": [
              "array([[0., 0., 0., 0., 0., 1., 0., 0., 0., 0.],\n",
              "       [1., 0., 0., 0., 0., 0., 0., 0., 0., 0.],\n",
              "       [0., 0., 0., 0., 1., 0., 0., 0., 0., 0.],\n",
              "       [0., 1., 0., 0., 0., 0., 0., 0., 0., 0.],\n",
              "       [0., 0., 0., 0., 0., 0., 0., 0., 0., 1.],\n",
              "       [0., 0., 1., 0., 0., 0., 0., 0., 0., 0.],\n",
              "       [0., 1., 0., 0., 0., 0., 0., 0., 0., 0.],\n",
              "       [0., 0., 0., 1., 0., 0., 0., 0., 0., 0.],\n",
              "       [0., 1., 0., 0., 0., 0., 0., 0., 0., 0.],\n",
              "       [0., 0., 0., 0., 1., 0., 0., 0., 0., 0.]], dtype=float32)"
            ]
          },
          "metadata": {},
          "execution_count": 8
        }
      ]
    },
    {
      "cell_type": "code",
      "metadata": {
        "id": "osKqT73Q9JJB"
      },
      "source": [
        "model = Sequential()\n",
        "\n",
        "model.add(Convolution2D(10, kernel_size = 3, activation='relu', input_shape=(28,28,1))) # 26\n",
        "model.add(BatchNormalization())\n",
        "\n",
        "model.add(Convolution2D(16, kernel_size = 3, activation='relu')) # 24\n",
        "model.add(BatchNormalization())\n",
        "model.add(Convolution2D(32, kernel_size = 3, activation='relu')) # 22\n",
        "model.add(BatchNormalization())\n",
        "\n",
        "model.add(Dropout(0.25))\n",
        "\n",
        "model.add(MaxPooling2D(pool_size=(2, 2))) # 11\n",
        "model.add(Convolution2D(10, kernel_size = 1, activation='relu')) # 11\n",
        "model.add(BatchNormalization())\n",
        "\n",
        "model.add(Convolution2D(16, kernel_size = 3, activation='relu')) # 9\n",
        "model.add(BatchNormalization())\n",
        "model.add(Convolution2D(32, kernel_size = 3, activation='relu')) # 7\n",
        "model.add(BatchNormalization())\n",
        "model.add(Dropout(0.25))\n",
        "\n",
        "model.add(Convolution2D(10, kernel_size = 1, activation='relu')) #7\n",
        "\n",
        "model.add(Convolution2D(10, kernel_size = 7))\n",
        "model.add(Flatten())\n",
        "model.add(Activation('softmax'))"
      ],
      "execution_count": 9,
      "outputs": []
    },
    {
      "cell_type": "code",
      "metadata": {
        "id": "TzdAYg1k9K7Z",
        "outputId": "c80f8226-07ab-4506-a8fe-df22072a4c50",
        "colab": {
          "base_uri": "https://localhost:8080/"
        }
      },
      "source": [
        "model.summary()"
      ],
      "execution_count": 10,
      "outputs": [
        {
          "output_type": "stream",
          "name": "stdout",
          "text": [
            "Model: \"sequential\"\n",
            "_________________________________________________________________\n",
            " Layer (type)                Output Shape              Param #   \n",
            "=================================================================\n",
            " conv2d (Conv2D)             (None, 26, 26, 10)        100       \n",
            "                                                                 \n",
            " batch_normalization (BatchN  (None, 26, 26, 10)       40        \n",
            " ormalization)                                                   \n",
            "                                                                 \n",
            " conv2d_1 (Conv2D)           (None, 24, 24, 16)        1456      \n",
            "                                                                 \n",
            " batch_normalization_1 (Batc  (None, 24, 24, 16)       64        \n",
            " hNormalization)                                                 \n",
            "                                                                 \n",
            " conv2d_2 (Conv2D)           (None, 22, 22, 32)        4640      \n",
            "                                                                 \n",
            " batch_normalization_2 (Batc  (None, 22, 22, 32)       128       \n",
            " hNormalization)                                                 \n",
            "                                                                 \n",
            " dropout (Dropout)           (None, 22, 22, 32)        0         \n",
            "                                                                 \n",
            " max_pooling2d (MaxPooling2D  (None, 11, 11, 32)       0         \n",
            " )                                                               \n",
            "                                                                 \n",
            " conv2d_3 (Conv2D)           (None, 11, 11, 10)        330       \n",
            "                                                                 \n",
            " batch_normalization_3 (Batc  (None, 11, 11, 10)       40        \n",
            " hNormalization)                                                 \n",
            "                                                                 \n",
            " conv2d_4 (Conv2D)           (None, 9, 9, 16)          1456      \n",
            "                                                                 \n",
            " batch_normalization_4 (Batc  (None, 9, 9, 16)         64        \n",
            " hNormalization)                                                 \n",
            "                                                                 \n",
            " conv2d_5 (Conv2D)           (None, 7, 7, 32)          4640      \n",
            "                                                                 \n",
            " batch_normalization_5 (Batc  (None, 7, 7, 32)         128       \n",
            " hNormalization)                                                 \n",
            "                                                                 \n",
            " dropout_1 (Dropout)         (None, 7, 7, 32)          0         \n",
            "                                                                 \n",
            " conv2d_6 (Conv2D)           (None, 7, 7, 10)          330       \n",
            "                                                                 \n",
            " conv2d_7 (Conv2D)           (None, 1, 1, 10)          4910      \n",
            "                                                                 \n",
            " flatten (Flatten)           (None, 10)                0         \n",
            "                                                                 \n",
            " activation (Activation)     (None, 10)                0         \n",
            "                                                                 \n",
            "=================================================================\n",
            "Total params: 18,326\n",
            "Trainable params: 18,094\n",
            "Non-trainable params: 232\n",
            "_________________________________________________________________\n"
          ]
        }
      ]
    },
    {
      "cell_type": "code",
      "metadata": {
        "id": "W1esh1USwxBb",
        "colab": {
          "base_uri": "https://localhost:8080/"
        },
        "outputId": "326bf14f-d87d-4cda-de50-438f6ce1cc47"
      },
      "source": [
        "from keras.optimizers import Adam\n",
        "from keras.callbacks import LearningRateScheduler\n",
        "def scheduler(epoch, lr):\n",
        "  return round(0.003 * 1/(1 + 0.319 * epoch), 10)\n",
        "\n",
        "model.compile(loss='categorical_crossentropy', optimizer=Adam(lr=0.003), metrics=['accuracy'])"
      ],
      "execution_count": 11,
      "outputs": [
        {
          "output_type": "stream",
          "name": "stderr",
          "text": [
            "/usr/local/lib/python3.10/dist-packages/keras/optimizers/legacy/adam.py:117: UserWarning: The `lr` argument is deprecated, use `learning_rate` instead.\n",
            "  super().__init__(name, **kwargs)\n"
          ]
        }
      ]
    },
    {
      "cell_type": "code",
      "metadata": {
        "id": "U6BMWovKhJEW",
        "colab": {
          "base_uri": "https://localhost:8080/"
        },
        "outputId": "4c03e016-9311-4eb9-ee99-462e15c3861d"
      },
      "source": [
        "model.fit(X_train, Y_train, batch_size=512, epochs=20, verbose=1, validation_data=(X_test, Y_test), callbacks=[LearningRateScheduler(scheduler, verbose=1)])"
      ],
      "execution_count": 12,
      "outputs": [
        {
          "output_type": "stream",
          "name": "stdout",
          "text": [
            "\n",
            "Epoch 1: LearningRateScheduler setting learning rate to 0.003.\n",
            "Epoch 1/20\n",
            "118/118 [==============================] - 14s 33ms/step - loss: 0.2880 - accuracy: 0.9091 - val_loss: 5.3915 - val_accuracy: 0.1135 - lr: 0.0030\n",
            "\n",
            "Epoch 2: LearningRateScheduler setting learning rate to 0.0022744503.\n",
            "Epoch 2/20\n",
            "118/118 [==============================] - 4s 33ms/step - loss: 0.0636 - accuracy: 0.9805 - val_loss: 4.3567 - val_accuracy: 0.1286 - lr: 0.0023\n",
            "\n",
            "Epoch 3: LearningRateScheduler setting learning rate to 0.0018315018.\n",
            "Epoch 3/20\n",
            "118/118 [==============================] - 3s 26ms/step - loss: 0.0472 - accuracy: 0.9850 - val_loss: 0.9398 - val_accuracy: 0.6801 - lr: 0.0018\n",
            "\n",
            "Epoch 4: LearningRateScheduler setting learning rate to 0.0015329586.\n",
            "Epoch 4/20\n",
            "118/118 [==============================] - 3s 26ms/step - loss: 0.0376 - accuracy: 0.9883 - val_loss: 0.0801 - val_accuracy: 0.9751 - lr: 0.0015\n",
            "\n",
            "Epoch 5: LearningRateScheduler setting learning rate to 0.0013181019.\n",
            "Epoch 5/20\n",
            "118/118 [==============================] - 3s 26ms/step - loss: 0.0323 - accuracy: 0.9898 - val_loss: 0.0613 - val_accuracy: 0.9801 - lr: 0.0013\n",
            "\n",
            "Epoch 6: LearningRateScheduler setting learning rate to 0.0011560694.\n",
            "Epoch 6/20\n",
            "118/118 [==============================] - 3s 28ms/step - loss: 0.0304 - accuracy: 0.9901 - val_loss: 0.0356 - val_accuracy: 0.9883 - lr: 0.0012\n",
            "\n",
            "Epoch 7: LearningRateScheduler setting learning rate to 0.0010295127.\n",
            "Epoch 7/20\n",
            "118/118 [==============================] - 3s 27ms/step - loss: 0.0267 - accuracy: 0.9913 - val_loss: 0.0369 - val_accuracy: 0.9885 - lr: 0.0010\n",
            "\n",
            "Epoch 8: LearningRateScheduler setting learning rate to 0.0009279307.\n",
            "Epoch 8/20\n",
            "118/118 [==============================] - 3s 26ms/step - loss: 0.0231 - accuracy: 0.9928 - val_loss: 0.0296 - val_accuracy: 0.9913 - lr: 9.2793e-04\n",
            "\n",
            "Epoch 9: LearningRateScheduler setting learning rate to 0.0008445946.\n",
            "Epoch 9/20\n",
            "118/118 [==============================] - 3s 26ms/step - loss: 0.0217 - accuracy: 0.9930 - val_loss: 0.0308 - val_accuracy: 0.9914 - lr: 8.4459e-04\n",
            "\n",
            "Epoch 10: LearningRateScheduler setting learning rate to 0.0007749935.\n",
            "Epoch 10/20\n",
            "118/118 [==============================] - 3s 27ms/step - loss: 0.0206 - accuracy: 0.9933 - val_loss: 0.0407 - val_accuracy: 0.9874 - lr: 7.7499e-04\n",
            "\n",
            "Epoch 11: LearningRateScheduler setting learning rate to 0.0007159905.\n",
            "Epoch 11/20\n",
            "118/118 [==============================] - 3s 26ms/step - loss: 0.0195 - accuracy: 0.9937 - val_loss: 0.0321 - val_accuracy: 0.9904 - lr: 7.1599e-04\n",
            "\n",
            "Epoch 12: LearningRateScheduler setting learning rate to 0.000665336.\n",
            "Epoch 12/20\n",
            "118/118 [==============================] - 3s 27ms/step - loss: 0.0182 - accuracy: 0.9940 - val_loss: 0.0284 - val_accuracy: 0.9914 - lr: 6.6534e-04\n",
            "\n",
            "Epoch 13: LearningRateScheduler setting learning rate to 0.0006213753.\n",
            "Epoch 13/20\n",
            "118/118 [==============================] - 3s 26ms/step - loss: 0.0173 - accuracy: 0.9943 - val_loss: 0.0318 - val_accuracy: 0.9894 - lr: 6.2138e-04\n",
            "\n",
            "Epoch 14: LearningRateScheduler setting learning rate to 0.0005828638.\n",
            "Epoch 14/20\n",
            "118/118 [==============================] - 3s 28ms/step - loss: 0.0161 - accuracy: 0.9945 - val_loss: 0.0361 - val_accuracy: 0.9893 - lr: 5.8286e-04\n",
            "\n",
            "Epoch 15: LearningRateScheduler setting learning rate to 0.0005488474.\n",
            "Epoch 15/20\n",
            "118/118 [==============================] - 3s 29ms/step - loss: 0.0156 - accuracy: 0.9950 - val_loss: 0.0330 - val_accuracy: 0.9905 - lr: 5.4885e-04\n",
            "\n",
            "Epoch 16: LearningRateScheduler setting learning rate to 0.0005185825.\n",
            "Epoch 16/20\n",
            "118/118 [==============================] - 3s 27ms/step - loss: 0.0144 - accuracy: 0.9955 - val_loss: 0.0283 - val_accuracy: 0.9912 - lr: 5.1858e-04\n",
            "\n",
            "Epoch 17: LearningRateScheduler setting learning rate to 0.000491481.\n",
            "Epoch 17/20\n",
            "118/118 [==============================] - 3s 27ms/step - loss: 0.0134 - accuracy: 0.9959 - val_loss: 0.0366 - val_accuracy: 0.9895 - lr: 4.9148e-04\n",
            "\n",
            "Epoch 18: LearningRateScheduler setting learning rate to 0.0004670715.\n",
            "Epoch 18/20\n",
            "118/118 [==============================] - 3s 28ms/step - loss: 0.0132 - accuracy: 0.9955 - val_loss: 0.0374 - val_accuracy: 0.9892 - lr: 4.6707e-04\n",
            "\n",
            "Epoch 19: LearningRateScheduler setting learning rate to 0.0004449718.\n",
            "Epoch 19/20\n",
            "118/118 [==============================] - 3s 27ms/step - loss: 0.0122 - accuracy: 0.9959 - val_loss: 0.0371 - val_accuracy: 0.9896 - lr: 4.4497e-04\n",
            "\n",
            "Epoch 20: LearningRateScheduler setting learning rate to 0.000424869.\n",
            "Epoch 20/20\n",
            "118/118 [==============================] - 3s 27ms/step - loss: 0.0127 - accuracy: 0.9957 - val_loss: 0.0263 - val_accuracy: 0.9921 - lr: 4.2487e-04\n"
          ]
        },
        {
          "output_type": "execute_result",
          "data": {
            "text/plain": [
              "<keras.callbacks.History at 0x7f8270375de0>"
            ]
          },
          "metadata": {},
          "execution_count": 12
        }
      ]
    },
    {
      "cell_type": "code",
      "metadata": {
        "id": "AtsH-lLk-eLb"
      },
      "source": [
        "score = model.evaluate(X_test, Y_test, verbose=0)"
      ],
      "execution_count": 13,
      "outputs": []
    },
    {
      "cell_type": "code",
      "metadata": {
        "id": "mkX8JMv79q9r",
        "outputId": "93c8f28d-bf8e-4307-ca9f-fb5ff5be2109",
        "colab": {
          "base_uri": "https://localhost:8080/"
        }
      },
      "source": [
        "print(score)"
      ],
      "execution_count": 14,
      "outputs": [
        {
          "output_type": "stream",
          "name": "stdout",
          "text": [
            "[0.026276547461748123, 0.9921000003814697]\n"
          ]
        }
      ]
    }
  ]
}