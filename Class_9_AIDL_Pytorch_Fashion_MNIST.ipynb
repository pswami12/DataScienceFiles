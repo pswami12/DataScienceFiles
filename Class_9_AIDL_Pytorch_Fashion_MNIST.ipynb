{
  "nbformat": 4,
  "nbformat_minor": 0,
  "metadata": {
    "colab": {
      "provenance": [],
      "include_colab_link": true
    },
    "kernelspec": {
      "name": "python3",
      "display_name": "Python 3"
    },
    "language_info": {
      "name": "python"
    }
  },
  "cells": [
    {
      "cell_type": "markdown",
      "metadata": {
        "id": "view-in-github",
        "colab_type": "text"
      },
      "source": [
        "<a href=\"https://colab.research.google.com/github/pswami12/DataScienceFiles/blob/main/Class_9_AIDL_Pytorch_Fashion_MNIST.ipynb\" target=\"_parent\"><img src=\"https://colab.research.google.com/assets/colab-badge.svg\" alt=\"Open In Colab\"/></a>"
      ]
    },
    {
      "cell_type": "markdown",
      "metadata": {
        "id": "LIS7Yv1Zs8Ur"
      },
      "source": [
        "# Working with the dataset\n",
        "\n",
        "We will look at convolutional/image examples as they allow us to get a good intuition on axises and are more complex to work on just 1D data\n",
        "\n",
        "### A common nn pipeline looks like this:\n",
        "1. Prepare the data\n",
        "2. Build the model\n",
        "3. Train the model\n",
        "4. Analyze the model"
      ]
    },
    {
      "cell_type": "code",
      "metadata": {
        "id": "SnnAaxfdsrRJ"
      },
      "source": [
        "import torch\n",
        "import torchvision # provide access to datasets, models, transforms, utils, etc\n",
        "import torchvision.transforms as transforms"
      ],
      "execution_count": null,
      "outputs": []
    },
    {
      "cell_type": "code",
      "metadata": {
        "id": "VzeyvAyttaLr"
      },
      "source": [
        "# let's extend the Dataset class of Pytorch to build our own sample dataset\n",
        "from torch.utils.data import Dataset\n",
        "class OHLC(Dataset):\n",
        "  def __init__(self, csv_file):\n",
        "    self.data = pd.read_csv(csv_file)\n",
        "\n",
        "  def __getitem__(self, index):\n",
        "    r = self.data.iloc[index]\n",
        "    label = torch.tensor(r.is_up_day, dtype=torch.long)\n",
        "    sample = self.normalize(torch.tensor([r.open, r.high, r.low, r.close]))\n",
        "    return sample, label\n",
        "\n",
        "  def __len__(self):\n",
        "    return len(self.data)"
      ],
      "execution_count": null,
      "outputs": []
    },
    {
      "cell_type": "code",
      "metadata": {
        "id": "8U3DGMhzubXw",
        "colab": {
          "base_uri": "https://localhost:8080/",
          "height": 399,
          "referenced_widgets": [
            "5dc095a07664493a8b8eea58584f8878",
            "01b86f5ae9b34d61b8705e5b826d11b4",
            "42ec573d210d4b0080937d32145b784a",
            "83c6185ba8374c349a9a5b1c7e03daf9",
            "0dbc377694a94ea7809ee39fb7689c0a",
            "a502824cedbd44dfa691fcb42fdabb3e",
            "b39dd1a7814345ba8c2254c5f612b258",
            "d3bf9d35d63e4dc195132b7f09e6a473",
            "b9eb3f48dc2547089a01e64fe0493f81",
            "d03c5408c19744f7a0218f2b2fcd3fd2",
            "fff4e192e12943e0a3dbc0c62287a01e",
            "2a1b295385404f008d795301a729675b",
            "166781535ad0482eb2c322a3c4aae89a",
            "6942f855cd3548b9bb728e873f650e00",
            "a8a1db8b924b4e7281ae1756cbe7d6f7",
            "3b18ba2b50384353bb5edf22d4475f68",
            "cb29e813eef64e0cac76d89dfb487d8c",
            "90840f9a86a84a66b1d23373ed7c429a",
            "62088b2eea534e30996c8460626117c1",
            "696a5ad148784df88f4933331c90072c",
            "d3ff3701de9c437b85f2285d35393270",
            "154336aae31f4383a496ff1da955655d",
            "483d54ace91c4435a1c90b20f5734e5b",
            "354ec4b559ea4bbf87ced6cec06a658a",
            "7159e09d79d14cacbbc55c28875b1bbd",
            "d7990b52dea64f798d57792a400ecae6",
            "e3786bf9cd7b4d83ac7c75ecfbb0a234",
            "b72ea554ad5446c09d32bd97fd2cd873",
            "dc2adac5d2744d0283a208dd95900d12",
            "c4ab4fcea24948dd89112e16519d1705",
            "8cc44989021b404a8a69055c966040b1",
            "20154928fe4b46238f14f837cb04a742"
          ]
        },
        "outputId": "e6619e4b-1e5b-40c9-f565-406cdaa22d0b"
      },
      "source": [
        "# now let's work with FashionMnist\n",
        "\n",
        "train_set = torchvision.datasets.FashionMNIST(\n",
        "    root='./data'\n",
        "    ,train=True\n",
        "    ,download=True\n",
        "    ,transform=transforms.Compose([\n",
        "        transforms.ToTensor()\n",
        "    ])\n",
        ")"
      ],
      "execution_count": null,
      "outputs": [
        {
          "output_type": "stream",
          "text": [
            "Downloading http://fashion-mnist.s3-website.eu-central-1.amazonaws.com/train-images-idx3-ubyte.gz to ./data/FashionMNIST/raw/train-images-idx3-ubyte.gz\n"
          ],
          "name": "stdout"
        },
        {
          "output_type": "display_data",
          "data": {
            "application/vnd.jupyter.widget-view+json": {
              "model_id": "5dc095a07664493a8b8eea58584f8878",
              "version_minor": 0,
              "version_major": 2
            },
            "text/plain": [
              "HBox(children=(FloatProgress(value=1.0, bar_style='info', max=1.0), HTML(value='')))"
            ]
          },
          "metadata": {
            "tags": []
          }
        },
        {
          "output_type": "stream",
          "text": [
            "Extracting ./data/FashionMNIST/raw/train-images-idx3-ubyte.gz to ./data/FashionMNIST/raw\n",
            "\n",
            "Downloading http://fashion-mnist.s3-website.eu-central-1.amazonaws.com/train-labels-idx1-ubyte.gz to ./data/FashionMNIST/raw/train-labels-idx1-ubyte.gz\n"
          ],
          "name": "stdout"
        },
        {
          "output_type": "display_data",
          "data": {
            "application/vnd.jupyter.widget-view+json": {
              "model_id": "b9eb3f48dc2547089a01e64fe0493f81",
              "version_minor": 0,
              "version_major": 2
            },
            "text/plain": [
              "HBox(children=(FloatProgress(value=1.0, bar_style='info', max=1.0), HTML(value='')))"
            ]
          },
          "metadata": {
            "tags": []
          }
        },
        {
          "output_type": "stream",
          "text": [
            "Extracting ./data/FashionMNIST/raw/train-labels-idx1-ubyte.gz to ./data/FashionMNIST/raw\n",
            "Downloading http://fashion-mnist.s3-website.eu-central-1.amazonaws.com/t10k-images-idx3-ubyte.gz to ./data/FashionMNIST/raw/t10k-images-idx3-ubyte.gz\n"
          ],
          "name": "stdout"
        },
        {
          "output_type": "display_data",
          "data": {
            "application/vnd.jupyter.widget-view+json": {
              "model_id": "cb29e813eef64e0cac76d89dfb487d8c",
              "version_minor": 0,
              "version_major": 2
            },
            "text/plain": [
              "HBox(children=(FloatProgress(value=1.0, bar_style='info', max=1.0), HTML(value='')))"
            ]
          },
          "metadata": {
            "tags": []
          }
        },
        {
          "output_type": "stream",
          "text": [
            "Extracting ./data/FashionMNIST/raw/t10k-images-idx3-ubyte.gz to ./data/FashionMNIST/raw\n",
            "Downloading http://fashion-mnist.s3-website.eu-central-1.amazonaws.com/t10k-labels-idx1-ubyte.gz to ./data/FashionMNIST/raw/t10k-labels-idx1-ubyte.gz\n"
          ],
          "name": "stdout"
        },
        {
          "output_type": "display_data",
          "data": {
            "application/vnd.jupyter.widget-view+json": {
              "model_id": "7159e09d79d14cacbbc55c28875b1bbd",
              "version_minor": 0,
              "version_major": 2
            },
            "text/plain": [
              "HBox(children=(FloatProgress(value=1.0, bar_style='info', max=1.0), HTML(value='')))"
            ]
          },
          "metadata": {
            "tags": []
          }
        },
        {
          "output_type": "stream",
          "text": [
            "Extracting ./data/FashionMNIST/raw/t10k-labels-idx1-ubyte.gz to ./data/FashionMNIST/raw\n",
            "Processing...\n",
            "Done!\n"
          ],
          "name": "stdout"
        },
        {
          "output_type": "stream",
          "text": [
            "/usr/local/lib/python3.6/dist-packages/torchvision/datasets/mnist.py:480: UserWarning: The given NumPy array is not writeable, and PyTorch does not support non-writeable tensors. This means you can write to the underlying (supposedly non-writeable) NumPy array using the tensor. You may want to copy the array to protect its data or make it writeable before converting it to a tensor. This type of warning will be suppressed for the rest of this program. (Triggered internally at  /pytorch/torch/csrc/utils/tensor_numpy.cpp:141.)\n",
            "  return torch.from_numpy(parsed.astype(m[2], copy=False)).view(*s)\n"
          ],
          "name": "stderr"
        }
      ]
    },
    {
      "cell_type": "markdown",
      "metadata": {
        "id": "pGFzt-K5vL6u"
      },
      "source": [
        "`torch.utils.data.DataLoader` is an iterator which provides all these features:\n",
        "* Batching the data\n",
        "* Shuffling the data\n",
        "* Load the data in parallel using multiprocessing workers."
      ]
    },
    {
      "cell_type": "code",
      "metadata": {
        "id": "YwqfC3LiuuE6"
      },
      "source": [
        "train_loader = torch.utils.data.DataLoader(train_set\n",
        "    ,batch_size=10\n",
        "    ,shuffle=True\n",
        ")"
      ],
      "execution_count": null,
      "outputs": []
    },
    {
      "cell_type": "code",
      "metadata": {
        "id": "m4OIm-8rvcNP"
      },
      "source": [
        "import numpy as np\n",
        "import matplotlib.pyplot as plt\n",
        "\n",
        "torch.set_printoptions(linewidth=120)"
      ],
      "execution_count": null,
      "outputs": []
    },
    {
      "cell_type": "code",
      "metadata": {
        "id": "f4APFwqovs7C",
        "colab": {
          "base_uri": "https://localhost:8080/"
        },
        "outputId": "bfed7c6c-3f0f-4f0b-f494-814c0217a2f4"
      },
      "source": [
        "len(train_set)"
      ],
      "execution_count": null,
      "outputs": [
        {
          "output_type": "execute_result",
          "data": {
            "text/plain": [
              "60000"
            ]
          },
          "metadata": {
            "tags": []
          },
          "execution_count": 158
        }
      ]
    },
    {
      "cell_type": "code",
      "metadata": {
        "id": "hlQveFsEvuEg",
        "colab": {
          "base_uri": "https://localhost:8080/"
        },
        "outputId": "083ecc6d-4cb5-4d1f-fdc1-c2060b34e674"
      },
      "source": [
        "train_set.train_labels"
      ],
      "execution_count": null,
      "outputs": [
        {
          "output_type": "stream",
          "text": [
            "/usr/local/lib/python3.6/dist-packages/torchvision/datasets/mnist.py:48: UserWarning: train_labels has been renamed targets\n",
            "  warnings.warn(\"train_labels has been renamed targets\")\n"
          ],
          "name": "stderr"
        },
        {
          "output_type": "execute_result",
          "data": {
            "text/plain": [
              "tensor([9, 0, 0,  ..., 3, 0, 5])"
            ]
          },
          "metadata": {
            "tags": []
          },
          "execution_count": 159
        }
      ]
    },
    {
      "cell_type": "code",
      "metadata": {
        "id": "963_xKoMvwD4",
        "colab": {
          "base_uri": "https://localhost:8080/"
        },
        "outputId": "38b00d8e-4e5b-497b-d8ff-d69dd7d5e5c4"
      },
      "source": [
        "train_set.train_labels.bincount() #frequency of each label, we have balanced class here"
      ],
      "execution_count": null,
      "outputs": [
        {
          "output_type": "stream",
          "text": [
            "/usr/local/lib/python3.6/dist-packages/torchvision/datasets/mnist.py:48: UserWarning: train_labels has been renamed targets\n",
            "  warnings.warn(\"train_labels has been renamed targets\")\n"
          ],
          "name": "stderr"
        },
        {
          "output_type": "execute_result",
          "data": {
            "text/plain": [
              "tensor([6000, 6000, 6000, 6000, 6000, 6000, 6000, 6000, 6000, 6000])"
            ]
          },
          "metadata": {
            "tags": []
          },
          "execution_count": 160
        }
      ]
    },
    {
      "cell_type": "code",
      "metadata": {
        "id": "6ZDV4g0av1Fs",
        "colab": {
          "base_uri": "https://localhost:8080/"
        },
        "outputId": "0afebda2-aca7-4824-9500-ee19875f0686"
      },
      "source": [
        "for e in train_set:\n",
        "  print(e)\n",
        "  break"
      ],
      "execution_count": null,
      "outputs": [
        {
          "output_type": "stream",
          "text": [
            "(tensor([[[0.0000, 0.0000, 0.0000, 0.0000, 0.0000, 0.0000, 0.0000, 0.0000, 0.0000, 0.0000, 0.0000, 0.0000, 0.0000,\n",
            "          0.0000, 0.0000, 0.0000, 0.0000, 0.0000, 0.0000, 0.0000, 0.0000, 0.0000, 0.0000, 0.0000, 0.0000, 0.0000,\n",
            "          0.0000, 0.0000],\n",
            "         [0.0000, 0.0000, 0.0000, 0.0000, 0.0000, 0.0000, 0.0000, 0.0000, 0.0000, 0.0000, 0.0000, 0.0000, 0.0000,\n",
            "          0.0000, 0.0000, 0.0000, 0.0000, 0.0000, 0.0000, 0.0000, 0.0000, 0.0000, 0.0000, 0.0000, 0.0000, 0.0000,\n",
            "          0.0000, 0.0000],\n",
            "         [0.0000, 0.0000, 0.0000, 0.0000, 0.0000, 0.0000, 0.0000, 0.0000, 0.0000, 0.0000, 0.0000, 0.0000, 0.0000,\n",
            "          0.0000, 0.0000, 0.0000, 0.0000, 0.0000, 0.0000, 0.0000, 0.0000, 0.0000, 0.0000, 0.0000, 0.0000, 0.0000,\n",
            "          0.0000, 0.0000],\n",
            "         [0.0000, 0.0000, 0.0000, 0.0000, 0.0000, 0.0000, 0.0000, 0.0000, 0.0000, 0.0000, 0.0000, 0.0000, 0.0039,\n",
            "          0.0000, 0.0000, 0.0510, 0.2863, 0.0000, 0.0000, 0.0039, 0.0157, 0.0000, 0.0000, 0.0000, 0.0000, 0.0039,\n",
            "          0.0039, 0.0000],\n",
            "         [0.0000, 0.0000, 0.0000, 0.0000, 0.0000, 0.0000, 0.0000, 0.0000, 0.0000, 0.0000, 0.0000, 0.0000, 0.0118,\n",
            "          0.0000, 0.1412, 0.5333, 0.4980, 0.2431, 0.2118, 0.0000, 0.0000, 0.0000, 0.0039, 0.0118, 0.0157, 0.0000,\n",
            "          0.0000, 0.0118],\n",
            "         [0.0000, 0.0000, 0.0000, 0.0000, 0.0000, 0.0000, 0.0000, 0.0000, 0.0000, 0.0000, 0.0000, 0.0000, 0.0235,\n",
            "          0.0000, 0.4000, 0.8000, 0.6902, 0.5255, 0.5647, 0.4824, 0.0902, 0.0000, 0.0000, 0.0000, 0.0000, 0.0471,\n",
            "          0.0392, 0.0000],\n",
            "         [0.0000, 0.0000, 0.0000, 0.0000, 0.0000, 0.0000, 0.0000, 0.0000, 0.0000, 0.0000, 0.0000, 0.0000, 0.0000,\n",
            "          0.0000, 0.6078, 0.9255, 0.8118, 0.6980, 0.4196, 0.6118, 0.6314, 0.4275, 0.2510, 0.0902, 0.3020, 0.5098,\n",
            "          0.2824, 0.0588],\n",
            "         [0.0000, 0.0000, 0.0000, 0.0000, 0.0000, 0.0000, 0.0000, 0.0000, 0.0000, 0.0000, 0.0000, 0.0039, 0.0000,\n",
            "          0.2706, 0.8118, 0.8745, 0.8549, 0.8471, 0.8471, 0.6392, 0.4980, 0.4745, 0.4784, 0.5725, 0.5529, 0.3451,\n",
            "          0.6745, 0.2588],\n",
            "         [0.0000, 0.0000, 0.0000, 0.0000, 0.0000, 0.0000, 0.0000, 0.0000, 0.0000, 0.0039, 0.0039, 0.0039, 0.0000,\n",
            "          0.7843, 0.9098, 0.9098, 0.9137, 0.8980, 0.8745, 0.8745, 0.8431, 0.8353, 0.6431, 0.4980, 0.4824, 0.7686,\n",
            "          0.8980, 0.0000],\n",
            "         [0.0000, 0.0000, 0.0000, 0.0000, 0.0000, 0.0000, 0.0000, 0.0000, 0.0000, 0.0000, 0.0000, 0.0000, 0.0000,\n",
            "          0.7176, 0.8824, 0.8471, 0.8745, 0.8941, 0.9216, 0.8902, 0.8784, 0.8706, 0.8784, 0.8667, 0.8745, 0.9608,\n",
            "          0.6784, 0.0000],\n",
            "         [0.0000, 0.0000, 0.0000, 0.0000, 0.0000, 0.0000, 0.0000, 0.0000, 0.0000, 0.0000, 0.0000, 0.0000, 0.0000,\n",
            "          0.7569, 0.8941, 0.8549, 0.8353, 0.7765, 0.7059, 0.8314, 0.8235, 0.8275, 0.8353, 0.8745, 0.8627, 0.9529,\n",
            "          0.7922, 0.0000],\n",
            "         [0.0000, 0.0000, 0.0000, 0.0000, 0.0000, 0.0000, 0.0000, 0.0000, 0.0000, 0.0039, 0.0118, 0.0000, 0.0471,\n",
            "          0.8588, 0.8627, 0.8314, 0.8549, 0.7529, 0.6627, 0.8902, 0.8157, 0.8549, 0.8784, 0.8314, 0.8863, 0.7725,\n",
            "          0.8196, 0.2039],\n",
            "         [0.0000, 0.0000, 0.0000, 0.0000, 0.0000, 0.0000, 0.0000, 0.0000, 0.0000, 0.0000, 0.0235, 0.0000, 0.3882,\n",
            "          0.9569, 0.8706, 0.8627, 0.8549, 0.7961, 0.7765, 0.8667, 0.8431, 0.8353, 0.8706, 0.8627, 0.9608, 0.4667,\n",
            "          0.6549, 0.2196],\n",
            "         [0.0000, 0.0000, 0.0000, 0.0000, 0.0000, 0.0000, 0.0000, 0.0000, 0.0000, 0.0157, 0.0000, 0.0000, 0.2157,\n",
            "          0.9255, 0.8941, 0.9020, 0.8941, 0.9412, 0.9098, 0.8353, 0.8549, 0.8745, 0.9176, 0.8510, 0.8510, 0.8196,\n",
            "          0.3608, 0.0000],\n",
            "         [0.0000, 0.0000, 0.0039, 0.0157, 0.0235, 0.0275, 0.0078, 0.0000, 0.0000, 0.0000, 0.0000, 0.0000, 0.9294,\n",
            "          0.8863, 0.8510, 0.8745, 0.8706, 0.8588, 0.8706, 0.8667, 0.8471, 0.8745, 0.8980, 0.8431, 0.8549, 1.0000,\n",
            "          0.3020, 0.0000],\n",
            "         [0.0000, 0.0118, 0.0000, 0.0000, 0.0000, 0.0000, 0.0000, 0.0000, 0.0000, 0.2431, 0.5686, 0.8000, 0.8941,\n",
            "          0.8118, 0.8353, 0.8667, 0.8549, 0.8157, 0.8275, 0.8549, 0.8784, 0.8745, 0.8588, 0.8431, 0.8784, 0.9569,\n",
            "          0.6235, 0.0000],\n",
            "         [0.0000, 0.0000, 0.0000, 0.0000, 0.0706, 0.1725, 0.3216, 0.4196, 0.7412, 0.8941, 0.8627, 0.8706, 0.8510,\n",
            "          0.8863, 0.7843, 0.8039, 0.8275, 0.9020, 0.8784, 0.9176, 0.6902, 0.7373, 0.9804, 0.9725, 0.9137, 0.9333,\n",
            "          0.8431, 0.0000],\n",
            "         [0.0000, 0.2235, 0.7333, 0.8157, 0.8784, 0.8667, 0.8784, 0.8157, 0.8000, 0.8392, 0.8157, 0.8196, 0.7843,\n",
            "          0.6235, 0.9608, 0.7569, 0.8078, 0.8745, 1.0000, 1.0000, 0.8667, 0.9176, 0.8667, 0.8275, 0.8627, 0.9098,\n",
            "          0.9647, 0.0000],\n",
            "         [0.0118, 0.7922, 0.8941, 0.8784, 0.8667, 0.8275, 0.8275, 0.8392, 0.8039, 0.8039, 0.8039, 0.8627, 0.9412,\n",
            "          0.3137, 0.5882, 1.0000, 0.8980, 0.8667, 0.7373, 0.6039, 0.7490, 0.8235, 0.8000, 0.8196, 0.8706, 0.8941,\n",
            "          0.8824, 0.0000],\n",
            "         [0.3843, 0.9137, 0.7765, 0.8235, 0.8706, 0.8980, 0.8980, 0.9176, 0.9765, 0.8627, 0.7608, 0.8431, 0.8510,\n",
            "          0.9451, 0.2549, 0.2863, 0.4157, 0.4588, 0.6588, 0.8588, 0.8667, 0.8431, 0.8510, 0.8745, 0.8745, 0.8784,\n",
            "          0.8980, 0.1137],\n",
            "         [0.2941, 0.8000, 0.8314, 0.8000, 0.7569, 0.8039, 0.8275, 0.8824, 0.8471, 0.7255, 0.7725, 0.8078, 0.7765,\n",
            "          0.8353, 0.9412, 0.7647, 0.8902, 0.9608, 0.9373, 0.8745, 0.8549, 0.8314, 0.8196, 0.8706, 0.8627, 0.8667,\n",
            "          0.9020, 0.2627],\n",
            "         [0.1882, 0.7961, 0.7176, 0.7608, 0.8353, 0.7725, 0.7255, 0.7451, 0.7608, 0.7529, 0.7922, 0.8392, 0.8588,\n",
            "          0.8667, 0.8627, 0.9255, 0.8824, 0.8471, 0.7804, 0.8078, 0.7294, 0.7098, 0.6941, 0.6745, 0.7098, 0.8039,\n",
            "          0.8078, 0.4510],\n",
            "         [0.0000, 0.4784, 0.8588, 0.7569, 0.7020, 0.6706, 0.7176, 0.7686, 0.8000, 0.8235, 0.8353, 0.8118, 0.8275,\n",
            "          0.8235, 0.7843, 0.7686, 0.7608, 0.7490, 0.7647, 0.7490, 0.7765, 0.7529, 0.6902, 0.6118, 0.6549, 0.6941,\n",
            "          0.8235, 0.3608],\n",
            "         [0.0000, 0.0000, 0.2902, 0.7412, 0.8314, 0.7490, 0.6863, 0.6745, 0.6863, 0.7098, 0.7255, 0.7373, 0.7412,\n",
            "          0.7373, 0.7569, 0.7765, 0.8000, 0.8196, 0.8235, 0.8235, 0.8275, 0.7373, 0.7373, 0.7608, 0.7529, 0.8471,\n",
            "          0.6667, 0.0000],\n",
            "         [0.0078, 0.0000, 0.0000, 0.0000, 0.2588, 0.7843, 0.8706, 0.9294, 0.9373, 0.9490, 0.9647, 0.9529, 0.9569,\n",
            "          0.8667, 0.8627, 0.7569, 0.7490, 0.7020, 0.7137, 0.7137, 0.7098, 0.6902, 0.6510, 0.6588, 0.3882, 0.2275,\n",
            "          0.0000, 0.0000],\n",
            "         [0.0000, 0.0000, 0.0000, 0.0000, 0.0000, 0.0000, 0.0000, 0.1569, 0.2392, 0.1725, 0.2824, 0.1608, 0.1373,\n",
            "          0.0000, 0.0000, 0.0000, 0.0000, 0.0000, 0.0000, 0.0000, 0.0000, 0.0000, 0.0000, 0.0000, 0.0000, 0.0000,\n",
            "          0.0000, 0.0000],\n",
            "         [0.0000, 0.0000, 0.0000, 0.0000, 0.0000, 0.0000, 0.0000, 0.0000, 0.0000, 0.0000, 0.0000, 0.0000, 0.0000,\n",
            "          0.0000, 0.0000, 0.0000, 0.0000, 0.0000, 0.0000, 0.0000, 0.0000, 0.0000, 0.0000, 0.0000, 0.0000, 0.0000,\n",
            "          0.0000, 0.0000],\n",
            "         [0.0000, 0.0000, 0.0000, 0.0000, 0.0000, 0.0000, 0.0000, 0.0000, 0.0000, 0.0000, 0.0000, 0.0000, 0.0000,\n",
            "          0.0000, 0.0000, 0.0000, 0.0000, 0.0000, 0.0000, 0.0000, 0.0000, 0.0000, 0.0000, 0.0000, 0.0000, 0.0000,\n",
            "          0.0000, 0.0000]]]), 9)\n"
          ],
          "name": "stdout"
        }
      ]
    },
    {
      "cell_type": "code",
      "metadata": {
        "id": "vFFeuRrIwJi-",
        "colab": {
          "base_uri": "https://localhost:8080/"
        },
        "outputId": "19d724f1-eeb6-4ea2-f3d1-7bcb2f088a4b"
      },
      "source": [
        "# so you can see we can iterate over our dataset\n",
        "\n",
        "sample = next(iter(range(10)))\n",
        "sample"
      ],
      "execution_count": null,
      "outputs": [
        {
          "output_type": "execute_result",
          "data": {
            "text/plain": [
              "0"
            ]
          },
          "metadata": {
            "tags": []
          },
          "execution_count": 164
        }
      ]
    },
    {
      "cell_type": "code",
      "metadata": {
        "id": "i8fLnGBQwbMT",
        "colab": {
          "base_uri": "https://localhost:8080/"
        },
        "outputId": "d1dd4cb1-483a-4fae-d267-8826b799fc1a"
      },
      "source": [
        "sample = next(iter(train_set))\n",
        "\n",
        "len(sample)"
      ],
      "execution_count": null,
      "outputs": [
        {
          "output_type": "execute_result",
          "data": {
            "text/plain": [
              "2"
            ]
          },
          "metadata": {
            "tags": []
          },
          "execution_count": 166
        }
      ]
    },
    {
      "cell_type": "code",
      "metadata": {
        "id": "KhfoJld3wdFS",
        "colab": {
          "base_uri": "https://localhost:8080/"
        },
        "outputId": "6e6fc465-9fb1-4097-df0d-59c428fb316d"
      },
      "source": [
        "type(sample)"
      ],
      "execution_count": null,
      "outputs": [
        {
          "output_type": "execute_result",
          "data": {
            "text/plain": [
              "tuple"
            ]
          },
          "metadata": {
            "tags": []
          },
          "execution_count": 167
        }
      ]
    },
    {
      "cell_type": "code",
      "metadata": {
        "id": "l7tivh0iwoOC"
      },
      "source": [
        "image, label = sample"
      ],
      "execution_count": null,
      "outputs": []
    },
    {
      "cell_type": "code",
      "metadata": {
        "id": "9a7IcDNywp0o",
        "colab": {
          "base_uri": "https://localhost:8080/"
        },
        "outputId": "731d8f98-05a8-4176-bc78-174474f3ed9b"
      },
      "source": [
        "# or\n",
        "image = sample[0]\n",
        "label = sample[1]\n",
        "\n",
        "\n",
        "image.shape, label"
      ],
      "execution_count": null,
      "outputs": [
        {
          "output_type": "execute_result",
          "data": {
            "text/plain": [
              "(torch.Size([1, 28, 28]), 9)"
            ]
          },
          "metadata": {
            "tags": []
          },
          "execution_count": 171
        }
      ]
    },
    {
      "cell_type": "code",
      "metadata": {
        "id": "Uprox6W-wuPa",
        "colab": {
          "base_uri": "https://localhost:8080/",
          "height": 283
        },
        "outputId": "cfee5101-d149-483f-e189-5815f48d6abf"
      },
      "source": [
        "plt.imshow(image.squeeze(), cmap='gray')\n",
        "print('label:', label)"
      ],
      "execution_count": null,
      "outputs": [
        {
          "output_type": "stream",
          "text": [
            "label: 9\n"
          ],
          "name": "stdout"
        },
        {
          "output_type": "display_data",
          "data": {
            "image/png": "[encoded data removed]",
            "text/plain": [
              "<Figure size 432x288 with 1 Axes>"
            ]
          },
          "metadata": {
            "tags": [],
            "needs_background": "light"
          }
        }
      ]
    },
    {
      "cell_type": "code",
      "metadata": {
        "id": "qWUStQmuxDGw",
        "colab": {
          "base_uri": "https://localhost:8080/"
        },
        "outputId": "006224f8-93cc-45cd-d190-9216f268f4a6"
      },
      "source": [
        "batch = next(iter(train_loader))\n",
        "\n",
        "len(batch), type(batch)"
      ],
      "execution_count": null,
      "outputs": [
        {
          "output_type": "execute_result",
          "data": {
            "text/plain": [
              "(2, list)"
            ]
          },
          "metadata": {
            "tags": []
          },
          "execution_count": 173
        }
      ]
    },
    {
      "cell_type": "code",
      "metadata": {
        "id": "-yv8RyH4xUFQ"
      },
      "source": [
        "images, labels = batch"
      ],
      "execution_count": null,
      "outputs": []
    },
    {
      "cell_type": "code",
      "metadata": {
        "id": "1V-_WP4KxV_O",
        "colab": {
          "base_uri": "https://localhost:8080/"
        },
        "outputId": "5c25d8b9-8ab3-4718-c0f6-a2e47755721a"
      },
      "source": [
        "image.shape, labels.shape"
      ],
      "execution_count": null,
      "outputs": [
        {
          "output_type": "execute_result",
          "data": {
            "text/plain": [
              "(torch.Size([1, 28, 28]), torch.Size([10]))"
            ]
          },
          "metadata": {
            "tags": []
          },
          "execution_count": 179
        }
      ]
    },
    {
      "cell_type": "code",
      "metadata": {
        "id": "vZUzOebYxYom",
        "colab": {
          "base_uri": "https://localhost:8080/",
          "height": 157
        },
        "outputId": "707eaecf-6405-4612-93fa-55560fb0087a"
      },
      "source": [
        "grid = torchvision.utils.make_grid(images, nrow=10)\n",
        "plt.figure(figsize=(15,15))\n",
        "plt.imshow(np.transpose(grid, (1,2,0)))\n",
        "print('labels:', labels)"
      ],
      "execution_count": null,
      "outputs": [
        {
          "output_type": "stream",
          "text": [
            "labels: tensor([4, 0, 7, 8, 1, 7, 6, 3, 5, 2])\n"
          ],
          "name": "stdout"
        },
        {
          "output_type": "display_data",
          "data": {
            "image/png": "[encoded data removed]",
            "text/plain": [
              "<Figure size 1080x1080 with 1 Axes>"
            ]
          },
          "metadata": {
            "tags": [],
            "needs_background": "light"
          }
        }
      ]
    },
    {
      "cell_type": "markdown",
      "metadata": {
        "id": "3SAT2cT5x-aC"
      },
      "source": [
        "# Let's build a network\n",
        "\n",
        "Below is the basic structure of a Model"
      ]
    },
    {
      "cell_type": "code",
      "metadata": {
        "id": "xOkUfpwjxpmT"
      },
      "source": [
        "import torch.nn as nn\n",
        "\n",
        "class Network(nn.Module):\n",
        "    def __init__(self):\n",
        "        super().__init__()\n",
        "        self.layer = None\n",
        "\n",
        "    def forward(self, t):\n",
        "        t = self.layer(t)\n",
        "        return t"
      ],
      "execution_count": null,
      "outputs": []
    },
    {
      "cell_type": "markdown",
      "metadata": {
        "id": "APMKJrmGygcv"
      },
      "source": [
        "Let's make something usable"
      ]
    },
    {
      "cell_type": "code",
      "metadata": {
        "id": "mZKhLOfoyZnB"
      },
      "source": [
        "class Network(nn.Module):\n",
        "    def __init__(self):\n",
        "        super().__init__()\n",
        "        self.conv1 = nn.Conv2d(in_channels=1, out_channels=6, kernel_size=5)\n",
        "        self.conv2 = nn.Conv2d(in_channels=6, out_channels=12, kernel_size=5)\n",
        "\n",
        "        self.fc1 = nn.Linear(in_features=12 * 4 * 4, out_features=120)\n",
        "        self.fc2 = nn.Linear(in_features=120, out_features=60)\n",
        "        self.out = nn.Linear(in_features=60, out_features=10)\n",
        "\n",
        "    def forward(self, t):\n",
        "        # implement the forward pass\n",
        "        return t"
      ],
      "execution_count": null,
      "outputs": []
    },
    {
      "cell_type": "code",
      "metadata": {
        "id": "79iB8Yc2y7f2",
        "colab": {
          "base_uri": "https://localhost:8080/"
        },
        "outputId": "d0fd7b8f-9a3d-4a5a-8ced-1b973e4c6e97"
      },
      "source": [
        "network = Network()\n",
        "\n",
        "print(network)"
      ],
      "execution_count": null,
      "outputs": [
        {
          "output_type": "stream",
          "text": [
            "Network(\n",
            "  (conv1): Conv2d(1, 6, kernel_size=(5, 5), stride=(1, 1))\n",
            "  (conv2): Conv2d(6, 12, kernel_size=(5, 5), stride=(1, 1))\n",
            "  (fc1): Linear(in_features=192, out_features=120, bias=True)\n",
            "  (fc2): Linear(in_features=120, out_features=60, bias=True)\n",
            "  (out): Linear(in_features=60, out_features=10, bias=True)\n",
            ")\n"
          ],
          "name": "stdout"
        }
      ]
    },
    {
      "cell_type": "code",
      "metadata": {
        "id": "Pm8wygVny-ui",
        "colab": {
          "base_uri": "https://localhost:8080/"
        },
        "outputId": "48f08541-da55-4441-9e85-ce77f28ae447"
      },
      "source": [
        "# accessing the network layers\n",
        "\n",
        "network.conv1"
      ],
      "execution_count": null,
      "outputs": [
        {
          "output_type": "execute_result",
          "data": {
            "text/plain": [
              "Conv2d(1, 6, kernel_size=(5, 5), stride=(1, 1))"
            ]
          },
          "metadata": {
            "tags": []
          },
          "execution_count": 189
        }
      ]
    },
    {
      "cell_type": "code",
      "metadata": {
        "id": "mgbfEryCzWEz",
        "colab": {
          "base_uri": "https://localhost:8080/"
        },
        "outputId": "53ee4b39-8dbc-4edc-afb1-1bd09acff59a"
      },
      "source": [
        "network.conv2"
      ],
      "execution_count": null,
      "outputs": [
        {
          "output_type": "execute_result",
          "data": {
            "text/plain": [
              "Conv2d(6, 12, kernel_size=(5, 5), stride=(1, 1))"
            ]
          },
          "metadata": {
            "tags": []
          },
          "execution_count": 190
        }
      ]
    },
    {
      "cell_type": "code",
      "metadata": {
        "id": "q1kW-9bczXgX",
        "colab": {
          "base_uri": "https://localhost:8080/"
        },
        "outputId": "68b3ead7-3de5-42f0-c1a7-9692676156f5"
      },
      "source": [
        "network.fc1"
      ],
      "execution_count": null,
      "outputs": [
        {
          "output_type": "execute_result",
          "data": {
            "text/plain": [
              "Linear(in_features=192, out_features=120, bias=True)"
            ]
          },
          "metadata": {
            "tags": []
          },
          "execution_count": 191
        }
      ]
    },
    {
      "cell_type": "code",
      "metadata": {
        "id": "e-U5zEcIzYlh",
        "colab": {
          "base_uri": "https://localhost:8080/"
        },
        "outputId": "ac280374-11ad-4bcf-a520-d9de69d95aa9"
      },
      "source": [
        "network.fc2"
      ],
      "execution_count": null,
      "outputs": [
        {
          "output_type": "execute_result",
          "data": {
            "text/plain": [
              "Linear(in_features=120, out_features=60, bias=True)"
            ]
          },
          "metadata": {
            "tags": []
          },
          "execution_count": 192
        }
      ]
    },
    {
      "cell_type": "code",
      "metadata": {
        "id": "o7WwX9xizY4W",
        "colab": {
          "base_uri": "https://localhost:8080/"
        },
        "outputId": "5f0b55c3-42df-4535-94dc-40aeea39229a"
      },
      "source": [
        "network.out"
      ],
      "execution_count": null,
      "outputs": [
        {
          "output_type": "execute_result",
          "data": {
            "text/plain": [
              "Linear(in_features=60, out_features=10, bias=True)"
            ]
          },
          "metadata": {
            "tags": []
          },
          "execution_count": 193
        }
      ]
    },
    {
      "cell_type": "markdown",
      "metadata": {
        "id": "rqux2WY8zbXo"
      },
      "source": [
        "[link text](https://)### Accessing the Layer Weights"
      ]
    },
    {
      "cell_type": "code",
      "metadata": {
        "id": "xGLqBdodzZpf",
        "colab": {
          "base_uri": "https://localhost:8080/"
        },
        "outputId": "72fa198e-eab3-4bbc-f214-b6dc2f4bd206"
      },
      "source": [
        "network.conv1.weight"
      ],
      "execution_count": null,
      "outputs": [
        {
          "output_type": "execute_result",
          "data": {
            "text/plain": [
              "Parameter containing:\n",
              "tensor([[[[-0.1101,  0.0884,  0.0630,  0.1012, -0.0329],\n",
              "          [-0.1152, -0.1775, -0.0599,  0.0456, -0.1901],\n",
              "          [ 0.0752, -0.0049, -0.1704,  0.1706, -0.0733],\n",
              "          [-0.0889,  0.1509, -0.1346,  0.0269,  0.1308],\n",
              "          [-0.1756,  0.1903, -0.0417,  0.1985,  0.0328]]],\n",
              "\n",
              "\n",
              "        [[[-0.1535, -0.0898,  0.0305,  0.1851,  0.0779],\n",
              "          [-0.1738, -0.1094, -0.1938, -0.0830, -0.1713],\n",
              "          [ 0.0394, -0.0109, -0.0626,  0.1235, -0.0612],\n",
              "          [-0.1656,  0.0233, -0.0984,  0.1046, -0.0107],\n",
              "          [ 0.1512,  0.1431,  0.0910,  0.0427,  0.1661]]],\n",
              "\n",
              "\n",
              "        [[[ 0.0492, -0.0683, -0.1744, -0.1581, -0.0835],\n",
              "          [ 0.1614, -0.0378, -0.1463, -0.1989,  0.0790],\n",
              "          [ 0.1398, -0.0612, -0.1788,  0.0740,  0.0787],\n",
              "          [-0.0281, -0.1831,  0.0816, -0.1282,  0.1465],\n",
              "          [-0.1684,  0.1588, -0.0325,  0.1356,  0.0748]]],\n",
              "\n",
              "\n",
              "        [[[ 0.0774,  0.0345, -0.1580, -0.1282, -0.0316],\n",
              "          [ 0.1850,  0.0149, -0.0018, -0.0536,  0.0901],\n",
              "          [-0.0923,  0.0788,  0.0908,  0.1827, -0.0856],\n",
              "          [-0.1405, -0.0845,  0.0974,  0.0372,  0.0646],\n",
              "          [ 0.0387,  0.0174, -0.0826, -0.1611,  0.0223]]],\n",
              "\n",
              "\n",
              "        [[[-0.1705,  0.0520, -0.0126,  0.0380,  0.1514],\n",
              "          [ 0.1105,  0.1136,  0.1644, -0.1975, -0.1893],\n",
              "          [ 0.0059,  0.0751, -0.0527,  0.0533, -0.0178],\n",
              "          [ 0.0774, -0.0223, -0.1460, -0.0805, -0.1944],\n",
              "          [ 0.1401,  0.1749,  0.1055,  0.0441,  0.1129]]],\n",
              "\n",
              "\n",
              "        [[[-0.0949,  0.1570, -0.1520, -0.0710, -0.0782],\n",
              "          [ 0.1955, -0.0478, -0.1044, -0.1180,  0.0412],\n",
              "          [ 0.1391,  0.1132,  0.1785,  0.1454, -0.0684],\n",
              "          [ 0.0123,  0.1013,  0.0849, -0.1277,  0.0269],\n",
              "          [ 0.0108,  0.1766,  0.0331, -0.1186, -0.0838]]]], requires_grad=True)"
            ]
          },
          "metadata": {
            "tags": []
          },
          "execution_count": 194
        }
      ]
    },
    {
      "cell_type": "code",
      "metadata": {
        "id": "wFr1G6AOzeqh",
        "colab": {
          "base_uri": "https://localhost:8080/"
        },
        "outputId": "67397f35-6c7b-4114-a97b-3932b2d03be4"
      },
      "source": [
        "network.fc2.weight"
      ],
      "execution_count": null,
      "outputs": [
        {
          "output_type": "execute_result",
          "data": {
            "text/plain": [
              "Parameter containing:\n",
              "tensor([[ 0.0451,  0.0590,  0.0219,  ..., -0.0896, -0.0363,  0.0620],\n",
              "        [-0.0154,  0.0705,  0.0482,  ..., -0.0905,  0.0007,  0.0006],\n",
              "        [ 0.0710, -0.0882,  0.0237,  ...,  0.0150,  0.0153, -0.0685],\n",
              "        ...,\n",
              "        [ 0.0718, -0.0581,  0.0817,  ..., -0.0633,  0.0494,  0.0210],\n",
              "        [ 0.0081,  0.0693, -0.0575,  ...,  0.0499, -0.0830, -0.0796],\n",
              "        [-0.0910,  0.0671,  0.0805,  ...,  0.0566, -0.0066, -0.0199]], requires_grad=True)"
            ]
          },
          "metadata": {
            "tags": []
          },
          "execution_count": 195
        }
      ]
    },
    {
      "cell_type": "code",
      "metadata": {
        "id": "-NCjZmXFzkNj",
        "colab": {
          "base_uri": "https://localhost:8080/"
        },
        "outputId": "dc8b8ec6-5a0e-49dc-89a5-dcc1f2def431"
      },
      "source": [
        "network.fc1.weight.shape"
      ],
      "execution_count": null,
      "outputs": [
        {
          "output_type": "execute_result",
          "data": {
            "text/plain": [
              "torch.Size([120, 192])"
            ]
          },
          "metadata": {
            "tags": []
          },
          "execution_count": 199
        }
      ]
    },
    {
      "cell_type": "code",
      "metadata": {
        "id": "EuL52GGfzshd",
        "colab": {
          "base_uri": "https://localhost:8080/"
        },
        "outputId": "ad897573-6dfb-4f9d-ddc5-e7e0f7afb050"
      },
      "source": [
        "network.out.weight.shape"
      ],
      "execution_count": null,
      "outputs": [
        {
          "output_type": "execute_result",
          "data": {
            "text/plain": [
              "torch.Size([10, 60])"
            ]
          },
          "metadata": {
            "tags": []
          },
          "execution_count": 201
        }
      ]
    },
    {
      "cell_type": "code",
      "metadata": {
        "id": "8rMINNPrz_8W",
        "colab": {
          "base_uri": "https://localhost:8080/"
        },
        "outputId": "ebd55700-f228-4454-9a91-b11f556a5547"
      },
      "source": [
        "for param in network.parameters():\n",
        "    print(param.shape)"
      ],
      "execution_count": null,
      "outputs": [
        {
          "output_type": "stream",
          "text": [
            "torch.Size([6, 1, 5, 5])\n",
            "torch.Size([6])\n",
            "torch.Size([12, 6, 5, 5])\n",
            "torch.Size([12])\n",
            "torch.Size([120, 192])\n",
            "torch.Size([120])\n",
            "torch.Size([60, 120])\n",
            "torch.Size([60])\n",
            "torch.Size([10, 60])\n",
            "torch.Size([10])\n"
          ],
          "name": "stdout"
        }
      ]
    },
    {
      "cell_type": "code",
      "metadata": {
        "id": "xMxLuboL0IF_",
        "colab": {
          "base_uri": "https://localhost:8080/"
        },
        "outputId": "88b0e922-5afb-4d3f-822c-a83b2320ab9e"
      },
      "source": [
        "for name, param in network.named_parameters():\n",
        "    print(name, '\\t\\t', param.shape)"
      ],
      "execution_count": null,
      "outputs": [
        {
          "output_type": "stream",
          "text": [
            "conv1.weight \t\t torch.Size([6, 1, 5, 5])\n",
            "conv1.bias \t\t torch.Size([6])\n",
            "conv2.weight \t\t torch.Size([12, 6, 5, 5])\n",
            "conv2.bias \t\t torch.Size([12])\n",
            "fc1.weight \t\t torch.Size([120, 192])\n",
            "fc1.bias \t\t torch.Size([120])\n",
            "fc2.weight \t\t torch.Size([60, 120])\n",
            "fc2.bias \t\t torch.Size([60])\n",
            "out.weight \t\t torch.Size([10, 60])\n",
            "out.bias \t\t torch.Size([10])\n"
          ],
          "name": "stdout"
        }
      ]
    },
    {
      "cell_type": "markdown",
      "metadata": {
        "id": "sRxFavog0guT"
      },
      "source": [
        "### Full Network"
      ]
    },
    {
      "cell_type": "code",
      "metadata": {
        "id": "Cke1USA00Jqz"
      },
      "source": [
        "import torch.nn.functional as F\n",
        "class Network(nn.Module):\n",
        "    def __init__(self):\n",
        "        super().__init__()\n",
        "        self.conv1 = nn.Conv2d(in_channels=1, out_channels=6, kernel_size=5)\n",
        "        self.conv2 = nn.Conv2d(in_channels=6, out_channels=12, kernel_size=5)\n",
        "\n",
        "        self.fc1 = nn.Linear(in_features=12 * 4 * 4, out_features=120)\n",
        "        self.fc2 = nn.Linear(in_features=120, out_features=60)\n",
        "        self.out = nn.Linear(in_features=60, out_features=10)\n",
        "\n",
        "    def forward(self, t):\n",
        "        # (1) input layer\n",
        "        t = t\n",
        "\n",
        "        # (2) hidden conv layer\n",
        "        t = self.conv1(t)\n",
        "        t = F.relu(t)\n",
        "        t = F.max_pool2d(t, kernel_size=2, stride=2)\n",
        "\n",
        "        # (3) hidden conv layer\n",
        "        t = self.conv2(t)\n",
        "        t = F.relu(t)\n",
        "        t = F.max_pool2d(t, kernel_size=2, stride=2)\n",
        "\n",
        "        # (4) hidden linear layer\n",
        "        t = t.reshape(-1, 12 * 4 * 4)\n",
        "        t = self.fc1(t)\n",
        "        t = F.relu(t)\n",
        "\n",
        "        # (5) hidden linear layer\n",
        "        t = self.fc2(t)\n",
        "        t = F.relu(t)\n",
        "\n",
        "        # (6) output layer\n",
        "        t = self.out(t)\n",
        "        #t = F.softmax(t, dim=1)\n",
        "\n",
        "        return t"
      ],
      "execution_count": null,
      "outputs": []
    },
    {
      "cell_type": "code",
      "metadata": {
        "id": "FvP-prOP0m_P"
      },
      "source": [
        "# We can turn the dynamic graphing/gradients feature OFF, since we aren't going to be training it for sometime. It also saves memory"
      ],
      "execution_count": null,
      "outputs": []
    },
    {
      "cell_type": "code",
      "metadata": {
        "id": "AxqezksJ1LYa",
        "colab": {
          "base_uri": "https://localhost:8080/"
        },
        "outputId": "bf79df58-f8ee-4143-f7cc-2801a655ebb4"
      },
      "source": [
        "torch.set_grad_enabled(False)"
      ],
      "execution_count": null,
      "outputs": [
        {
          "output_type": "execute_result",
          "data": {
            "text/plain": [
              "<torch.autograd.grad_mode.set_grad_enabled at 0x7f2727890128>"
            ]
          },
          "metadata": {
            "tags": []
          },
          "execution_count": 215
        }
      ]
    },
    {
      "cell_type": "code",
      "metadata": {
        "id": "UbQHPlZy1NNQ",
        "colab": {
          "base_uri": "https://localhost:8080/"
        },
        "outputId": "be0deeaf-d92f-4659-ff07-3d89c9ac4abf"
      },
      "source": [
        "sample = next(iter(train_set))\n",
        "image, label = sample\n",
        "image.shape, image.unsqueeze(0).shape"
      ],
      "execution_count": null,
      "outputs": [
        {
          "output_type": "execute_result",
          "data": {
            "text/plain": [
              "(torch.Size([1, 28, 28]), torch.Size([1, 1, 28, 28]))"
            ]
          },
          "metadata": {
            "tags": []
          },
          "execution_count": 216
        }
      ]
    },
    {
      "cell_type": "code",
      "metadata": {
        "id": "NIl8xuyW1YN-"
      },
      "source": [
        "network = Network()\n",
        "pred = network(image.unsqueeze(0)) # image shape needs to be (batch_size × in_channels × H × W)\n"
      ],
      "execution_count": null,
      "outputs": []
    },
    {
      "cell_type": "code",
      "metadata": {
        "id": "l3ycjF4Q1bsF",
        "colab": {
          "base_uri": "https://localhost:8080/"
        },
        "outputId": "14fcdc53-90b6-43a9-9795-164a96b19504"
      },
      "source": [
        "pred"
      ],
      "execution_count": null,
      "outputs": [
        {
          "output_type": "execute_result",
          "data": {
            "text/plain": [
              "tensor([[-0.0192,  0.0346, -0.0196, -0.1215,  0.1187,  0.0928, -0.0729, -0.0298,  0.0861,  0.1029]])"
            ]
          },
          "metadata": {
            "tags": []
          },
          "execution_count": 218
        }
      ]
    },
    {
      "cell_type": "code",
      "metadata": {
        "id": "320AJS3P1dri",
        "colab": {
          "base_uri": "https://localhost:8080/"
        },
        "outputId": "9182faec-d80e-4070-dfae-b54e9bb610aa"
      },
      "source": [
        "pred.shape"
      ],
      "execution_count": null,
      "outputs": [
        {
          "output_type": "execute_result",
          "data": {
            "text/plain": [
              "torch.Size([1, 10])"
            ]
          },
          "metadata": {
            "tags": []
          },
          "execution_count": 219
        }
      ]
    },
    {
      "cell_type": "code",
      "metadata": {
        "id": "WCW3hPT51e6e",
        "colab": {
          "base_uri": "https://localhost:8080/"
        },
        "outputId": "1e0caa06-38fa-474c-ed6e-f3853c4c5cd3"
      },
      "source": [
        "label"
      ],
      "execution_count": null,
      "outputs": [
        {
          "output_type": "execute_result",
          "data": {
            "text/plain": [
              "9"
            ]
          },
          "metadata": {
            "tags": []
          },
          "execution_count": 220
        }
      ]
    },
    {
      "cell_type": "code",
      "metadata": {
        "id": "_BySjUxN2M5Z",
        "colab": {
          "base_uri": "https://localhost:8080/"
        },
        "outputId": "7a441887-c0e6-4bff-fbb9-e7988ed738ed"
      },
      "source": [
        "pred.argmax(dim=1)"
      ],
      "execution_count": null,
      "outputs": [
        {
          "output_type": "execute_result",
          "data": {
            "text/plain": [
              "tensor([4])"
            ]
          },
          "metadata": {
            "tags": []
          },
          "execution_count": 221
        }
      ]
    },
    {
      "cell_type": "code",
      "metadata": {
        "id": "eevFji4O2P2N",
        "colab": {
          "base_uri": "https://localhost:8080/"
        },
        "outputId": "a1786e4c-8480-4f27-846a-9ab88d6af418"
      },
      "source": [
        "F.softmax(pred, dim=1)"
      ],
      "execution_count": null,
      "outputs": [
        {
          "output_type": "execute_result",
          "data": {
            "text/plain": [
              "tensor([[0.0961, 0.1014, 0.0961, 0.0868, 0.1103, 0.1075, 0.0911, 0.0951, 0.1068, 0.1086]])"
            ]
          },
          "metadata": {
            "tags": []
          },
          "execution_count": 225
        }
      ]
    },
    {
      "cell_type": "code",
      "metadata": {
        "id": "QvykZneI2ZLK",
        "colab": {
          "base_uri": "https://localhost:8080/"
        },
        "outputId": "1cd69891-76a8-4c82-d72c-9038fed6f8f2"
      },
      "source": [
        "F.softmax(pred, dim=1).sum()"
      ],
      "execution_count": null,
      "outputs": [
        {
          "output_type": "execute_result",
          "data": {
            "text/plain": [
              "tensor(1.)"
            ]
          },
          "metadata": {
            "tags": []
          },
          "execution_count": 226
        }
      ]
    },
    {
      "cell_type": "markdown",
      "metadata": {
        "id": "OIUWuHlF2vd0"
      },
      "source": [
        "But that was 1 image only, lets now send a batch of images."
      ]
    },
    {
      "cell_type": "code",
      "metadata": {
        "id": "rVVEr-d92cGP",
        "colab": {
          "base_uri": "https://localhost:8080/"
        },
        "outputId": "b0a62c5b-557f-4e7b-fce2-1d1be8cef401"
      },
      "source": [
        "data_loader = torch.utils.data.DataLoader(\n",
        "    train_set,\n",
        "    batch_size=10\n",
        ")\n",
        "\n",
        "batch = next(iter(data_loader))\n",
        "len(batch)"
      ],
      "execution_count": null,
      "outputs": [
        {
          "output_type": "execute_result",
          "data": {
            "text/plain": [
              "2"
            ]
          },
          "metadata": {
            "tags": []
          },
          "execution_count": 230
        }
      ]
    },
    {
      "cell_type": "code",
      "metadata": {
        "id": "WB7ll75W29wk",
        "colab": {
          "base_uri": "https://localhost:8080/"
        },
        "outputId": "0b6e918f-97ae-47c3-ee47-b01e25270d09"
      },
      "source": [
        "batch[1]"
      ],
      "execution_count": null,
      "outputs": [
        {
          "output_type": "execute_result",
          "data": {
            "text/plain": [
              "tensor([9, 0, 0, 3, 0, 2, 7, 2, 5, 5])"
            ]
          },
          "metadata": {
            "tags": []
          },
          "execution_count": 231
        }
      ]
    },
    {
      "cell_type": "code",
      "metadata": {
        "id": "dR-lLMIN3K66"
      },
      "source": [
        "images, labels = batch"
      ],
      "execution_count": null,
      "outputs": []
    },
    {
      "cell_type": "code",
      "metadata": {
        "id": "pKQR8Hc33Ntm",
        "colab": {
          "base_uri": "https://localhost:8080/"
        },
        "outputId": "9166985f-440c-4412-ba4e-ff48587cecfc"
      },
      "source": [
        "images.shape"
      ],
      "execution_count": null,
      "outputs": [
        {
          "output_type": "execute_result",
          "data": {
            "text/plain": [
              "torch.Size([10, 1, 28, 28])"
            ]
          },
          "metadata": {
            "tags": []
          },
          "execution_count": 233
        }
      ]
    },
    {
      "cell_type": "code",
      "metadata": {
        "id": "3_A8awID3QpU",
        "colab": {
          "base_uri": "https://localhost:8080/"
        },
        "outputId": "a7e78081-4194-4181-9a38-80e70a9200f2"
      },
      "source": [
        "preds = network(images)\n",
        "\n",
        "preds.shape"
      ],
      "execution_count": null,
      "outputs": [
        {
          "output_type": "execute_result",
          "data": {
            "text/plain": [
              "torch.Size([10, 10])"
            ]
          },
          "metadata": {
            "tags": []
          },
          "execution_count": 234
        }
      ]
    },
    {
      "cell_type": "code",
      "metadata": {
        "id": "pEWre3vC3UVs",
        "colab": {
          "base_uri": "https://localhost:8080/"
        },
        "outputId": "b33e8c36-6cfa-4e29-a205-9972682ab12f"
      },
      "source": [
        "preds"
      ],
      "execution_count": null,
      "outputs": [
        {
          "output_type": "execute_result",
          "data": {
            "text/plain": [
              "tensor([[-0.0192,  0.0346, -0.0196, -0.1215,  0.1187,  0.0928, -0.0729, -0.0298,  0.0861,  0.1029],\n",
              "        [-0.0188,  0.0303, -0.0168, -0.1274,  0.1198,  0.0938, -0.0754, -0.0293,  0.0899,  0.1013],\n",
              "        [-0.0210,  0.0305, -0.0212, -0.1232,  0.1197,  0.0920, -0.0788, -0.0290,  0.0844,  0.1034],\n",
              "        [-0.0214,  0.0306, -0.0203, -0.1246,  0.1181,  0.0922, -0.0774, -0.0285,  0.0868,  0.1020],\n",
              "        [-0.0193,  0.0324, -0.0199, -0.1235,  0.1173,  0.0918, -0.0754, -0.0301,  0.0906,  0.0991],\n",
              "        [-0.0207,  0.0313, -0.0169, -0.1245,  0.1185,  0.0943, -0.0737, -0.0288,  0.0882,  0.1025],\n",
              "        [-0.0214,  0.0323, -0.0239, -0.1218,  0.1222,  0.0967, -0.0763, -0.0330,  0.0817,  0.1023],\n",
              "        [-0.0220,  0.0321, -0.0165, -0.1226,  0.1166,  0.0941, -0.0741, -0.0274,  0.0880,  0.1024],\n",
              "        [-0.0228,  0.0290, -0.0207, -0.1222,  0.1180,  0.0922, -0.0780, -0.0294,  0.0821,  0.1048],\n",
              "        [-0.0183,  0.0305, -0.0199, -0.1238,  0.1187,  0.0940, -0.0736, -0.0308,  0.0818,  0.1041]])"
            ]
          },
          "metadata": {
            "tags": []
          },
          "execution_count": 235
        }
      ]
    },
    {
      "cell_type": "code",
      "metadata": {
        "id": "URRkHOYB3WFM",
        "colab": {
          "base_uri": "https://localhost:8080/"
        },
        "outputId": "59be9b0b-b0d1-4878-91aa-2322ed0a94e4"
      },
      "source": [
        "preds.argmax(dim=1)"
      ],
      "execution_count": null,
      "outputs": [
        {
          "output_type": "execute_result",
          "data": {
            "text/plain": [
              "tensor([4, 4, 4, 4, 4, 4, 4, 4, 4, 4])"
            ]
          },
          "metadata": {
            "tags": []
          },
          "execution_count": 236
        }
      ]
    },
    {
      "cell_type": "code",
      "metadata": {
        "id": "bm2c6VZy3YG0",
        "colab": {
          "base_uri": "https://localhost:8080/"
        },
        "outputId": "02e899b3-db2a-4b92-8f08-4cb719276542"
      },
      "source": [
        "preds.argmax(dim=1).eq(labels)"
      ],
      "execution_count": null,
      "outputs": [
        {
          "output_type": "execute_result",
          "data": {
            "text/plain": [
              "tensor([False, False, False, False, False, False, False, False, False, False])"
            ]
          },
          "metadata": {
            "tags": []
          },
          "execution_count": 237
        }
      ]
    },
    {
      "cell_type": "code",
      "metadata": {
        "id": "JlD9eilA3iqU",
        "colab": {
          "base_uri": "https://localhost:8080/"
        },
        "outputId": "2f35b71b-da36-40a8-97e2-0fde525d2144"
      },
      "source": [
        "preds.argmax(dim=1).eq(labels).sum()"
      ],
      "execution_count": null,
      "outputs": [
        {
          "output_type": "execute_result",
          "data": {
            "text/plain": [
              "tensor(0)"
            ]
          },
          "metadata": {
            "tags": []
          },
          "execution_count": 238
        }
      ]
    },
    {
      "cell_type": "code",
      "metadata": {
        "id": "qzKlJggq3r7U"
      },
      "source": [
        "def get_num_correct(preds, labels):\n",
        "  return preds.argmax(dim=1).eq(labels).sum().item()"
      ],
      "execution_count": null,
      "outputs": []
    },
    {
      "cell_type": "code",
      "metadata": {
        "id": "6064BrtI3xKl",
        "colab": {
          "base_uri": "https://localhost:8080/"
        },
        "outputId": "b4f28567-6ec5-4e4c-943e-a17d31759c82"
      },
      "source": [
        "get_num_correct(preds, labels)"
      ],
      "execution_count": null,
      "outputs": [
        {
          "output_type": "execute_result",
          "data": {
            "text/plain": [
              "0"
            ]
          },
          "metadata": {
            "tags": []
          },
          "execution_count": 240
        }
      ]
    },
    {
      "cell_type": "markdown",
      "metadata": {
        "id": "b0nNBDMf4Dsg"
      },
      "source": [
        "# Training\n",
        "\n",
        "During the entire training process, we do as many epochs as necessary to reach our desired level of accuracy. With this, we have the following steps:\n",
        "\n",
        "Get batch from the training set.\n",
        "Pass batch to network.\n",
        "Calculate the loss (difference between the predicted values and the true values).\n",
        "Calculate the gradient of the loss function w.r.t the network's weights.\n",
        "Update the weights using the gradients to reduce the loss.\n",
        "Repeat steps 1-5 until one epoch is completed.\n",
        "Repeat steps 1-6 for as many epochs required to reach the minimum loss."
      ]
    },
    {
      "cell_type": "code",
      "metadata": {
        "id": "GEDjCKyr3yeT",
        "colab": {
          "base_uri": "https://localhost:8080/"
        },
        "outputId": "d6c76ec2-7dca-45dd-fd88-e5127bfcadf2"
      },
      "source": [
        "import torch.optim as optim\n",
        "\n",
        "torch.set_grad_enabled(True) # remember we turned off the gradients?"
      ],
      "execution_count": null,
      "outputs": [
        {
          "output_type": "execute_result",
          "data": {
            "text/plain": [
              "<torch.autograd.grad_mode.set_grad_enabled at 0x7f27277eb7b8>"
            ]
          },
          "metadata": {
            "tags": []
          },
          "execution_count": 242
        }
      ]
    },
    {
      "cell_type": "markdown",
      "metadata": {
        "id": "6elKfBof4j1R"
      },
      "source": [
        "### LOSS"
      ]
    },
    {
      "cell_type": "code",
      "metadata": {
        "id": "5qUZm1Co4Ynz",
        "colab": {
          "base_uri": "https://localhost:8080/"
        },
        "outputId": "86373adf-a2d7-41b3-8316-7670a658feba"
      },
      "source": [
        "preds = network(images)\n",
        "loss = F.cross_entropy(preds, labels)\n",
        "loss.item()"
      ],
      "execution_count": null,
      "outputs": [
        {
          "output_type": "execute_result",
          "data": {
            "text/plain": [
              "2.3180665969848633"
            ]
          },
          "metadata": {
            "tags": []
          },
          "execution_count": 243
        }
      ]
    },
    {
      "cell_type": "markdown",
      "metadata": {
        "id": "zE3G1r2n4lhy"
      },
      "source": [
        "### Calculating the gradients"
      ]
    },
    {
      "cell_type": "code",
      "metadata": {
        "id": "MMpOsCM_4gUW",
        "colab": {
          "base_uri": "https://localhost:8080/"
        },
        "outputId": "5d90cd2d-1b55-4704-d56f-e6e87601646c"
      },
      "source": [
        "print(network.conv1.weight.grad) # currently there are no gradients"
      ],
      "execution_count": null,
      "outputs": [
        {
          "output_type": "stream",
          "text": [
            "None\n"
          ],
          "name": "stdout"
        }
      ]
    },
    {
      "cell_type": "code",
      "metadata": {
        "id": "8ZSVOeIz4t30"
      },
      "source": [
        "loss.backward()"
      ],
      "execution_count": null,
      "outputs": []
    },
    {
      "cell_type": "code",
      "metadata": {
        "id": "1Z14tYzB4vNX",
        "colab": {
          "base_uri": "https://localhost:8080/"
        },
        "outputId": "b2fce5e4-b106-4982-bf48-65cbfe224fcb"
      },
      "source": [
        "network.conv1.weight.grad.shape"
      ],
      "execution_count": null,
      "outputs": [
        {
          "output_type": "execute_result",
          "data": {
            "text/plain": [
              "torch.Size([6, 1, 5, 5])"
            ]
          },
          "metadata": {
            "tags": []
          },
          "execution_count": 246
        }
      ]
    },
    {
      "cell_type": "code",
      "metadata": {
        "id": "q7_0-atH4xUv",
        "colab": {
          "base_uri": "https://localhost:8080/"
        },
        "outputId": "11fe1f94-1849-4a17-c1f9-a37aeda0bfd3"
      },
      "source": [
        "network.conv1.weight.grad"
      ],
      "execution_count": null,
      "outputs": [
        {
          "output_type": "execute_result",
          "data": {
            "text/plain": [
              "tensor([[[[ 1.2168e-03,  1.4914e-03,  7.3004e-04,  1.6943e-04,  1.5163e-04],\n",
              "          [ 1.3834e-03,  8.1515e-04,  3.9130e-04,  2.2148e-04,  2.0439e-04],\n",
              "          [ 1.0167e-03,  4.0052e-04,  3.4608e-04,  1.6580e-04,  1.4839e-04],\n",
              "          [ 3.5635e-04,  9.9669e-05,  6.1826e-05, -9.2396e-06,  2.0170e-07],\n",
              "          [-1.2477e-05, -4.2744e-05,  3.7077e-06, -8.9462e-06,  3.4067e-06]]],\n",
              "\n",
              "\n",
              "        [[[-5.3627e-05, -2.8197e-05, -8.8688e-05,  4.6150e-05, -2.5755e-04],\n",
              "          [-6.8399e-05, -6.3385e-05, -3.8176e-05,  4.9602e-05, -2.9483e-04],\n",
              "          [-7.3686e-07,  4.0248e-06,  2.1817e-06,  2.5590e-05, -4.5422e-04],\n",
              "          [ 2.7022e-06,  3.4884e-06, -3.2251e-06, -3.8254e-05, -3.7018e-04],\n",
              "          [-3.2585e-06, -3.6560e-06, -8.9235e-08, -4.3995e-05, -7.5788e-04]]],\n",
              "\n",
              "\n",
              "        [[[-1.2376e-03, -1.2430e-03, -1.0906e-03, -7.9120e-04, -6.6865e-04],\n",
              "          [-1.4931e-03, -1.6601e-03, -7.9227e-04, -9.2083e-04, -7.6992e-04],\n",
              "          [-1.7008e-03, -3.7490e-04, -3.2605e-04, -3.3641e-04, -3.6998e-04],\n",
              "          [-3.8206e-04, -4.0575e-06,  1.7537e-04, -1.5366e-04, -1.1996e-04],\n",
              "          [ 5.9246e-05,  1.7846e-04,  1.2236e-04, -1.5036e-04, -1.4599e-04]]],\n",
              "\n",
              "\n",
              "        [[[ 7.6032e-04,  8.9379e-04, -3.9656e-04,  8.9364e-05, -5.1275e-05],\n",
              "          [ 1.1652e-03,  1.6958e-03,  5.3032e-04,  6.6184e-04,  1.0019e-03],\n",
              "          [ 2.2241e-03,  1.4218e-03,  6.0820e-04,  7.8855e-05,  3.0067e-04],\n",
              "          [ 1.4363e-03,  1.5686e-03,  1.9545e-04,  8.1048e-04,  9.0240e-04],\n",
              "          [ 1.7237e-03,  1.5323e-03,  1.5349e-04,  7.4910e-04,  1.4279e-03]]],\n",
              "\n",
              "\n",
              "        [[[ 4.6327e-05,  3.3563e-04,  1.7139e-04,  0.0000e+00,  7.6847e-07],\n",
              "          [ 2.8723e-04,  3.6729e-04,  2.0878e-05,  1.5858e-06,  1.7944e-07],\n",
              "          [ 3.6433e-04,  3.5075e-04, -1.0080e-06,  3.0610e-06,  4.2043e-07],\n",
              "          [ 3.7459e-04,  2.1505e-04,  0.0000e+00,  6.7944e-06,  1.1965e-06],\n",
              "          [ 3.8337e-04,  1.9519e-04, -3.8742e-06,  5.4652e-06,  1.2638e-06]]],\n",
              "\n",
              "\n",
              "        [[[-8.5707e-04, -5.3935e-04,  4.2903e-04, -4.2560e-04, -1.7248e-03],\n",
              "          [-9.1791e-04, -9.8011e-04,  1.0250e-04,  1.5494e-03,  7.6260e-04],\n",
              "          [-1.0226e-03,  4.7484e-04,  9.5434e-04,  2.6250e-03,  1.3404e-03],\n",
              "          [-1.0048e-03,  5.9043e-04,  1.0431e-03,  2.3094e-03,  8.4665e-04],\n",
              "          [-8.0439e-04, -1.6150e-03, -1.0281e-03, -4.4854e-05, -1.0730e-03]]]])"
            ]
          },
          "metadata": {
            "tags": []
          },
          "execution_count": 247
        }
      ]
    },
    {
      "cell_type": "markdown",
      "metadata": {
        "id": "l0Y7e9cP438a"
      },
      "source": [
        "### Updating the weights"
      ]
    },
    {
      "cell_type": "code",
      "metadata": {
        "id": "GLPBOosI41IF",
        "colab": {
          "base_uri": "https://localhost:8080/"
        },
        "outputId": "bdcb8f26-526c-42bc-f44e-739958ad08f9"
      },
      "source": [
        "optimizer = optim.Adam(network.parameters(), lr=0.01)\n",
        "\n",
        "loss.item()"
      ],
      "execution_count": null,
      "outputs": [
        {
          "output_type": "execute_result",
          "data": {
            "text/plain": [
              "2.3180665969848633"
            ]
          },
          "metadata": {
            "tags": []
          },
          "execution_count": 248
        }
      ]
    },
    {
      "cell_type": "code",
      "metadata": {
        "id": "kH9FFy8z4-0R",
        "colab": {
          "base_uri": "https://localhost:8080/"
        },
        "outputId": "042fe0b4-6d6a-4daa-a64c-1d837b308676"
      },
      "source": [
        "get_num_correct(preds, labels)"
      ],
      "execution_count": null,
      "outputs": [
        {
          "output_type": "execute_result",
          "data": {
            "text/plain": [
              "0"
            ]
          },
          "metadata": {
            "tags": []
          },
          "execution_count": 249
        }
      ]
    },
    {
      "cell_type": "code",
      "metadata": {
        "id": "WSS0nLhr5BNB"
      },
      "source": [
        "optimizer.step()"
      ],
      "execution_count": null,
      "outputs": []
    },
    {
      "cell_type": "code",
      "metadata": {
        "id": "sQnJ-UKf5D2d"
      },
      "source": [
        "preds = network(images)\n",
        "loss = F.cross_entropy(preds, labels)"
      ],
      "execution_count": null,
      "outputs": []
    },
    {
      "cell_type": "code",
      "metadata": {
        "id": "MR1t_H1H5JBr",
        "colab": {
          "base_uri": "https://localhost:8080/"
        },
        "outputId": "3d7f32fe-40b5-4286-8e2d-7c6fb3b44739"
      },
      "source": [
        "loss.item()"
      ],
      "execution_count": null,
      "outputs": [
        {
          "output_type": "execute_result",
          "data": {
            "text/plain": [
              "2.2656924724578857"
            ]
          },
          "metadata": {
            "tags": []
          },
          "execution_count": 252
        }
      ]
    },
    {
      "cell_type": "code",
      "metadata": {
        "id": "WdqP0BFS5KYT",
        "colab": {
          "base_uri": "https://localhost:8080/"
        },
        "outputId": "155aff68-ae91-4a57-f8e0-e1ebc0c136b2"
      },
      "source": [
        "get_num_correct(preds, labels)"
      ],
      "execution_count": null,
      "outputs": [
        {
          "output_type": "execute_result",
          "data": {
            "text/plain": [
              "2"
            ]
          },
          "metadata": {
            "tags": []
          },
          "execution_count": 253
        }
      ]
    },
    {
      "cell_type": "code",
      "metadata": {
        "id": "YIuNe19T5MpI"
      },
      "source": [
        "optimizer.step()"
      ],
      "execution_count": null,
      "outputs": []
    },
    {
      "cell_type": "code",
      "metadata": {
        "id": "UEzIvhuN5RBH"
      },
      "source": [
        "preds = network(images)\n",
        "loss = F.cross_entropy(preds, labels)"
      ],
      "execution_count": null,
      "outputs": []
    },
    {
      "cell_type": "code",
      "metadata": {
        "id": "x0vBXFlO5Sg5",
        "colab": {
          "base_uri": "https://localhost:8080/"
        },
        "outputId": "991fa3e2-e57a-453e-bfe1-c99014d4d5a2"
      },
      "source": [
        "loss.item()"
      ],
      "execution_count": null,
      "outputs": [
        {
          "output_type": "execute_result",
          "data": {
            "text/plain": [
              "2.1993775367736816"
            ]
          },
          "metadata": {
            "tags": []
          },
          "execution_count": 256
        }
      ]
    },
    {
      "cell_type": "code",
      "metadata": {
        "id": "DseOvRTm5T8b",
        "colab": {
          "base_uri": "https://localhost:8080/"
        },
        "outputId": "28661540-07d6-4184-fb9a-97e3acd60040"
      },
      "source": [
        "get_num_correct(preds, labels)"
      ],
      "execution_count": null,
      "outputs": [
        {
          "output_type": "execute_result",
          "data": {
            "text/plain": [
              "2"
            ]
          },
          "metadata": {
            "tags": []
          },
          "execution_count": 257
        }
      ]
    },
    {
      "cell_type": "markdown",
      "metadata": {
        "id": "nqbr_giG5hGb"
      },
      "source": [
        "### Summary"
      ]
    },
    {
      "cell_type": "code",
      "metadata": {
        "id": "-UZhK6Or5Uz1",
        "colab": {
          "base_uri": "https://localhost:8080/"
        },
        "outputId": "4fcad5a5-35b0-4d7f-887e-3817155cec7b"
      },
      "source": [
        "network = Network()\n",
        "\n",
        "train_loader = torch.utils.data.DataLoader(train_set, batch_size=100)\n",
        "optimizer = optim.Adam(network.parameters(), lr=0.01)\n",
        "\n",
        "batch = next(iter(train_loader)) # Get Batch\n",
        "images, labels = batch\n",
        "\n",
        "preds = network(images) # Pass Batch\n",
        "loss = F.cross_entropy(preds, labels) # Calculate Loss\n",
        "\n",
        "loss.backward() # Calculate Gradients\n",
        "optimizer.step() # Update Weights\n",
        "\n",
        "print('loss1:', loss.item())\n",
        "preds = network(images)\n",
        "loss = F.cross_entropy(preds, labels)\n",
        "print('loss2:', loss.item())"
      ],
      "execution_count": null,
      "outputs": [
        {
          "output_type": "stream",
          "text": [
            "loss1: 2.2921648025512695\n",
            "loss2: 2.2742462158203125\n"
          ],
          "name": "stdout"
        }
      ]
    },
    {
      "cell_type": "markdown",
      "metadata": {
        "id": "9ExSNSUz5jt8"
      },
      "source": [
        "# Training with all batches"
      ]
    },
    {
      "cell_type": "code",
      "metadata": {
        "id": "V7ufLKqj5iBP",
        "colab": {
          "base_uri": "https://localhost:8080/"
        },
        "outputId": "b35503cb-6260-4f6e-8777-3ffe679ba6ba"
      },
      "source": [
        "network = Network()\n",
        "\n",
        "train_loader = torch.utils.data.DataLoader(train_set, batch_size=100)\n",
        "optimizer = optim.Adam(network.parameters(), lr=0.01)\n",
        "\n",
        "total_loss = 0\n",
        "total_correct = 0\n",
        "\n",
        "for batch in train_loader: # Get Batch\n",
        "    images, labels = batch\n",
        "\n",
        "    preds = network(images) # Pass Batch\n",
        "    loss = F.cross_entropy(preds, labels) # Calculate Loss\n",
        "\n",
        "    optimizer.zero_grad()\n",
        "    loss.backward() # Calculate Gradients\n",
        "    optimizer.step() # Update Weights\n",
        "\n",
        "    total_loss += loss.item()\n",
        "    total_correct += get_num_correct(preds, labels)\n",
        "\n",
        "print(\n",
        "    \"epoch:\", 0,\n",
        "    \"total_correct:\", total_correct,\n",
        "    \"loss:\", total_loss\n",
        ")"
      ],
      "execution_count": null,
      "outputs": [
        {
          "output_type": "stream",
          "text": [
            "epoch: 0 total_correct: 48058 loss: 324.41486743092537\n"
          ],
          "name": "stdout"
        }
      ]
    },
    {
      "cell_type": "markdown",
      "metadata": {
        "id": "wN5rsNio5xCm"
      },
      "source": [
        "### Training for multple epochs"
      ]
    },
    {
      "cell_type": "code",
      "metadata": {
        "id": "TaGBFTbi5pPL",
        "colab": {
          "base_uri": "https://localhost:8080/"
        },
        "outputId": "2c9dae4d-8d39-49ba-cc97-60b0bd1f487d"
      },
      "source": [
        "train_loader = torch.utils.data.DataLoader(train_set, batch_size=100)\n",
        "optimizer = optim.Adam(network.parameters(), lr=0.01)\n",
        "\n",
        "for epoch in range(10):\n",
        "\n",
        "    total_loss = 0\n",
        "    total_correct = 0\n",
        "\n",
        "    for batch in train_loader: # Get Batch\n",
        "        images, labels = batch\n",
        "\n",
        "        preds = network(images) # Pass Batch\n",
        "        loss = F.cross_entropy(preds, labels) # Calculate Loss\n",
        "\n",
        "        optimizer.zero_grad()\n",
        "        loss.backward() # Calculate Gradients\n",
        "        optimizer.step() # Update Weights\n",
        "\n",
        "        total_loss += loss.item()\n",
        "        total_correct += get_num_correct(preds, labels)\n",
        "\n",
        "    print(\n",
        "        \"epoch\", epoch,\n",
        "        \"total_correct:\", total_correct,\n",
        "        \"loss:\", total_loss\n",
        "    )"
      ],
      "execution_count": null,
      "outputs": [
        {
          "output_type": "stream",
          "text": [
            "epoch 0 total_correct: 51733 loss: 226.73406027257442\n",
            "epoch 1 total_correct: 52519 loss: 202.6642245054245\n",
            "epoch 2 total_correct: 52839 loss: 194.1630560606718\n",
            "epoch 3 total_correct: 53032 loss: 188.4306263178587\n",
            "epoch 4 total_correct: 53234 loss: 182.37898036837578\n",
            "epoch 5 total_correct: 53272 loss: 179.6192414239049\n",
            "epoch 6 total_correct: 53422 loss: 177.4588913396001\n",
            "epoch 7 total_correct: 53428 loss: 178.94686291366816\n",
            "epoch 8 total_correct: 53564 loss: 174.56039679795504\n",
            "epoch 9 total_correct: 53587 loss: 173.31967356801033\n"
          ],
          "name": "stdout"
        }
      ]
    },
    {
      "cell_type": "markdown",
      "metadata": {
        "id": "XQ--cdlT510e"
      },
      "source": [
        "## Complete Training Loop"
      ]
    },
    {
      "cell_type": "code",
      "metadata": {
        "id": "Hv-SGTU55zqs"
      },
      "source": [
        "network = Network()\n",
        "optimizer = optim.Adam(network.parameters(), lr=0.01)\n",
        "train_loader = torch.utils.data.DataLoader(\n",
        "    train_set\n",
        "    ,batch_size=100\n",
        "    ,shuffle=True\n",
        ")"
      ],
      "execution_count": null,
      "outputs": []
    },
    {
      "cell_type": "code",
      "metadata": {
        "id": "JsKMpG_o55GT"
      },
      "source": [
        "for epoch in range(10):\n",
        "\n",
        "    total_loss = 0\n",
        "    total_correct = 0\n",
        "\n",
        "    for batch in train_loader: # Get Batch\n",
        "        images, labels = batch\n",
        "\n",
        "        preds = network(images) # Pass Batch\n",
        "        loss = F.cross_entropy(preds, labels) # Calculate Loss\n",
        "\n",
        "        optimizer.zero_grad()\n",
        "        loss.backward() # Calculate Gradients\n",
        "        optimizer.step() # Update Weights\n",
        "\n",
        "        total_loss += loss.item()\n",
        "        total_correct += get_num_correct(preds, labels)\n",
        "\n",
        "    print(\n",
        "        \"epoch\", epoch,\n",
        "        \"total_correct:\", total_correct,\n",
        "        \"loss:\", total_loss\n",
        "    )"
      ],
      "execution_count": null,
      "outputs": []
    },
    {
      "cell_type": "markdown",
      "metadata": {
        "id": "fzqKp9_koGVI"
      },
      "source": [
        "Please cover this whole [PyTorch Series](https://www.youtube.com/playlist?list=PLZbbT5o_s2xrfNyHZsM6ufI0iZENK9xgG) (also the reference for our code) for even better understanding."
      ]
    },
    {
      "cell_type": "code",
      "metadata": {
        "id": "Z_fsc1suoPQF"
      },
      "source": [],
      "execution_count": null,
      "outputs": []
    }
  ]
}