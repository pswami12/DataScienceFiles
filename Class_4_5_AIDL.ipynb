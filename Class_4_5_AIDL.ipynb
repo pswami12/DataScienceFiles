{
  "nbformat": 4,
  "nbformat_minor": 0,
  "metadata": {
    "colab": {
      "provenance": [],
      "gpuType": "T4",
      "authorship_tag": "ABX9TyNsLpMGnUsaRyRhLzWW/Ld+",
      "include_colab_link": true
    },
    "kernelspec": {
      "name": "python3",
      "display_name": "Python 3"
    },
    "language_info": {
      "name": "python"
    },
    "accelerator": "GPU"
  },
  "cells": [
    {
      "cell_type": "markdown",
      "metadata": {
        "id": "view-in-github",
        "colab_type": "text"
      },
      "source": [
        "<a href=\"https://colab.research.google.com/github/pswami12/DataScienceFiles/blob/main/Class_4_5_AIDL.ipynb\" target=\"_parent\"><img src=\"https://colab.research.google.com/assets/colab-badge.svg\" alt=\"Open In Colab\"/></a>"
      ]
    },
    {
      "cell_type": "code",
      "execution_count": 1,
      "metadata": {
        "id": "xwPBU-APbkA2"
      },
      "outputs": [],
      "source": [
        "import math"
      ]
    },
    {
      "cell_type": "markdown",
      "source": [
        "**add 2 iterables a and b such that a is even and b is odd**"
      ],
      "metadata": {
        "id": "ti5-YzVahXuE"
      }
    },
    {
      "cell_type": "code",
      "source": [
        "def even_odd_summation(l1, l2):\n",
        "    '''This function takes two lists as input and adds even no for the first list\n",
        "    and odd number the second list and returns summation result as a list'''\n",
        "    return [x + y for x, y in zip(l1, l2) if x % 2 == 0 and y % 2 != 0]"
      ],
      "metadata": {
        "id": "rvo3CTuwhVEr"
      },
      "execution_count": 2,
      "outputs": []
    },
    {
      "cell_type": "code",
      "source": [
        "even_odd_summation([1,2,3,4],[4,5,6,7])"
      ],
      "metadata": {
        "colab": {
          "base_uri": "https://localhost:8080/"
        },
        "id": "XZdcxiuEh2xj",
        "outputId": "6b600139-f883-415d-f1bb-abe7ed63b642"
      },
      "execution_count": 3,
      "outputs": [
        {
          "output_type": "execute_result",
          "data": {
            "text/plain": [
              "[7, 11]"
            ]
          },
          "metadata": {},
          "execution_count": 3
        }
      ]
    },
    {
      "cell_type": "markdown",
      "source": [
        "**strips every vowel from a string provided**"
      ],
      "metadata": {
        "id": "nIXsPq5jimTh"
      }
    },
    {
      "cell_type": "code",
      "source": [
        "def vowel_stripping(string):\n",
        "    '''This function takes a string as an input strips out vowels and returns stripted out string'''\n",
        "    return \"\".join([x for x in string if x not in('a','e','i','o','u')])"
      ],
      "metadata": {
        "id": "tPDKa13aipeC"
      },
      "execution_count": 4,
      "outputs": []
    },
    {
      "cell_type": "code",
      "source": [
        "vowel_stripping('python')"
      ],
      "metadata": {
        "colab": {
          "base_uri": "https://localhost:8080/",
          "height": 35
        },
        "id": "px03u3X4isME",
        "outputId": "12cdb925-3ee3-4ab0-f258-b62026769ded"
      },
      "execution_count": 5,
      "outputs": [
        {
          "output_type": "execute_result",
          "data": {
            "text/plain": [
              "'pythn'"
            ],
            "application/vnd.google.colaboratory.intrinsic+json": {
              "type": "string"
            }
          },
          "metadata": {},
          "execution_count": 5
        }
      ]
    },
    {
      "cell_type": "markdown",
      "source": [
        "**acts like a ReLU function for a 1D array**"
      ],
      "metadata": {
        "id": "bfVxESuci_xF"
      }
    },
    {
      "cell_type": "code",
      "source": [
        "def relu(l1):\n",
        "    '''This function takes a list as an input and acts as Relu i.e. when an element is -ve it returns 0 else the element'''\n",
        "    return [0 if x < 0 else x for x in l1]"
      ],
      "metadata": {
        "id": "tOe2Ljx-j9HF"
      },
      "execution_count": 10,
      "outputs": []
    },
    {
      "cell_type": "code",
      "source": [
        "relu([1,2,-3,4,-8,2])"
      ],
      "metadata": {
        "colab": {
          "base_uri": "https://localhost:8080/"
        },
        "id": "-CInuubdkAEs",
        "outputId": "e19d85ff-da55-4261-99ca-5267d03a1075"
      },
      "execution_count": 11,
      "outputs": [
        {
          "output_type": "execute_result",
          "data": {
            "text/plain": [
              "[1, 2, 0, 4, 0, 2]"
            ]
          },
          "metadata": {},
          "execution_count": 11
        }
      ]
    },
    {
      "cell_type": "markdown",
      "source": [
        "**acts like a sigmoid function for a 1D array**"
      ],
      "metadata": {
        "id": "GB9FQuPgj9p9"
      }
    },
    {
      "cell_type": "code",
      "source": [
        "def sigmoid(l1):\n",
        "    '''This function takes a list as an input and acts as sigmoid function and returns a list of sigmoid output'''\n",
        "    return [(1 / (1 + math.exp(-x))) for x in l1]"
      ],
      "metadata": {
        "id": "aB9SZuBFjBgf"
      },
      "execution_count": 6,
      "outputs": []
    },
    {
      "cell_type": "code",
      "source": [
        "sigmoid([1,2,-3,4,-8,2])"
      ],
      "metadata": {
        "colab": {
          "base_uri": "https://localhost:8080/"
        },
        "id": "pzZyJjdCjDX6",
        "outputId": "4388d7d7-16ff-4932-e9bb-c88b84c12dd4"
      },
      "execution_count": 7,
      "outputs": [
        {
          "output_type": "execute_result",
          "data": {
            "text/plain": [
              "[0.7310585786300049,\n",
              " 0.8807970779778823,\n",
              " 0.04742587317756678,\n",
              " 0.9820137900379085,\n",
              " 0.0003353501304664781,\n",
              " 0.8807970779778823]"
            ]
          },
          "metadata": {},
          "execution_count": 7
        }
      ]
    },
    {
      "cell_type": "markdown",
      "source": [
        "**takes a small character string and shifts all characters by 5 (handle boundary conditions)**"
      ],
      "metadata": {
        "id": "Yc_lc05zjGpH"
      }
    },
    {
      "cell_type": "code",
      "source": [
        "def char_shift(string):\n",
        "    '''This function takes a string as an input and shifts each character by 5 and returns shifted string'''\n",
        "    return \"\".join([chr(ord(x)+5) if (ord(x)+5) <= 122 else chr(96 + (ord(x)+5) - 122) for x in string])"
      ],
      "metadata": {
        "id": "VL2yR_mvjJP9"
      },
      "execution_count": 8,
      "outputs": []
    },
    {
      "cell_type": "code",
      "source": [
        "char_shift('python')"
      ],
      "metadata": {
        "colab": {
          "base_uri": "https://localhost:8080/",
          "height": 35
        },
        "id": "0_Zb8SnWjL5n",
        "outputId": "829b8668-d298-4dc4-9a38-214e0fbfad01"
      },
      "execution_count": 9,
      "outputs": [
        {
          "output_type": "execute_result",
          "data": {
            "text/plain": [
              "'udymts'"
            ],
            "application/vnd.google.colaboratory.intrinsic+json": {
              "type": "string"
            }
          },
          "metadata": {},
          "execution_count": 9
        }
      ]
    },
    {
      "cell_type": "markdown",
      "source": [
        "### ***Fraud_Detection_Keras_Assignment***"
      ],
      "metadata": {
        "id": "ekpLltswlBko"
      }
    },
    {
      "cell_type": "code",
      "source": [
        "import pandas as pd\n",
        "import numpy as np\n",
        "import matplotlib.pyplot as plt\n",
        "from tensorflow import keras\n",
        "%matplotlib inline"
      ],
      "metadata": {
        "id": "D2gquNGVlBLC"
      },
      "execution_count": 12,
      "outputs": []
    },
    {
      "cell_type": "code",
      "source": [
        "RANDOM_SEED = 42\n",
        "LABELS = [\"Normal\", \"Fraud\"]"
      ],
      "metadata": {
        "id": "uXPWjmATlebo"
      },
      "execution_count": 13,
      "outputs": []
    },
    {
      "cell_type": "code",
      "source": [
        "df = pd.read_csv(\"creditcard.csv\")"
      ],
      "metadata": {
        "id": "jhs3YlVXliUj"
      },
      "execution_count": 70,
      "outputs": []
    },
    {
      "cell_type": "code",
      "source": [
        "df.shape"
      ],
      "metadata": {
        "colab": {
          "base_uri": "https://localhost:8080/"
        },
        "id": "URRDm18jljfo",
        "outputId": "ded51be5-b922-42fb-c7e6-377c21e78075"
      },
      "execution_count": 71,
      "outputs": [
        {
          "output_type": "execute_result",
          "data": {
            "text/plain": [
              "(85259, 31)"
            ]
          },
          "metadata": {},
          "execution_count": 71
        }
      ]
    },
    {
      "cell_type": "code",
      "source": [
        "df.head()"
      ],
      "metadata": {
        "colab": {
          "base_uri": "https://localhost:8080/",
          "height": 300
        },
        "id": "Xk1OK_5Rlo6M",
        "outputId": "820693fb-bd9b-4ede-97df-b010a7277407"
      },
      "execution_count": 73,
      "outputs": [
        {
          "output_type": "execute_result",
          "data": {
            "text/plain": [
              "   Time        V1        V2        V3        V4        V5        V6        V7  \\\n",
              "0     0 -1.359807 -0.072781  2.536347  1.378155 -0.338321  0.462388  0.239599   \n",
              "1     0  1.191857  0.266151  0.166480  0.448154  0.060018 -0.082361 -0.078803   \n",
              "2     1 -1.358354 -1.340163  1.773209  0.379780 -0.503198  1.800499  0.791461   \n",
              "3     1 -0.966272 -0.185226  1.792993 -0.863291 -0.010309  1.247203  0.237609   \n",
              "4     2 -1.158233  0.877737  1.548718  0.403034 -0.407193  0.095921  0.592941   \n",
              "\n",
              "         V8        V9  ...       V21       V22       V23       V24       V25  \\\n",
              "0  0.098698  0.363787  ... -0.018307  0.277838 -0.110474  0.066928  0.128539   \n",
              "1  0.085102 -0.255425  ... -0.225775 -0.638672  0.101288 -0.339846  0.167170   \n",
              "2  0.247676 -1.514654  ...  0.247998  0.771679  0.909412 -0.689281 -0.327642   \n",
              "3  0.377436 -1.387024  ... -0.108300  0.005274 -0.190321 -1.175575  0.647376   \n",
              "4 -0.270533  0.817739  ... -0.009431  0.798278 -0.137458  0.141267 -0.206010   \n",
              "\n",
              "        V26       V27       V28  Amount  Class  \n",
              "0 -0.189115  0.133558 -0.021053  149.62    0.0  \n",
              "1  0.125895 -0.008983  0.014724    2.69    0.0  \n",
              "2 -0.139097 -0.055353 -0.059752  378.66    0.0  \n",
              "3 -0.221929  0.062723  0.061458  123.50    0.0  \n",
              "4  0.502292  0.219422  0.215153   69.99    0.0  \n",
              "\n",
              "[5 rows x 31 columns]"
            ],
            "text/html": [
              "\n",
              "\n",
              "  <div id=\"df-fad0134f-2a93-4473-bf86-b6a82c53ecbf\">\n",
              "    <div class=\"colab-df-container\">\n",
              "      <div>\n",
              "<style scoped>\n",
              "    .dataframe tbody tr th:only-of-type {\n",
              "        vertical-align: middle;\n",
              "    }\n",
              "\n",
              "    .dataframe tbody tr th {\n",
              "        vertical-align: top;\n",
              "    }\n",
              "\n",
              "    .dataframe thead th {\n",
              "        text-align: right;\n",
              "    }\n",
              "</style>\n",
              "<table border=\"1\" class=\"dataframe\">\n",
              "  <thead>\n",
              "    <tr style=\"text-align: right;\">\n",
              "      <th></th>\n",
              "      <th>Time</th>\n",
              "      <th>V1</th>\n",
              "      <th>V2</th>\n",
              "      <th>V3</th>\n",
              "      <th>V4</th>\n",
              "      <th>V5</th>\n",
              "      <th>V6</th>\n",
              "      <th>V7</th>\n",
              "      <th>V8</th>\n",
              "      <th>V9</th>\n",
              "      <th>...</th>\n",
              "      <th>V21</th>\n",
              "      <th>V22</th>\n",
              "      <th>V23</th>\n",
              "      <th>V24</th>\n",
              "      <th>V25</th>\n",
              "      <th>V26</th>\n",
              "      <th>V27</th>\n",
              "      <th>V28</th>\n",
              "      <th>Amount</th>\n",
              "      <th>Class</th>\n",
              "    </tr>\n",
              "  </thead>\n",
              "  <tbody>\n",
              "    <tr>\n",
              "      <th>0</th>\n",
              "      <td>0</td>\n",
              "      <td>-1.359807</td>\n",
              "      <td>-0.072781</td>\n",
              "      <td>2.536347</td>\n",
              "      <td>1.378155</td>\n",
              "      <td>-0.338321</td>\n",
              "      <td>0.462388</td>\n",
              "      <td>0.239599</td>\n",
              "      <td>0.098698</td>\n",
              "      <td>0.363787</td>\n",
              "      <td>...</td>\n",
              "      <td>-0.018307</td>\n",
              "      <td>0.277838</td>\n",
              "      <td>-0.110474</td>\n",
              "      <td>0.066928</td>\n",
              "      <td>0.128539</td>\n",
              "      <td>-0.189115</td>\n",
              "      <td>0.133558</td>\n",
              "      <td>-0.021053</td>\n",
              "      <td>149.62</td>\n",
              "      <td>0.0</td>\n",
              "    </tr>\n",
              "    <tr>\n",
              "      <th>1</th>\n",
              "      <td>0</td>\n",
              "      <td>1.191857</td>\n",
              "      <td>0.266151</td>\n",
              "      <td>0.166480</td>\n",
              "      <td>0.448154</td>\n",
              "      <td>0.060018</td>\n",
              "      <td>-0.082361</td>\n",
              "      <td>-0.078803</td>\n",
              "      <td>0.085102</td>\n",
              "      <td>-0.255425</td>\n",
              "      <td>...</td>\n",
              "      <td>-0.225775</td>\n",
              "      <td>-0.638672</td>\n",
              "      <td>0.101288</td>\n",
              "      <td>-0.339846</td>\n",
              "      <td>0.167170</td>\n",
              "      <td>0.125895</td>\n",
              "      <td>-0.008983</td>\n",
              "      <td>0.014724</td>\n",
              "      <td>2.69</td>\n",
              "      <td>0.0</td>\n",
              "    </tr>\n",
              "    <tr>\n",
              "      <th>2</th>\n",
              "      <td>1</td>\n",
              "      <td>-1.358354</td>\n",
              "      <td>-1.340163</td>\n",
              "      <td>1.773209</td>\n",
              "      <td>0.379780</td>\n",
              "      <td>-0.503198</td>\n",
              "      <td>1.800499</td>\n",
              "      <td>0.791461</td>\n",
              "      <td>0.247676</td>\n",
              "      <td>-1.514654</td>\n",
              "      <td>...</td>\n",
              "      <td>0.247998</td>\n",
              "      <td>0.771679</td>\n",
              "      <td>0.909412</td>\n",
              "      <td>-0.689281</td>\n",
              "      <td>-0.327642</td>\n",
              "      <td>-0.139097</td>\n",
              "      <td>-0.055353</td>\n",
              "      <td>-0.059752</td>\n",
              "      <td>378.66</td>\n",
              "      <td>0.0</td>\n",
              "    </tr>\n",
              "    <tr>\n",
              "      <th>3</th>\n",
              "      <td>1</td>\n",
              "      <td>-0.966272</td>\n",
              "      <td>-0.185226</td>\n",
              "      <td>1.792993</td>\n",
              "      <td>-0.863291</td>\n",
              "      <td>-0.010309</td>\n",
              "      <td>1.247203</td>\n",
              "      <td>0.237609</td>\n",
              "      <td>0.377436</td>\n",
              "      <td>-1.387024</td>\n",
              "      <td>...</td>\n",
              "      <td>-0.108300</td>\n",
              "      <td>0.005274</td>\n",
              "      <td>-0.190321</td>\n",
              "      <td>-1.175575</td>\n",
              "      <td>0.647376</td>\n",
              "      <td>-0.221929</td>\n",
              "      <td>0.062723</td>\n",
              "      <td>0.061458</td>\n",
              "      <td>123.50</td>\n",
              "      <td>0.0</td>\n",
              "    </tr>\n",
              "    <tr>\n",
              "      <th>4</th>\n",
              "      <td>2</td>\n",
              "      <td>-1.158233</td>\n",
              "      <td>0.877737</td>\n",
              "      <td>1.548718</td>\n",
              "      <td>0.403034</td>\n",
              "      <td>-0.407193</td>\n",
              "      <td>0.095921</td>\n",
              "      <td>0.592941</td>\n",
              "      <td>-0.270533</td>\n",
              "      <td>0.817739</td>\n",
              "      <td>...</td>\n",
              "      <td>-0.009431</td>\n",
              "      <td>0.798278</td>\n",
              "      <td>-0.137458</td>\n",
              "      <td>0.141267</td>\n",
              "      <td>-0.206010</td>\n",
              "      <td>0.502292</td>\n",
              "      <td>0.219422</td>\n",
              "      <td>0.215153</td>\n",
              "      <td>69.99</td>\n",
              "      <td>0.0</td>\n",
              "    </tr>\n",
              "  </tbody>\n",
              "</table>\n",
              "<p>5 rows × 31 columns</p>\n",
              "</div>\n",
              "      <button class=\"colab-df-convert\" onclick=\"convertToInteractive('df-fad0134f-2a93-4473-bf86-b6a82c53ecbf')\"\n",
              "              title=\"Convert this dataframe to an interactive table.\"\n",
              "              style=\"display:none;\">\n",
              "\n",
              "  <svg xmlns=\"http://www.w3.org/2000/svg\" height=\"24px\"viewBox=\"0 0 24 24\"\n",
              "       width=\"24px\">\n",
              "    <path d=\"M0 0h24v24H0V0z\" fill=\"none\"/>\n",
              "    <path d=\"M18.56 5.44l.94 2.06.94-2.06 2.06-.94-2.06-.94-.94-2.06-.94 2.06-2.06.94zm-11 1L8.5 8.5l.94-2.06 2.06-.94-2.06-.94L8.5 2.5l-.94 2.06-2.06.94zm10 10l.94 2.06.94-2.06 2.06-.94-2.06-.94-.94-2.06-.94 2.06-2.06.94z\"/><path d=\"M17.41 7.96l-1.37-1.37c-.4-.4-.92-.59-1.43-.59-.52 0-1.04.2-1.43.59L10.3 9.45l-7.72 7.72c-.78.78-.78 2.05 0 2.83L4 21.41c.39.39.9.59 1.41.59.51 0 1.02-.2 1.41-.59l7.78-7.78 2.81-2.81c.8-.78.8-2.07 0-2.86zM5.41 20L4 18.59l7.72-7.72 1.47 1.35L5.41 20z\"/>\n",
              "  </svg>\n",
              "      </button>\n",
              "\n",
              "\n",
              "\n",
              "    <div id=\"df-026c4b6c-5c56-41d0-a543-96c76c588a9f\">\n",
              "      <button class=\"colab-df-quickchart\" onclick=\"quickchart('df-026c4b6c-5c56-41d0-a543-96c76c588a9f')\"\n",
              "              title=\"Suggest charts.\"\n",
              "              style=\"display:none;\">\n",
              "\n",
              "<svg xmlns=\"http://www.w3.org/2000/svg\" height=\"24px\"viewBox=\"0 0 24 24\"\n",
              "     width=\"24px\">\n",
              "    <g>\n",
              "        <path d=\"M19 3H5c-1.1 0-2 .9-2 2v14c0 1.1.9 2 2 2h14c1.1 0 2-.9 2-2V5c0-1.1-.9-2-2-2zM9 17H7v-7h2v7zm4 0h-2V7h2v10zm4 0h-2v-4h2v4z\"/>\n",
              "    </g>\n",
              "</svg>\n",
              "      </button>\n",
              "    </div>\n",
              "\n",
              "<style>\n",
              "  .colab-df-quickchart {\n",
              "    background-color: #E8F0FE;\n",
              "    border: none;\n",
              "    border-radius: 50%;\n",
              "    cursor: pointer;\n",
              "    display: none;\n",
              "    fill: #1967D2;\n",
              "    height: 32px;\n",
              "    padding: 0 0 0 0;\n",
              "    width: 32px;\n",
              "  }\n",
              "\n",
              "  .colab-df-quickchart:hover {\n",
              "    background-color: #E2EBFA;\n",
              "    box-shadow: 0px 1px 2px rgba(60, 64, 67, 0.3), 0px 1px 3px 1px rgba(60, 64, 67, 0.15);\n",
              "    fill: #174EA6;\n",
              "  }\n",
              "\n",
              "  [theme=dark] .colab-df-quickchart {\n",
              "    background-color: #3B4455;\n",
              "    fill: #D2E3FC;\n",
              "  }\n",
              "\n",
              "  [theme=dark] .colab-df-quickchart:hover {\n",
              "    background-color: #434B5C;\n",
              "    box-shadow: 0px 1px 3px 1px rgba(0, 0, 0, 0.15);\n",
              "    filter: drop-shadow(0px 1px 2px rgba(0, 0, 0, 0.3));\n",
              "    fill: #FFFFFF;\n",
              "  }\n",
              "</style>\n",
              "\n",
              "    <script>\n",
              "      async function quickchart(key) {\n",
              "        const containerElement = document.querySelector('#' + key);\n",
              "        const charts = await google.colab.kernel.invokeFunction(\n",
              "            'suggestCharts', [key], {});\n",
              "      }\n",
              "    </script>\n",
              "\n",
              "      <script>\n",
              "\n",
              "function displayQuickchartButton(domScope) {\n",
              "  let quickchartButtonEl =\n",
              "    domScope.querySelector('#df-026c4b6c-5c56-41d0-a543-96c76c588a9f button.colab-df-quickchart');\n",
              "  quickchartButtonEl.style.display =\n",
              "    google.colab.kernel.accessAllowed ? 'block' : 'none';\n",
              "}\n",
              "\n",
              "        displayQuickchartButton(document);\n",
              "      </script>\n",
              "      <style>\n",
              "    .colab-df-container {\n",
              "      display:flex;\n",
              "      flex-wrap:wrap;\n",
              "      gap: 12px;\n",
              "    }\n",
              "\n",
              "    .colab-df-convert {\n",
              "      background-color: #E8F0FE;\n",
              "      border: none;\n",
              "      border-radius: 50%;\n",
              "      cursor: pointer;\n",
              "      display: none;\n",
              "      fill: #1967D2;\n",
              "      height: 32px;\n",
              "      padding: 0 0 0 0;\n",
              "      width: 32px;\n",
              "    }\n",
              "\n",
              "    .colab-df-convert:hover {\n",
              "      background-color: #E2EBFA;\n",
              "      box-shadow: 0px 1px 2px rgba(60, 64, 67, 0.3), 0px 1px 3px 1px rgba(60, 64, 67, 0.15);\n",
              "      fill: #174EA6;\n",
              "    }\n",
              "\n",
              "    [theme=dark] .colab-df-convert {\n",
              "      background-color: #3B4455;\n",
              "      fill: #D2E3FC;\n",
              "    }\n",
              "\n",
              "    [theme=dark] .colab-df-convert:hover {\n",
              "      background-color: #434B5C;\n",
              "      box-shadow: 0px 1px 3px 1px rgba(0, 0, 0, 0.15);\n",
              "      filter: drop-shadow(0px 1px 2px rgba(0, 0, 0, 0.3));\n",
              "      fill: #FFFFFF;\n",
              "    }\n",
              "  </style>\n",
              "\n",
              "      <script>\n",
              "        const buttonEl =\n",
              "          document.querySelector('#df-fad0134f-2a93-4473-bf86-b6a82c53ecbf button.colab-df-convert');\n",
              "        buttonEl.style.display =\n",
              "          google.colab.kernel.accessAllowed ? 'block' : 'none';\n",
              "\n",
              "        async function convertToInteractive(key) {\n",
              "          const element = document.querySelector('#df-fad0134f-2a93-4473-bf86-b6a82c53ecbf');\n",
              "          const dataTable =\n",
              "            await google.colab.kernel.invokeFunction('convertToInteractive',\n",
              "                                                     [key], {});\n",
              "          if (!dataTable) return;\n",
              "\n",
              "          const docLinkHtml = 'Like what you see? Visit the ' +\n",
              "            '<a target=\"_blank\" href=https://colab.research.google.com/notebooks/data_table.ipynb>data table notebook</a>'\n",
              "            + ' to learn more about interactive tables.';\n",
              "          element.innerHTML = '';\n",
              "          dataTable['output_type'] = 'display_data';\n",
              "          await google.colab.output.renderOutput(dataTable, element);\n",
              "          const docLink = document.createElement('div');\n",
              "          docLink.innerHTML = docLinkHtml;\n",
              "          element.appendChild(docLink);\n",
              "        }\n",
              "      </script>\n",
              "    </div>\n",
              "  </div>\n"
            ]
          },
          "metadata": {},
          "execution_count": 73
        }
      ]
    },
    {
      "cell_type": "code",
      "source": [
        "count_classes = pd.value_counts(df['Class'], sort = True)\n",
        "count_classes"
      ],
      "metadata": {
        "colab": {
          "base_uri": "https://localhost:8080/"
        },
        "id": "T9FirlaYlsEA",
        "outputId": "d9a53f03-a24b-4208-894d-d34466b05a8c"
      },
      "execution_count": 74,
      "outputs": [
        {
          "output_type": "execute_result",
          "data": {
            "text/plain": [
              "0.0    85054\n",
              "1.0      204\n",
              "Name: Class, dtype: int64"
            ]
          },
          "metadata": {},
          "execution_count": 74
        }
      ]
    },
    {
      "cell_type": "code",
      "source": [
        "count_classes.plot(kind = 'bar', rot=0)\n",
        "plt.title(\"Transaction class distribution\")\n",
        "plt.xticks(range(2), LABELS)\n",
        "plt.xlabel(\"Class\")\n",
        "plt.ylabel(\"Frequency\");"
      ],
      "metadata": {
        "colab": {
          "base_uri": "https://localhost:8080/",
          "height": 472
        },
        "id": "4NS5ze9flvE4",
        "outputId": "e09cc5e3-757c-4d18-e724-2a4c4937860b"
      },
      "execution_count": 75,
      "outputs": [
        {
          "output_type": "display_data",
          "data": {
            "text/plain": [
              "<Figure size 640x480 with 1 Axes>"
            ],
            "image/png": "[encoded data removed]"
          },
          "metadata": {}
        }
      ]
    },
    {
      "cell_type": "code",
      "source": [
        "from sklearn.preprocessing import StandardScaler"
      ],
      "metadata": {
        "id": "EdUSzugYl1Fr"
      },
      "execution_count": 76,
      "outputs": []
    },
    {
      "cell_type": "code",
      "source": [
        "data = df.drop(['Time'], axis=1)\n",
        "data.head()"
      ],
      "metadata": {
        "colab": {
          "base_uri": "https://localhost:8080/",
          "height": 300
        },
        "id": "MC4OW0w4l7kY",
        "outputId": "acbec1c7-ec9e-42c8-9ffd-b468aafc925b"
      },
      "execution_count": 77,
      "outputs": [
        {
          "output_type": "execute_result",
          "data": {
            "text/plain": [
              "         V1        V2        V3        V4        V5        V6        V7  \\\n",
              "0 -1.359807 -0.072781  2.536347  1.378155 -0.338321  0.462388  0.239599   \n",
              "1  1.191857  0.266151  0.166480  0.448154  0.060018 -0.082361 -0.078803   \n",
              "2 -1.358354 -1.340163  1.773209  0.379780 -0.503198  1.800499  0.791461   \n",
              "3 -0.966272 -0.185226  1.792993 -0.863291 -0.010309  1.247203  0.237609   \n",
              "4 -1.158233  0.877737  1.548718  0.403034 -0.407193  0.095921  0.592941   \n",
              "\n",
              "         V8        V9       V10  ...       V21       V22       V23       V24  \\\n",
              "0  0.098698  0.363787  0.090794  ... -0.018307  0.277838 -0.110474  0.066928   \n",
              "1  0.085102 -0.255425 -0.166974  ... -0.225775 -0.638672  0.101288 -0.339846   \n",
              "2  0.247676 -1.514654  0.207643  ...  0.247998  0.771679  0.909412 -0.689281   \n",
              "3  0.377436 -1.387024 -0.054952  ... -0.108300  0.005274 -0.190321 -1.175575   \n",
              "4 -0.270533  0.817739  0.753074  ... -0.009431  0.798278 -0.137458  0.141267   \n",
              "\n",
              "        V25       V26       V27       V28  Amount  Class  \n",
              "0  0.128539 -0.189115  0.133558 -0.021053  149.62    0.0  \n",
              "1  0.167170  0.125895 -0.008983  0.014724    2.69    0.0  \n",
              "2 -0.327642 -0.139097 -0.055353 -0.059752  378.66    0.0  \n",
              "3  0.647376 -0.221929  0.062723  0.061458  123.50    0.0  \n",
              "4 -0.206010  0.502292  0.219422  0.215153   69.99    0.0  \n",
              "\n",
              "[5 rows x 30 columns]"
            ],
            "text/html": [
              "\n",
              "\n",
              "  <div id=\"df-fb7782fb-6a9f-4252-af3d-30f5094daf65\">\n",
              "    <div class=\"colab-df-container\">\n",
              "      <div>\n",
              "<style scoped>\n",
              "    .dataframe tbody tr th:only-of-type {\n",
              "        vertical-align: middle;\n",
              "    }\n",
              "\n",
              "    .dataframe tbody tr th {\n",
              "        vertical-align: top;\n",
              "    }\n",
              "\n",
              "    .dataframe thead th {\n",
              "        text-align: right;\n",
              "    }\n",
              "</style>\n",
              "<table border=\"1\" class=\"dataframe\">\n",
              "  <thead>\n",
              "    <tr style=\"text-align: right;\">\n",
              "      <th></th>\n",
              "      <th>V1</th>\n",
              "      <th>V2</th>\n",
              "      <th>V3</th>\n",
              "      <th>V4</th>\n",
              "      <th>V5</th>\n",
              "      <th>V6</th>\n",
              "      <th>V7</th>\n",
              "      <th>V8</th>\n",
              "      <th>V9</th>\n",
              "      <th>V10</th>\n",
              "      <th>...</th>\n",
              "      <th>V21</th>\n",
              "      <th>V22</th>\n",
              "      <th>V23</th>\n",
              "      <th>V24</th>\n",
              "      <th>V25</th>\n",
              "      <th>V26</th>\n",
              "      <th>V27</th>\n",
              "      <th>V28</th>\n",
              "      <th>Amount</th>\n",
              "      <th>Class</th>\n",
              "    </tr>\n",
              "  </thead>\n",
              "  <tbody>\n",
              "    <tr>\n",
              "      <th>0</th>\n",
              "      <td>-1.359807</td>\n",
              "      <td>-0.072781</td>\n",
              "      <td>2.536347</td>\n",
              "      <td>1.378155</td>\n",
              "      <td>-0.338321</td>\n",
              "      <td>0.462388</td>\n",
              "      <td>0.239599</td>\n",
              "      <td>0.098698</td>\n",
              "      <td>0.363787</td>\n",
              "      <td>0.090794</td>\n",
              "      <td>...</td>\n",
              "      <td>-0.018307</td>\n",
              "      <td>0.277838</td>\n",
              "      <td>-0.110474</td>\n",
              "      <td>0.066928</td>\n",
              "      <td>0.128539</td>\n",
              "      <td>-0.189115</td>\n",
              "      <td>0.133558</td>\n",
              "      <td>-0.021053</td>\n",
              "      <td>149.62</td>\n",
              "      <td>0.0</td>\n",
              "    </tr>\n",
              "    <tr>\n",
              "      <th>1</th>\n",
              "      <td>1.191857</td>\n",
              "      <td>0.266151</td>\n",
              "      <td>0.166480</td>\n",
              "      <td>0.448154</td>\n",
              "      <td>0.060018</td>\n",
              "      <td>-0.082361</td>\n",
              "      <td>-0.078803</td>\n",
              "      <td>0.085102</td>\n",
              "      <td>-0.255425</td>\n",
              "      <td>-0.166974</td>\n",
              "      <td>...</td>\n",
              "      <td>-0.225775</td>\n",
              "      <td>-0.638672</td>\n",
              "      <td>0.101288</td>\n",
              "      <td>-0.339846</td>\n",
              "      <td>0.167170</td>\n",
              "      <td>0.125895</td>\n",
              "      <td>-0.008983</td>\n",
              "      <td>0.014724</td>\n",
              "      <td>2.69</td>\n",
              "      <td>0.0</td>\n",
              "    </tr>\n",
              "    <tr>\n",
              "      <th>2</th>\n",
              "      <td>-1.358354</td>\n",
              "      <td>-1.340163</td>\n",
              "      <td>1.773209</td>\n",
              "      <td>0.379780</td>\n",
              "      <td>-0.503198</td>\n",
              "      <td>1.800499</td>\n",
              "      <td>0.791461</td>\n",
              "      <td>0.247676</td>\n",
              "      <td>-1.514654</td>\n",
              "      <td>0.207643</td>\n",
              "      <td>...</td>\n",
              "      <td>0.247998</td>\n",
              "      <td>0.771679</td>\n",
              "      <td>0.909412</td>\n",
              "      <td>-0.689281</td>\n",
              "      <td>-0.327642</td>\n",
              "      <td>-0.139097</td>\n",
              "      <td>-0.055353</td>\n",
              "      <td>-0.059752</td>\n",
              "      <td>378.66</td>\n",
              "      <td>0.0</td>\n",
              "    </tr>\n",
              "    <tr>\n",
              "      <th>3</th>\n",
              "      <td>-0.966272</td>\n",
              "      <td>-0.185226</td>\n",
              "      <td>1.792993</td>\n",
              "      <td>-0.863291</td>\n",
              "      <td>-0.010309</td>\n",
              "      <td>1.247203</td>\n",
              "      <td>0.237609</td>\n",
              "      <td>0.377436</td>\n",
              "      <td>-1.387024</td>\n",
              "      <td>-0.054952</td>\n",
              "      <td>...</td>\n",
              "      <td>-0.108300</td>\n",
              "      <td>0.005274</td>\n",
              "      <td>-0.190321</td>\n",
              "      <td>-1.175575</td>\n",
              "      <td>0.647376</td>\n",
              "      <td>-0.221929</td>\n",
              "      <td>0.062723</td>\n",
              "      <td>0.061458</td>\n",
              "      <td>123.50</td>\n",
              "      <td>0.0</td>\n",
              "    </tr>\n",
              "    <tr>\n",
              "      <th>4</th>\n",
              "      <td>-1.158233</td>\n",
              "      <td>0.877737</td>\n",
              "      <td>1.548718</td>\n",
              "      <td>0.403034</td>\n",
              "      <td>-0.407193</td>\n",
              "      <td>0.095921</td>\n",
              "      <td>0.592941</td>\n",
              "      <td>-0.270533</td>\n",
              "      <td>0.817739</td>\n",
              "      <td>0.753074</td>\n",
              "      <td>...</td>\n",
              "      <td>-0.009431</td>\n",
              "      <td>0.798278</td>\n",
              "      <td>-0.137458</td>\n",
              "      <td>0.141267</td>\n",
              "      <td>-0.206010</td>\n",
              "      <td>0.502292</td>\n",
              "      <td>0.219422</td>\n",
              "      <td>0.215153</td>\n",
              "      <td>69.99</td>\n",
              "      <td>0.0</td>\n",
              "    </tr>\n",
              "  </tbody>\n",
              "</table>\n",
              "<p>5 rows × 30 columns</p>\n",
              "</div>\n",
              "      <button class=\"colab-df-convert\" onclick=\"convertToInteractive('df-fb7782fb-6a9f-4252-af3d-30f5094daf65')\"\n",
              "              title=\"Convert this dataframe to an interactive table.\"\n",
              "              style=\"display:none;\">\n",
              "\n",
              "  <svg xmlns=\"http://www.w3.org/2000/svg\" height=\"24px\"viewBox=\"0 0 24 24\"\n",
              "       width=\"24px\">\n",
              "    <path d=\"M0 0h24v24H0V0z\" fill=\"none\"/>\n",
              "    <path d=\"M18.56 5.44l.94 2.06.94-2.06 2.06-.94-2.06-.94-.94-2.06-.94 2.06-2.06.94zm-11 1L8.5 8.5l.94-2.06 2.06-.94-2.06-.94L8.5 2.5l-.94 2.06-2.06.94zm10 10l.94 2.06.94-2.06 2.06-.94-2.06-.94-.94-2.06-.94 2.06-2.06.94z\"/><path d=\"M17.41 7.96l-1.37-1.37c-.4-.4-.92-.59-1.43-.59-.52 0-1.04.2-1.43.59L10.3 9.45l-7.72 7.72c-.78.78-.78 2.05 0 2.83L4 21.41c.39.39.9.59 1.41.59.51 0 1.02-.2 1.41-.59l7.78-7.78 2.81-2.81c.8-.78.8-2.07 0-2.86zM5.41 20L4 18.59l7.72-7.72 1.47 1.35L5.41 20z\"/>\n",
              "  </svg>\n",
              "      </button>\n",
              "\n",
              "\n",
              "\n",
              "    <div id=\"df-349bcd63-2e2b-4259-a410-05ec63e98740\">\n",
              "      <button class=\"colab-df-quickchart\" onclick=\"quickchart('df-349bcd63-2e2b-4259-a410-05ec63e98740')\"\n",
              "              title=\"Suggest charts.\"\n",
              "              style=\"display:none;\">\n",
              "\n",
              "<svg xmlns=\"http://www.w3.org/2000/svg\" height=\"24px\"viewBox=\"0 0 24 24\"\n",
              "     width=\"24px\">\n",
              "    <g>\n",
              "        <path d=\"M19 3H5c-1.1 0-2 .9-2 2v14c0 1.1.9 2 2 2h14c1.1 0 2-.9 2-2V5c0-1.1-.9-2-2-2zM9 17H7v-7h2v7zm4 0h-2V7h2v10zm4 0h-2v-4h2v4z\"/>\n",
              "    </g>\n",
              "</svg>\n",
              "      </button>\n",
              "    </div>\n",
              "\n",
              "<style>\n",
              "  .colab-df-quickchart {\n",
              "    background-color: #E8F0FE;\n",
              "    border: none;\n",
              "    border-radius: 50%;\n",
              "    cursor: pointer;\n",
              "    display: none;\n",
              "    fill: #1967D2;\n",
              "    height: 32px;\n",
              "    padding: 0 0 0 0;\n",
              "    width: 32px;\n",
              "  }\n",
              "\n",
              "  .colab-df-quickchart:hover {\n",
              "    background-color: #E2EBFA;\n",
              "    box-shadow: 0px 1px 2px rgba(60, 64, 67, 0.3), 0px 1px 3px 1px rgba(60, 64, 67, 0.15);\n",
              "    fill: #174EA6;\n",
              "  }\n",
              "\n",
              "  [theme=dark] .colab-df-quickchart {\n",
              "    background-color: #3B4455;\n",
              "    fill: #D2E3FC;\n",
              "  }\n",
              "\n",
              "  [theme=dark] .colab-df-quickchart:hover {\n",
              "    background-color: #434B5C;\n",
              "    box-shadow: 0px 1px 3px 1px rgba(0, 0, 0, 0.15);\n",
              "    filter: drop-shadow(0px 1px 2px rgba(0, 0, 0, 0.3));\n",
              "    fill: #FFFFFF;\n",
              "  }\n",
              "</style>\n",
              "\n",
              "    <script>\n",
              "      async function quickchart(key) {\n",
              "        const containerElement = document.querySelector('#' + key);\n",
              "        const charts = await google.colab.kernel.invokeFunction(\n",
              "            'suggestCharts', [key], {});\n",
              "      }\n",
              "    </script>\n",
              "\n",
              "      <script>\n",
              "\n",
              "function displayQuickchartButton(domScope) {\n",
              "  let quickchartButtonEl =\n",
              "    domScope.querySelector('#df-349bcd63-2e2b-4259-a410-05ec63e98740 button.colab-df-quickchart');\n",
              "  quickchartButtonEl.style.display =\n",
              "    google.colab.kernel.accessAllowed ? 'block' : 'none';\n",
              "}\n",
              "\n",
              "        displayQuickchartButton(document);\n",
              "      </script>\n",
              "      <style>\n",
              "    .colab-df-container {\n",
              "      display:flex;\n",
              "      flex-wrap:wrap;\n",
              "      gap: 12px;\n",
              "    }\n",
              "\n",
              "    .colab-df-convert {\n",
              "      background-color: #E8F0FE;\n",
              "      border: none;\n",
              "      border-radius: 50%;\n",
              "      cursor: pointer;\n",
              "      display: none;\n",
              "      fill: #1967D2;\n",
              "      height: 32px;\n",
              "      padding: 0 0 0 0;\n",
              "      width: 32px;\n",
              "    }\n",
              "\n",
              "    .colab-df-convert:hover {\n",
              "      background-color: #E2EBFA;\n",
              "      box-shadow: 0px 1px 2px rgba(60, 64, 67, 0.3), 0px 1px 3px 1px rgba(60, 64, 67, 0.15);\n",
              "      fill: #174EA6;\n",
              "    }\n",
              "\n",
              "    [theme=dark] .colab-df-convert {\n",
              "      background-color: #3B4455;\n",
              "      fill: #D2E3FC;\n",
              "    }\n",
              "\n",
              "    [theme=dark] .colab-df-convert:hover {\n",
              "      background-color: #434B5C;\n",
              "      box-shadow: 0px 1px 3px 1px rgba(0, 0, 0, 0.15);\n",
              "      filter: drop-shadow(0px 1px 2px rgba(0, 0, 0, 0.3));\n",
              "      fill: #FFFFFF;\n",
              "    }\n",
              "  </style>\n",
              "\n",
              "      <script>\n",
              "        const buttonEl =\n",
              "          document.querySelector('#df-fb7782fb-6a9f-4252-af3d-30f5094daf65 button.colab-df-convert');\n",
              "        buttonEl.style.display =\n",
              "          google.colab.kernel.accessAllowed ? 'block' : 'none';\n",
              "\n",
              "        async function convertToInteractive(key) {\n",
              "          const element = document.querySelector('#df-fb7782fb-6a9f-4252-af3d-30f5094daf65');\n",
              "          const dataTable =\n",
              "            await google.colab.kernel.invokeFunction('convertToInteractive',\n",
              "                                                     [key], {});\n",
              "          if (!dataTable) return;\n",
              "\n",
              "          const docLinkHtml = 'Like what you see? Visit the ' +\n",
              "            '<a target=\"_blank\" href=https://colab.research.google.com/notebooks/data_table.ipynb>data table notebook</a>'\n",
              "            + ' to learn more about interactive tables.';\n",
              "          element.innerHTML = '';\n",
              "          dataTable['output_type'] = 'display_data';\n",
              "          await google.colab.output.renderOutput(dataTable, element);\n",
              "          const docLink = document.createElement('div');\n",
              "          docLink.innerHTML = docLinkHtml;\n",
              "          element.appendChild(docLink);\n",
              "        }\n",
              "      </script>\n",
              "    </div>\n",
              "  </div>\n"
            ]
          },
          "metadata": {},
          "execution_count": 77
        }
      ]
    },
    {
      "cell_type": "code",
      "source": [
        "data.loc[:,'V1':'Amount'].describe()"
      ],
      "metadata": {
        "colab": {
          "base_uri": "https://localhost:8080/",
          "height": 394
        },
        "id": "RBXJ2Qw1l_aD",
        "outputId": "d2731a20-378a-4b2b-b2bf-33b5d3d048fa"
      },
      "execution_count": 78,
      "outputs": [
        {
          "output_type": "execute_result",
          "data": {
            "text/plain": [
              "                 V1            V2            V3            V4            V5  \\\n",
              "count  85259.000000  85259.000000  85259.000000  85259.000000  85259.000000   \n",
              "mean      -0.262585     -0.039207      0.679054      0.163611     -0.277616   \n",
              "std        1.878484      1.670189      1.366683      1.363280      1.375170   \n",
              "min      -56.407510    -72.715728    -33.680984     -5.172595    -42.147898   \n",
              "25%       -1.025883     -0.602941      0.184642     -0.722311     -0.896999   \n",
              "50%       -0.258057      0.069615      0.762733      0.186825     -0.311837   \n",
              "75%        1.153099      0.724933      1.390659      1.042062      0.257707   \n",
              "max        1.960497     18.902453      4.226108     16.715537     34.801666   \n",
              "\n",
              "                 V6            V7            V8            V9           V10  \\\n",
              "count  85259.000000  85259.000000  85259.000000  85259.000000  85259.000000   \n",
              "mean       0.094861     -0.111651      0.054145     -0.021205     -0.030836   \n",
              "std        1.303646      1.237707      1.223035      1.135023      1.071065   \n",
              "min      -26.160506    -31.764946    -73.216718     -9.283925    -18.271168   \n",
              "25%       -0.644375     -0.603378     -0.140721     -0.690902     -0.502986   \n",
              "50%       -0.155047     -0.072501      0.070103     -0.097017     -0.095056   \n",
              "75%        0.488674      0.416990      0.352738      0.602616      0.442389   \n",
              "max       22.529298     36.677268     20.007208     10.392889     13.198226   \n",
              "\n",
              "       ...           V20           V21           V22           V23  \\\n",
              "count  ...  85259.000000  85259.000000  85259.000000  85259.000000   \n",
              "mean   ...      0.042368     -0.029273     -0.105613     -0.037762   \n",
              "std    ...      0.766911      0.731860      0.635127      0.626519   \n",
              "min    ...    -19.902611    -34.830382    -10.933144    -26.751119   \n",
              "25%    ...     -0.169875     -0.223696     -0.524879     -0.178156   \n",
              "50%    ...     -0.025239     -0.057764     -0.080822     -0.049921   \n",
              "75%    ...      0.170872      0.118290      0.309640      0.080706   \n",
              "max    ...     39.420904     22.614889     10.503090     18.946734   \n",
              "\n",
              "                V24           V25           V26           V27           V28  \\\n",
              "count  85259.000000  85259.000000  85259.000000  85258.000000  85258.000000   \n",
              "mean       0.008986      0.133598      0.026270      0.001449      0.001934   \n",
              "std        0.595040      0.441017      0.497236      0.389486      0.328312   \n",
              "min       -2.836627     -7.495741     -2.534330     -9.390980     -9.617915   \n",
              "25%       -0.322420     -0.130610     -0.326403     -0.063467     -0.005899   \n",
              "50%        0.064547      0.171852     -0.072601      0.009302      0.022947   \n",
              "75%        0.405794      0.421184      0.306305      0.082480      0.076063   \n",
              "max        4.014444      5.525093      3.517346     12.152401     33.847808   \n",
              "\n",
              "             Amount  \n",
              "count  85258.000000  \n",
              "mean      98.374057  \n",
              "std      268.381509  \n",
              "min        0.000000  \n",
              "25%        7.680000  \n",
              "50%       26.990000  \n",
              "75%       89.900000  \n",
              "max    19656.530000  \n",
              "\n",
              "[8 rows x 29 columns]"
            ],
            "text/html": [
              "\n",
              "\n",
              "  <div id=\"df-398b9ac6-88b2-4e62-aec0-90dff7979d5e\">\n",
              "    <div class=\"colab-df-container\">\n",
              "      <div>\n",
              "<style scoped>\n",
              "    .dataframe tbody tr th:only-of-type {\n",
              "        vertical-align: middle;\n",
              "    }\n",
              "\n",
              "    .dataframe tbody tr th {\n",
              "        vertical-align: top;\n",
              "    }\n",
              "\n",
              "    .dataframe thead th {\n",
              "        text-align: right;\n",
              "    }\n",
              "</style>\n",
              "<table border=\"1\" class=\"dataframe\">\n",
              "  <thead>\n",
              "    <tr style=\"text-align: right;\">\n",
              "      <th></th>\n",
              "      <th>V1</th>\n",
              "      <th>V2</th>\n",
              "      <th>V3</th>\n",
              "      <th>V4</th>\n",
              "      <th>V5</th>\n",
              "      <th>V6</th>\n",
              "      <th>V7</th>\n",
              "      <th>V8</th>\n",
              "      <th>V9</th>\n",
              "      <th>V10</th>\n",
              "      <th>...</th>\n",
              "      <th>V20</th>\n",
              "      <th>V21</th>\n",
              "      <th>V22</th>\n",
              "      <th>V23</th>\n",
              "      <th>V24</th>\n",
              "      <th>V25</th>\n",
              "      <th>V26</th>\n",
              "      <th>V27</th>\n",
              "      <th>V28</th>\n",
              "      <th>Amount</th>\n",
              "    </tr>\n",
              "  </thead>\n",
              "  <tbody>\n",
              "    <tr>\n",
              "      <th>count</th>\n",
              "      <td>85259.000000</td>\n",
              "      <td>85259.000000</td>\n",
              "      <td>85259.000000</td>\n",
              "      <td>85259.000000</td>\n",
              "      <td>85259.000000</td>\n",
              "      <td>85259.000000</td>\n",
              "      <td>85259.000000</td>\n",
              "      <td>85259.000000</td>\n",
              "      <td>85259.000000</td>\n",
              "      <td>85259.000000</td>\n",
              "      <td>...</td>\n",
              "      <td>85259.000000</td>\n",
              "      <td>85259.000000</td>\n",
              "      <td>85259.000000</td>\n",
              "      <td>85259.000000</td>\n",
              "      <td>85259.000000</td>\n",
              "      <td>85259.000000</td>\n",
              "      <td>85259.000000</td>\n",
              "      <td>85258.000000</td>\n",
              "      <td>85258.000000</td>\n",
              "      <td>85258.000000</td>\n",
              "    </tr>\n",
              "    <tr>\n",
              "      <th>mean</th>\n",
              "      <td>-0.262585</td>\n",
              "      <td>-0.039207</td>\n",
              "      <td>0.679054</td>\n",
              "      <td>0.163611</td>\n",
              "      <td>-0.277616</td>\n",
              "      <td>0.094861</td>\n",
              "      <td>-0.111651</td>\n",
              "      <td>0.054145</td>\n",
              "      <td>-0.021205</td>\n",
              "      <td>-0.030836</td>\n",
              "      <td>...</td>\n",
              "      <td>0.042368</td>\n",
              "      <td>-0.029273</td>\n",
              "      <td>-0.105613</td>\n",
              "      <td>-0.037762</td>\n",
              "      <td>0.008986</td>\n",
              "      <td>0.133598</td>\n",
              "      <td>0.026270</td>\n",
              "      <td>0.001449</td>\n",
              "      <td>0.001934</td>\n",
              "      <td>98.374057</td>\n",
              "    </tr>\n",
              "    <tr>\n",
              "      <th>std</th>\n",
              "      <td>1.878484</td>\n",
              "      <td>1.670189</td>\n",
              "      <td>1.366683</td>\n",
              "      <td>1.363280</td>\n",
              "      <td>1.375170</td>\n",
              "      <td>1.303646</td>\n",
              "      <td>1.237707</td>\n",
              "      <td>1.223035</td>\n",
              "      <td>1.135023</td>\n",
              "      <td>1.071065</td>\n",
              "      <td>...</td>\n",
              "      <td>0.766911</td>\n",
              "      <td>0.731860</td>\n",
              "      <td>0.635127</td>\n",
              "      <td>0.626519</td>\n",
              "      <td>0.595040</td>\n",
              "      <td>0.441017</td>\n",
              "      <td>0.497236</td>\n",
              "      <td>0.389486</td>\n",
              "      <td>0.328312</td>\n",
              "      <td>268.381509</td>\n",
              "    </tr>\n",
              "    <tr>\n",
              "      <th>min</th>\n",
              "      <td>-56.407510</td>\n",
              "      <td>-72.715728</td>\n",
              "      <td>-33.680984</td>\n",
              "      <td>-5.172595</td>\n",
              "      <td>-42.147898</td>\n",
              "      <td>-26.160506</td>\n",
              "      <td>-31.764946</td>\n",
              "      <td>-73.216718</td>\n",
              "      <td>-9.283925</td>\n",
              "      <td>-18.271168</td>\n",
              "      <td>...</td>\n",
              "      <td>-19.902611</td>\n",
              "      <td>-34.830382</td>\n",
              "      <td>-10.933144</td>\n",
              "      <td>-26.751119</td>\n",
              "      <td>-2.836627</td>\n",
              "      <td>-7.495741</td>\n",
              "      <td>-2.534330</td>\n",
              "      <td>-9.390980</td>\n",
              "      <td>-9.617915</td>\n",
              "      <td>0.000000</td>\n",
              "    </tr>\n",
              "    <tr>\n",
              "      <th>25%</th>\n",
              "      <td>-1.025883</td>\n",
              "      <td>-0.602941</td>\n",
              "      <td>0.184642</td>\n",
              "      <td>-0.722311</td>\n",
              "      <td>-0.896999</td>\n",
              "      <td>-0.644375</td>\n",
              "      <td>-0.603378</td>\n",
              "      <td>-0.140721</td>\n",
              "      <td>-0.690902</td>\n",
              "      <td>-0.502986</td>\n",
              "      <td>...</td>\n",
              "      <td>-0.169875</td>\n",
              "      <td>-0.223696</td>\n",
              "      <td>-0.524879</td>\n",
              "      <td>-0.178156</td>\n",
              "      <td>-0.322420</td>\n",
              "      <td>-0.130610</td>\n",
              "      <td>-0.326403</td>\n",
              "      <td>-0.063467</td>\n",
              "      <td>-0.005899</td>\n",
              "      <td>7.680000</td>\n",
              "    </tr>\n",
              "    <tr>\n",
              "      <th>50%</th>\n",
              "      <td>-0.258057</td>\n",
              "      <td>0.069615</td>\n",
              "      <td>0.762733</td>\n",
              "      <td>0.186825</td>\n",
              "      <td>-0.311837</td>\n",
              "      <td>-0.155047</td>\n",
              "      <td>-0.072501</td>\n",
              "      <td>0.070103</td>\n",
              "      <td>-0.097017</td>\n",
              "      <td>-0.095056</td>\n",
              "      <td>...</td>\n",
              "      <td>-0.025239</td>\n",
              "      <td>-0.057764</td>\n",
              "      <td>-0.080822</td>\n",
              "      <td>-0.049921</td>\n",
              "      <td>0.064547</td>\n",
              "      <td>0.171852</td>\n",
              "      <td>-0.072601</td>\n",
              "      <td>0.009302</td>\n",
              "      <td>0.022947</td>\n",
              "      <td>26.990000</td>\n",
              "    </tr>\n",
              "    <tr>\n",
              "      <th>75%</th>\n",
              "      <td>1.153099</td>\n",
              "      <td>0.724933</td>\n",
              "      <td>1.390659</td>\n",
              "      <td>1.042062</td>\n",
              "      <td>0.257707</td>\n",
              "      <td>0.488674</td>\n",
              "      <td>0.416990</td>\n",
              "      <td>0.352738</td>\n",
              "      <td>0.602616</td>\n",
              "      <td>0.442389</td>\n",
              "      <td>...</td>\n",
              "      <td>0.170872</td>\n",
              "      <td>0.118290</td>\n",
              "      <td>0.309640</td>\n",
              "      <td>0.080706</td>\n",
              "      <td>0.405794</td>\n",
              "      <td>0.421184</td>\n",
              "      <td>0.306305</td>\n",
              "      <td>0.082480</td>\n",
              "      <td>0.076063</td>\n",
              "      <td>89.900000</td>\n",
              "    </tr>\n",
              "    <tr>\n",
              "      <th>max</th>\n",
              "      <td>1.960497</td>\n",
              "      <td>18.902453</td>\n",
              "      <td>4.226108</td>\n",
              "      <td>16.715537</td>\n",
              "      <td>34.801666</td>\n",
              "      <td>22.529298</td>\n",
              "      <td>36.677268</td>\n",
              "      <td>20.007208</td>\n",
              "      <td>10.392889</td>\n",
              "      <td>13.198226</td>\n",
              "      <td>...</td>\n",
              "      <td>39.420904</td>\n",
              "      <td>22.614889</td>\n",
              "      <td>10.503090</td>\n",
              "      <td>18.946734</td>\n",
              "      <td>4.014444</td>\n",
              "      <td>5.525093</td>\n",
              "      <td>3.517346</td>\n",
              "      <td>12.152401</td>\n",
              "      <td>33.847808</td>\n",
              "      <td>19656.530000</td>\n",
              "    </tr>\n",
              "  </tbody>\n",
              "</table>\n",
              "<p>8 rows × 29 columns</p>\n",
              "</div>\n",
              "      <button class=\"colab-df-convert\" onclick=\"convertToInteractive('df-398b9ac6-88b2-4e62-aec0-90dff7979d5e')\"\n",
              "              title=\"Convert this dataframe to an interactive table.\"\n",
              "              style=\"display:none;\">\n",
              "\n",
              "  <svg xmlns=\"http://www.w3.org/2000/svg\" height=\"24px\"viewBox=\"0 0 24 24\"\n",
              "       width=\"24px\">\n",
              "    <path d=\"M0 0h24v24H0V0z\" fill=\"none\"/>\n",
              "    <path d=\"M18.56 5.44l.94 2.06.94-2.06 2.06-.94-2.06-.94-.94-2.06-.94 2.06-2.06.94zm-11 1L8.5 8.5l.94-2.06 2.06-.94-2.06-.94L8.5 2.5l-.94 2.06-2.06.94zm10 10l.94 2.06.94-2.06 2.06-.94-2.06-.94-.94-2.06-.94 2.06-2.06.94z\"/><path d=\"M17.41 7.96l-1.37-1.37c-.4-.4-.92-.59-1.43-.59-.52 0-1.04.2-1.43.59L10.3 9.45l-7.72 7.72c-.78.78-.78 2.05 0 2.83L4 21.41c.39.39.9.59 1.41.59.51 0 1.02-.2 1.41-.59l7.78-7.78 2.81-2.81c.8-.78.8-2.07 0-2.86zM5.41 20L4 18.59l7.72-7.72 1.47 1.35L5.41 20z\"/>\n",
              "  </svg>\n",
              "      </button>\n",
              "\n",
              "\n",
              "\n",
              "    <div id=\"df-c000898f-6613-445d-9342-acbdc9c514b7\">\n",
              "      <button class=\"colab-df-quickchart\" onclick=\"quickchart('df-c000898f-6613-445d-9342-acbdc9c514b7')\"\n",
              "              title=\"Suggest charts.\"\n",
              "              style=\"display:none;\">\n",
              "\n",
              "<svg xmlns=\"http://www.w3.org/2000/svg\" height=\"24px\"viewBox=\"0 0 24 24\"\n",
              "     width=\"24px\">\n",
              "    <g>\n",
              "        <path d=\"M19 3H5c-1.1 0-2 .9-2 2v14c0 1.1.9 2 2 2h14c1.1 0 2-.9 2-2V5c0-1.1-.9-2-2-2zM9 17H7v-7h2v7zm4 0h-2V7h2v10zm4 0h-2v-4h2v4z\"/>\n",
              "    </g>\n",
              "</svg>\n",
              "      </button>\n",
              "    </div>\n",
              "\n",
              "<style>\n",
              "  .colab-df-quickchart {\n",
              "    background-color: #E8F0FE;\n",
              "    border: none;\n",
              "    border-radius: 50%;\n",
              "    cursor: pointer;\n",
              "    display: none;\n",
              "    fill: #1967D2;\n",
              "    height: 32px;\n",
              "    padding: 0 0 0 0;\n",
              "    width: 32px;\n",
              "  }\n",
              "\n",
              "  .colab-df-quickchart:hover {\n",
              "    background-color: #E2EBFA;\n",
              "    box-shadow: 0px 1px 2px rgba(60, 64, 67, 0.3), 0px 1px 3px 1px rgba(60, 64, 67, 0.15);\n",
              "    fill: #174EA6;\n",
              "  }\n",
              "\n",
              "  [theme=dark] .colab-df-quickchart {\n",
              "    background-color: #3B4455;\n",
              "    fill: #D2E3FC;\n",
              "  }\n",
              "\n",
              "  [theme=dark] .colab-df-quickchart:hover {\n",
              "    background-color: #434B5C;\n",
              "    box-shadow: 0px 1px 3px 1px rgba(0, 0, 0, 0.15);\n",
              "    filter: drop-shadow(0px 1px 2px rgba(0, 0, 0, 0.3));\n",
              "    fill: #FFFFFF;\n",
              "  }\n",
              "</style>\n",
              "\n",
              "    <script>\n",
              "      async function quickchart(key) {\n",
              "        const containerElement = document.querySelector('#' + key);\n",
              "        const charts = await google.colab.kernel.invokeFunction(\n",
              "            'suggestCharts', [key], {});\n",
              "      }\n",
              "    </script>\n",
              "\n",
              "      <script>\n",
              "\n",
              "function displayQuickchartButton(domScope) {\n",
              "  let quickchartButtonEl =\n",
              "    domScope.querySelector('#df-c000898f-6613-445d-9342-acbdc9c514b7 button.colab-df-quickchart');\n",
              "  quickchartButtonEl.style.display =\n",
              "    google.colab.kernel.accessAllowed ? 'block' : 'none';\n",
              "}\n",
              "\n",
              "        displayQuickchartButton(document);\n",
              "      </script>\n",
              "      <style>\n",
              "    .colab-df-container {\n",
              "      display:flex;\n",
              "      flex-wrap:wrap;\n",
              "      gap: 12px;\n",
              "    }\n",
              "\n",
              "    .colab-df-convert {\n",
              "      background-color: #E8F0FE;\n",
              "      border: none;\n",
              "      border-radius: 50%;\n",
              "      cursor: pointer;\n",
              "      display: none;\n",
              "      fill: #1967D2;\n",
              "      height: 32px;\n",
              "      padding: 0 0 0 0;\n",
              "      width: 32px;\n",
              "    }\n",
              "\n",
              "    .colab-df-convert:hover {\n",
              "      background-color: #E2EBFA;\n",
              "      box-shadow: 0px 1px 2px rgba(60, 64, 67, 0.3), 0px 1px 3px 1px rgba(60, 64, 67, 0.15);\n",
              "      fill: #174EA6;\n",
              "    }\n",
              "\n",
              "    [theme=dark] .colab-df-convert {\n",
              "      background-color: #3B4455;\n",
              "      fill: #D2E3FC;\n",
              "    }\n",
              "\n",
              "    [theme=dark] .colab-df-convert:hover {\n",
              "      background-color: #434B5C;\n",
              "      box-shadow: 0px 1px 3px 1px rgba(0, 0, 0, 0.15);\n",
              "      filter: drop-shadow(0px 1px 2px rgba(0, 0, 0, 0.3));\n",
              "      fill: #FFFFFF;\n",
              "    }\n",
              "  </style>\n",
              "\n",
              "      <script>\n",
              "        const buttonEl =\n",
              "          document.querySelector('#df-398b9ac6-88b2-4e62-aec0-90dff7979d5e button.colab-df-convert');\n",
              "        buttonEl.style.display =\n",
              "          google.colab.kernel.accessAllowed ? 'block' : 'none';\n",
              "\n",
              "        async function convertToInteractive(key) {\n",
              "          const element = document.querySelector('#df-398b9ac6-88b2-4e62-aec0-90dff7979d5e');\n",
              "          const dataTable =\n",
              "            await google.colab.kernel.invokeFunction('convertToInteractive',\n",
              "                                                     [key], {});\n",
              "          if (!dataTable) return;\n",
              "\n",
              "          const docLinkHtml = 'Like what you see? Visit the ' +\n",
              "            '<a target=\"_blank\" href=https://colab.research.google.com/notebooks/data_table.ipynb>data table notebook</a>'\n",
              "            + ' to learn more about interactive tables.';\n",
              "          element.innerHTML = '';\n",
              "          dataTable['output_type'] = 'display_data';\n",
              "          await google.colab.output.renderOutput(dataTable, element);\n",
              "          const docLink = document.createElement('div');\n",
              "          docLink.innerHTML = docLinkHtml;\n",
              "          element.appendChild(docLink);\n",
              "        }\n",
              "      </script>\n",
              "    </div>\n",
              "  </div>\n"
            ]
          },
          "metadata": {},
          "execution_count": 78
        }
      ]
    },
    {
      "cell_type": "code",
      "source": [
        "data['Amount'].values"
      ],
      "metadata": {
        "colab": {
          "base_uri": "https://localhost:8080/"
        },
        "id": "7O89iJkTmExs",
        "outputId": "7f6f4076-a454-49ca-ee31-a1c31f9198d6"
      },
      "execution_count": 79,
      "outputs": [
        {
          "output_type": "execute_result",
          "data": {
            "text/plain": [
              "array([149.62,   2.69, 378.66, ..., 192.  ,  12.99,    nan])"
            ]
          },
          "metadata": {},
          "execution_count": 79
        }
      ]
    },
    {
      "cell_type": "code",
      "source": [
        "data['Amount'].values.reshape(-1,1)"
      ],
      "metadata": {
        "colab": {
          "base_uri": "https://localhost:8080/"
        },
        "id": "POnlJzLtmKBg",
        "outputId": "02b98991-ab6a-4b4d-d1a4-361e8f857acb"
      },
      "execution_count": 80,
      "outputs": [
        {
          "output_type": "execute_result",
          "data": {
            "text/plain": [
              "array([[149.62],\n",
              "       [  2.69],\n",
              "       [378.66],\n",
              "       ...,\n",
              "       [192.  ],\n",
              "       [ 12.99],\n",
              "       [   nan]])"
            ]
          },
          "metadata": {},
          "execution_count": 80
        }
      ]
    },
    {
      "cell_type": "code",
      "source": [
        "data['Amount'].mean()"
      ],
      "metadata": {
        "colab": {
          "base_uri": "https://localhost:8080/"
        },
        "id": "JsJOqxU7mOXV",
        "outputId": "fde3f8f3-8a7b-41c1-9cfd-075498171b75"
      },
      "execution_count": 81,
      "outputs": [
        {
          "output_type": "execute_result",
          "data": {
            "text/plain": [
              "98.374056628117"
            ]
          },
          "metadata": {},
          "execution_count": 81
        }
      ]
    },
    {
      "cell_type": "code",
      "source": [
        "data['Amount'].std()"
      ],
      "metadata": {
        "colab": {
          "base_uri": "https://localhost:8080/"
        },
        "id": "et6zaluumSBB",
        "outputId": "94761de1-c26e-4518-c0a6-2ddcf302b89b"
      },
      "execution_count": 82,
      "outputs": [
        {
          "output_type": "execute_result",
          "data": {
            "text/plain": [
              "268.38150943125703"
            ]
          },
          "metadata": {},
          "execution_count": 82
        }
      ]
    },
    {
      "cell_type": "code",
      "source": [
        "(data['Amount'] - 98.374056628117)/268.38150943125703"
      ],
      "metadata": {
        "colab": {
          "base_uri": "https://localhost:8080/"
        },
        "id": "gDhr8GaFmVCg",
        "outputId": "6e8f79e9-b5d6-4c4e-a3dc-872386749db6"
      },
      "execution_count": 83,
      "outputs": [
        {
          "output_type": "execute_result",
          "data": {
            "text/plain": [
              "0        0.190944\n",
              "1       -0.356523\n",
              "2        1.044356\n",
              "3        0.093620\n",
              "4       -0.105760\n",
              "           ...   \n",
              "85254   -0.292025\n",
              "85255    0.084268\n",
              "85256    0.348854\n",
              "85257   -0.318144\n",
              "85258         NaN\n",
              "Name: Amount, Length: 85259, dtype: float64"
            ]
          },
          "metadata": {},
          "execution_count": 83
        }
      ]
    },
    {
      "cell_type": "code",
      "source": [
        "data['Amount'] = StandardScaler().fit_transform(data['Amount'].values.reshape(-1, 1))\n",
        "data['Amount']"
      ],
      "metadata": {
        "colab": {
          "base_uri": "https://localhost:8080/"
        },
        "id": "psenNO6qm-Se",
        "outputId": "f3d56f3f-348d-4c76-e2ef-14d1ec1d3b6f"
      },
      "execution_count": 84,
      "outputs": [
        {
          "output_type": "execute_result",
          "data": {
            "text/plain": [
              "0        0.190946\n",
              "1       -0.356525\n",
              "2        1.044363\n",
              "3        0.093621\n",
              "4       -0.105761\n",
              "           ...   \n",
              "85254   -0.292027\n",
              "85255    0.084268\n",
              "85256    0.348856\n",
              "85257   -0.318146\n",
              "85258         NaN\n",
              "Name: Amount, Length: 85259, dtype: float64"
            ]
          },
          "metadata": {},
          "execution_count": 84
        }
      ]
    },
    {
      "cell_type": "code",
      "source": [
        "X = data[data.columns.difference(['Class'])]\n",
        "y = data['Class']"
      ],
      "metadata": {
        "id": "9pgnvHkDnDd4"
      },
      "execution_count": 85,
      "outputs": []
    },
    {
      "cell_type": "code",
      "source": [
        "y"
      ],
      "metadata": {
        "colab": {
          "base_uri": "https://localhost:8080/"
        },
        "id": "mp_jRDAwnDcx",
        "outputId": "ec854e08-600d-4888-ed7c-01510e05249a"
      },
      "execution_count": 86,
      "outputs": [
        {
          "output_type": "execute_result",
          "data": {
            "text/plain": [
              "0        0.0\n",
              "1        0.0\n",
              "2        0.0\n",
              "3        0.0\n",
              "4        0.0\n",
              "        ... \n",
              "85254    0.0\n",
              "85255    0.0\n",
              "85256    0.0\n",
              "85257    0.0\n",
              "85258    NaN\n",
              "Name: Class, Length: 85259, dtype: float64"
            ]
          },
          "metadata": {},
          "execution_count": 86
        }
      ]
    },
    {
      "cell_type": "code",
      "source": [
        "from sklearn.model_selection import train_test_split"
      ],
      "metadata": {
        "id": "PnL63jYwnGN-"
      },
      "execution_count": 87,
      "outputs": []
    },
    {
      "cell_type": "code",
      "source": [
        "X_train, X_test, y_train, y_test = train_test_split(X, y, test_size=0.2, random_state=RANDOM_SEED)"
      ],
      "metadata": {
        "id": "paWulF2OnK0D"
      },
      "execution_count": 88,
      "outputs": []
    },
    {
      "cell_type": "code",
      "source": [
        "y_train = y_train.astype(int)\n",
        "counts = np.bincount(np.array(y_train))\n",
        "counts"
      ],
      "metadata": {
        "colab": {
          "base_uri": "https://localhost:8080/"
        },
        "id": "LlM6tuE3nzSi",
        "outputId": "67ce0ce2-3425-415b-f4cd-1c9abf43fdbd"
      },
      "execution_count": 94,
      "outputs": [
        {
          "output_type": "execute_result",
          "data": {
            "text/plain": [
              "array([68047,   160])"
            ]
          },
          "metadata": {},
          "execution_count": 94
        }
      ]
    },
    {
      "cell_type": "code",
      "source": [
        "print(\n",
        "    \"Number of positive samples in training data: {} ({:.2f}% of total)\".format(\n",
        "        counts[1], 100 * float(counts[1]) / len(np.array(y_train))\n",
        "    )\n",
        ")\n",
        "\n",
        "weight_for_0 = 1.0 / counts[0]\n",
        "weight_for_1 = 1.0 / counts[1]"
      ],
      "metadata": {
        "colab": {
          "base_uri": "https://localhost:8080/"
        },
        "id": "KkjRiq0SpJ0D",
        "outputId": "7a21817c-1e92-4871-e314-a4baee85069b"
      },
      "execution_count": 95,
      "outputs": [
        {
          "output_type": "stream",
          "name": "stdout",
          "text": [
            "Number of positive samples in training data: 160 (0.23% of total)\n"
          ]
        }
      ]
    },
    {
      "cell_type": "code",
      "source": [
        "model = keras.Sequential(\n",
        "    [\n",
        "        keras.layers.Dense(\n",
        "            256, activation=\"relu\", input_shape=(X_train.shape[-1],)\n",
        "        ),\n",
        "        keras.layers.Dense(256, activation=\"relu\"),\n",
        "        keras.layers.Dropout(0.3),\n",
        "        keras.layers.Dense(256, activation=\"relu\"),\n",
        "        keras.layers.Dropout(0.3),\n",
        "        keras.layers.Dense(1, activation=\"sigmoid\"),\n",
        "    ]\n",
        ")\n",
        "model.summary()"
      ],
      "metadata": {
        "colab": {
          "base_uri": "https://localhost:8080/"
        },
        "id": "VazNV1zTn7bK",
        "outputId": "d0898153-c186-4fc8-e4cf-534bd9e2c67a"
      },
      "execution_count": 96,
      "outputs": [
        {
          "output_type": "stream",
          "name": "stdout",
          "text": [
            "Model: \"sequential_2\"\n",
            "_________________________________________________________________\n",
            " Layer (type)                Output Shape              Param #   \n",
            "=================================================================\n",
            " dense_8 (Dense)             (None, 256)               7680      \n",
            "                                                                 \n",
            " dense_9 (Dense)             (None, 256)               65792     \n",
            "                                                                 \n",
            " dropout_4 (Dropout)         (None, 256)               0         \n",
            "                                                                 \n",
            " dense_10 (Dense)            (None, 256)               65792     \n",
            "                                                                 \n",
            " dropout_5 (Dropout)         (None, 256)               0         \n",
            "                                                                 \n",
            " dense_11 (Dense)            (None, 1)                 257       \n",
            "                                                                 \n",
            "=================================================================\n",
            "Total params: 139,521\n",
            "Trainable params: 139,521\n",
            "Non-trainable params: 0\n",
            "_________________________________________________________________\n"
          ]
        }
      ]
    },
    {
      "cell_type": "code",
      "source": [
        "metrics = [\n",
        "    keras.metrics.FalseNegatives(name=\"fn\"),\n",
        "    keras.metrics.FalsePositives(name=\"fp\"),\n",
        "    keras.metrics.TrueNegatives(name=\"tn\"),\n",
        "    keras.metrics.TruePositives(name=\"tp\"),\n",
        "    keras.metrics.Precision(name=\"precision\"),\n",
        "    keras.metrics.Recall(name=\"recall\"),\n",
        "]\n",
        "\n",
        "model.compile(\n",
        "    optimizer=keras.optimizers.Adam(1e-2), loss=\"binary_crossentropy\", metrics=metrics\n",
        ")\n",
        "\n",
        "callbacks = [keras.callbacks.ModelCheckpoint(\"fraud_model_at_epoch_{epoch}.h5\")]\n",
        "class_weight = {0: weight_for_0, 1: weight_for_1}\n",
        "\n",
        "model.fit(\n",
        "    X_train,\n",
        "    y_train,\n",
        "    batch_size=2048,\n",
        "    epochs=30,\n",
        "    verbose=2,\n",
        "    callbacks=callbacks,\n",
        "    validation_data=(X_test, y_test),\n",
        "    class_weight=class_weight,\n",
        ")"
      ],
      "metadata": {
        "colab": {
          "base_uri": "https://localhost:8080/"
        },
        "id": "IEL_WPaPoDDu",
        "outputId": "b9b091fa-cf82-42cf-9082-aad92cbe541c"
      },
      "execution_count": 97,
      "outputs": [
        {
          "output_type": "stream",
          "name": "stdout",
          "text": [
            "Epoch 1/30\n",
            "34/34 - 8s - loss: 1.0183e-05 - fn: 18.0000 - fp: 15388.0000 - tn: 52659.0000 - tp: 142.0000 - precision: 0.0091 - recall: 0.8875 - val_loss: nan - val_fn: 7.0000 - val_fp: 380.0000 - val_tn: 16627.0000 - val_tp: 38.0000 - val_precision: 0.0909 - val_recall: 0.8444 - 8s/epoch - 246ms/step\n",
            "Epoch 2/30\n",
            "34/34 - 0s - loss: 4.8502e-06 - fn: 10.0000 - fp: 1350.0000 - tn: 66697.0000 - tp: 150.0000 - precision: 0.1000 - recall: 0.9375 - val_loss: nan - val_fn: 5.0000 - val_fp: 396.0000 - val_tn: 16611.0000 - val_tp: 40.0000 - val_precision: 0.0917 - val_recall: 0.8889 - 237ms/epoch - 7ms/step\n",
            "Epoch 3/30\n",
            "34/34 - 0s - loss: 3.3476e-06 - fn: 8.0000 - fp: 1192.0000 - tn: 66855.0000 - tp: 152.0000 - precision: 0.1131 - recall: 0.9500 - val_loss: nan - val_fn: 5.0000 - val_fp: 327.0000 - val_tn: 16680.0000 - val_tp: 40.0000 - val_precision: 0.1090 - val_recall: 0.8889 - 255ms/epoch - 7ms/step\n",
            "Epoch 4/30\n",
            "34/34 - 0s - loss: 4.1329e-06 - fn: 7.0000 - fp: 1858.0000 - tn: 66189.0000 - tp: 153.0000 - precision: 0.0761 - recall: 0.9563 - val_loss: nan - val_fn: 6.0000 - val_fp: 254.0000 - val_tn: 16753.0000 - val_tp: 39.0000 - val_precision: 0.1331 - val_recall: 0.8667 - 235ms/epoch - 7ms/step\n",
            "Epoch 5/30\n",
            "34/34 - 0s - loss: 4.5737e-06 - fn: 7.0000 - fp: 1778.0000 - tn: 66269.0000 - tp: 153.0000 - precision: 0.0792 - recall: 0.9563 - val_loss: nan - val_fn: 5.0000 - val_fp: 325.0000 - val_tn: 16682.0000 - val_tp: 40.0000 - val_precision: 0.1096 - val_recall: 0.8889 - 222ms/epoch - 7ms/step\n",
            "Epoch 6/30\n",
            "34/34 - 0s - loss: 3.5932e-06 - fn: 7.0000 - fp: 1004.0000 - tn: 67043.0000 - tp: 153.0000 - precision: 0.1322 - recall: 0.9563 - val_loss: nan - val_fn: 4.0000 - val_fp: 668.0000 - val_tn: 16339.0000 - val_tp: 41.0000 - val_precision: 0.0578 - val_recall: 0.9111 - 256ms/epoch - 8ms/step\n",
            "Epoch 7/30\n",
            "34/34 - 0s - loss: 3.8060e-06 - fn: 5.0000 - fp: 1436.0000 - tn: 66611.0000 - tp: 155.0000 - precision: 0.0974 - recall: 0.9688 - val_loss: nan - val_fn: 4.0000 - val_fp: 573.0000 - val_tn: 16434.0000 - val_tp: 41.0000 - val_precision: 0.0668 - val_recall: 0.9111 - 219ms/epoch - 6ms/step\n",
            "Epoch 8/30\n",
            "34/34 - 0s - loss: 3.2789e-06 - fn: 5.0000 - fp: 759.0000 - tn: 67288.0000 - tp: 155.0000 - precision: 0.1696 - recall: 0.9688 - val_loss: nan - val_fn: 5.0000 - val_fp: 184.0000 - val_tn: 16823.0000 - val_tp: 40.0000 - val_precision: 0.1786 - val_recall: 0.8889 - 227ms/epoch - 7ms/step\n",
            "Epoch 9/30\n",
            "34/34 - 0s - loss: 2.4059e-06 - fn: 4.0000 - fp: 1067.0000 - tn: 66980.0000 - tp: 156.0000 - precision: 0.1276 - recall: 0.9750 - val_loss: nan - val_fn: 4.0000 - val_fp: 684.0000 - val_tn: 16323.0000 - val_tp: 41.0000 - val_precision: 0.0566 - val_recall: 0.9111 - 224ms/epoch - 7ms/step\n",
            "Epoch 10/30\n",
            "34/34 - 0s - loss: 2.6113e-06 - fn: 4.0000 - fp: 840.0000 - tn: 67207.0000 - tp: 156.0000 - precision: 0.1566 - recall: 0.9750 - val_loss: nan - val_fn: 6.0000 - val_fp: 67.0000 - val_tn: 16940.0000 - val_tp: 39.0000 - val_precision: 0.3679 - val_recall: 0.8667 - 219ms/epoch - 6ms/step\n",
            "Epoch 11/30\n",
            "34/34 - 0s - loss: 1.7275e-06 - fn: 2.0000 - fp: 822.0000 - tn: 67225.0000 - tp: 158.0000 - precision: 0.1612 - recall: 0.9875 - val_loss: nan - val_fn: 6.0000 - val_fp: 307.0000 - val_tn: 16700.0000 - val_tp: 39.0000 - val_precision: 0.1127 - val_recall: 0.8667 - 222ms/epoch - 7ms/step\n",
            "Epoch 12/30\n",
            "34/34 - 0s - loss: 8.5584e-07 - fn: 0.0000e+00 - fp: 558.0000 - tn: 67489.0000 - tp: 160.0000 - precision: 0.2228 - recall: 1.0000 - val_loss: nan - val_fn: 6.0000 - val_fp: 128.0000 - val_tn: 16879.0000 - val_tp: 39.0000 - val_precision: 0.2335 - val_recall: 0.8667 - 260ms/epoch - 8ms/step\n",
            "Epoch 13/30\n",
            "34/34 - 0s - loss: 1.0738e-06 - fn: 2.0000 - fp: 719.0000 - tn: 67328.0000 - tp: 158.0000 - precision: 0.1802 - recall: 0.9875 - val_loss: nan - val_fn: 5.0000 - val_fp: 863.0000 - val_tn: 16144.0000 - val_tp: 40.0000 - val_precision: 0.0443 - val_recall: 0.8889 - 223ms/epoch - 7ms/step\n",
            "Epoch 14/30\n",
            "34/34 - 0s - loss: 1.9696e-06 - fn: 4.0000 - fp: 1265.0000 - tn: 66782.0000 - tp: 156.0000 - precision: 0.1098 - recall: 0.9750 - val_loss: nan - val_fn: 6.0000 - val_fp: 329.0000 - val_tn: 16678.0000 - val_tp: 39.0000 - val_precision: 0.1060 - val_recall: 0.8667 - 216ms/epoch - 6ms/step\n",
            "Epoch 15/30\n",
            "34/34 - 0s - loss: 2.1203e-06 - fn: 2.0000 - fp: 1141.0000 - tn: 66906.0000 - tp: 158.0000 - precision: 0.1216 - recall: 0.9875 - val_loss: nan - val_fn: 7.0000 - val_fp: 110.0000 - val_tn: 16897.0000 - val_tp: 38.0000 - val_precision: 0.2568 - val_recall: 0.8444 - 239ms/epoch - 7ms/step\n",
            "Epoch 16/30\n",
            "34/34 - 0s - loss: 1.5914e-06 - fn: 1.0000 - fp: 634.0000 - tn: 67413.0000 - tp: 159.0000 - precision: 0.2005 - recall: 0.9937 - val_loss: nan - val_fn: 7.0000 - val_fp: 217.0000 - val_tn: 16790.0000 - val_tp: 38.0000 - val_precision: 0.1490 - val_recall: 0.8444 - 216ms/epoch - 6ms/step\n",
            "Epoch 17/30\n",
            "34/34 - 0s - loss: 1.0616e-06 - fn: 2.0000 - fp: 668.0000 - tn: 67379.0000 - tp: 158.0000 - precision: 0.1913 - recall: 0.9875 - val_loss: nan - val_fn: 6.0000 - val_fp: 279.0000 - val_tn: 16728.0000 - val_tp: 39.0000 - val_precision: 0.1226 - val_recall: 0.8667 - 252ms/epoch - 7ms/step\n",
            "Epoch 18/30\n",
            "34/34 - 0s - loss: 7.0736e-07 - fn: 1.0000 - fp: 674.0000 - tn: 67373.0000 - tp: 159.0000 - precision: 0.1909 - recall: 0.9937 - val_loss: nan - val_fn: 6.0000 - val_fp: 188.0000 - val_tn: 16819.0000 - val_tp: 39.0000 - val_precision: 0.1718 - val_recall: 0.8667 - 218ms/epoch - 6ms/step\n",
            "Epoch 19/30\n",
            "34/34 - 0s - loss: 5.4255e-07 - fn: 0.0000e+00 - fp: 622.0000 - tn: 67425.0000 - tp: 160.0000 - precision: 0.2046 - recall: 1.0000 - val_loss: nan - val_fn: 7.0000 - val_fp: 72.0000 - val_tn: 16935.0000 - val_tp: 38.0000 - val_precision: 0.3455 - val_recall: 0.8444 - 232ms/epoch - 7ms/step\n",
            "Epoch 20/30\n",
            "34/34 - 0s - loss: 6.7801e-07 - fn: 2.0000 - fp: 402.0000 - tn: 67645.0000 - tp: 158.0000 - precision: 0.2821 - recall: 0.9875 - val_loss: nan - val_fn: 7.0000 - val_fp: 194.0000 - val_tn: 16813.0000 - val_tp: 38.0000 - val_precision: 0.1638 - val_recall: 0.8444 - 216ms/epoch - 6ms/step\n",
            "Epoch 21/30\n",
            "34/34 - 0s - loss: 4.7599e-07 - fn: 0.0000e+00 - fp: 574.0000 - tn: 67473.0000 - tp: 160.0000 - precision: 0.2180 - recall: 1.0000 - val_loss: nan - val_fn: 8.0000 - val_fp: 58.0000 - val_tn: 16949.0000 - val_tp: 37.0000 - val_precision: 0.3895 - val_recall: 0.8222 - 225ms/epoch - 7ms/step\n",
            "Epoch 22/30\n",
            "34/34 - 0s - loss: 3.5896e-07 - fn: 0.0000e+00 - fp: 203.0000 - tn: 67844.0000 - tp: 160.0000 - precision: 0.4408 - recall: 1.0000 - val_loss: nan - val_fn: 7.0000 - val_fp: 63.0000 - val_tn: 16944.0000 - val_tp: 38.0000 - val_precision: 0.3762 - val_recall: 0.8444 - 252ms/epoch - 7ms/step\n",
            "Epoch 23/30\n",
            "34/34 - 0s - loss: 4.7854e-07 - fn: 0.0000e+00 - fp: 642.0000 - tn: 67405.0000 - tp: 160.0000 - precision: 0.1995 - recall: 1.0000 - val_loss: nan - val_fn: 7.0000 - val_fp: 65.0000 - val_tn: 16942.0000 - val_tp: 38.0000 - val_precision: 0.3689 - val_recall: 0.8444 - 210ms/epoch - 6ms/step\n",
            "Epoch 24/30\n",
            "34/34 - 0s - loss: 3.5375e-07 - fn: 1.0000 - fp: 199.0000 - tn: 67848.0000 - tp: 159.0000 - precision: 0.4441 - recall: 0.9937 - val_loss: nan - val_fn: 7.0000 - val_fp: 49.0000 - val_tn: 16958.0000 - val_tp: 38.0000 - val_precision: 0.4368 - val_recall: 0.8444 - 262ms/epoch - 8ms/step\n",
            "Epoch 25/30\n",
            "34/34 - 0s - loss: 4.3814e-07 - fn: 0.0000e+00 - fp: 459.0000 - tn: 67588.0000 - tp: 160.0000 - precision: 0.2585 - recall: 1.0000 - val_loss: nan - val_fn: 7.0000 - val_fp: 86.0000 - val_tn: 16921.0000 - val_tp: 38.0000 - val_precision: 0.3065 - val_recall: 0.8444 - 257ms/epoch - 8ms/step\n",
            "Epoch 26/30\n",
            "34/34 - 0s - loss: 5.2831e-07 - fn: 0.0000e+00 - fp: 685.0000 - tn: 67362.0000 - tp: 160.0000 - precision: 0.1893 - recall: 1.0000 - val_loss: nan - val_fn: 8.0000 - val_fp: 52.0000 - val_tn: 16955.0000 - val_tp: 37.0000 - val_precision: 0.4157 - val_recall: 0.8222 - 215ms/epoch - 6ms/step\n",
            "Epoch 27/30\n",
            "34/34 - 0s - loss: 4.1511e-07 - fn: 1.0000 - fp: 199.0000 - tn: 67848.0000 - tp: 159.0000 - precision: 0.4441 - recall: 0.9937 - val_loss: nan - val_fn: 7.0000 - val_fp: 138.0000 - val_tn: 16869.0000 - val_tp: 38.0000 - val_precision: 0.2159 - val_recall: 0.8444 - 254ms/epoch - 7ms/step\n",
            "Epoch 28/30\n",
            "34/34 - 0s - loss: 3.4510e-07 - fn: 0.0000e+00 - fp: 485.0000 - tn: 67562.0000 - tp: 160.0000 - precision: 0.2481 - recall: 1.0000 - val_loss: nan - val_fn: 8.0000 - val_fp: 34.0000 - val_tn: 16973.0000 - val_tp: 37.0000 - val_precision: 0.5211 - val_recall: 0.8222 - 219ms/epoch - 6ms/step\n",
            "Epoch 29/30\n",
            "34/34 - 0s - loss: 3.6188e-07 - fn: 1.0000 - fp: 262.0000 - tn: 67785.0000 - tp: 159.0000 - precision: 0.3777 - recall: 0.9937 - val_loss: nan - val_fn: 8.0000 - val_fp: 71.0000 - val_tn: 16936.0000 - val_tp: 37.0000 - val_precision: 0.3426 - val_recall: 0.8222 - 264ms/epoch - 8ms/step\n",
            "Epoch 30/30\n",
            "34/34 - 0s - loss: 2.4039e-07 - fn: 0.0000e+00 - fp: 210.0000 - tn: 67837.0000 - tp: 160.0000 - precision: 0.4324 - recall: 1.0000 - val_loss: nan - val_fn: 8.0000 - val_fp: 59.0000 - val_tn: 16948.0000 - val_tp: 37.0000 - val_precision: 0.3854 - val_recall: 0.8222 - 247ms/epoch - 7ms/step\n"
          ]
        },
        {
          "output_type": "execute_result",
          "data": {
            "text/plain": [
              "<keras.callbacks.History at 0x7a26e036ca00>"
            ]
          },
          "metadata": {},
          "execution_count": 97
        }
      ]
    }
  ]
}