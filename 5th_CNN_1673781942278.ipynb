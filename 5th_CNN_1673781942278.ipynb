{
  "nbformat": 4,
  "nbformat_minor": 0,
  "metadata": {
    "colab": {
      "provenance": [],
      "include_colab_link": true
    },
    "kernelspec": {
      "name": "python3",
      "display_name": "Python 3"
    },
    "accelerator": "GPU"
  },
  "cells": [
    {
      "cell_type": "markdown",
      "metadata": {
        "id": "view-in-github",
        "colab_type": "text"
      },
      "source": [
        "<a href=\"https://colab.research.google.com/github/pswami12/DataScienceFiles/blob/main/5th_CNN_1673781942278.ipynb\" target=\"_parent\"><img src=\"https://colab.research.google.com/assets/colab-badge.svg\" alt=\"Open In Colab\"/></a>"
      ]
    },
    {
      "cell_type": "code",
      "metadata": {
        "id": "0SJyVpgSxHt4"
      },
      "source": [
        "import numpy as np\n",
        "\n",
        "from tensorflow.keras.models import Sequential\n",
        "from tensorflow.keras.layers import Dense, Dropout, Activation, Flatten, Add, BatchNormalization\n",
        "from tensorflow.keras.layers import Convolution2D, MaxPooling2D\n",
        "from keras.utils import np_utils\n",
        "\n",
        "from tensorflow.keras.datasets import mnist"
      ],
      "execution_count": null,
      "outputs": []
    },
    {
      "cell_type": "code",
      "metadata": {
        "id": "YlEUplvoxKAT",
        "colab": {
          "base_uri": "https://localhost:8080/"
        },
        "outputId": "f07f919c-eef6-4bde-afdf-4852d0803330"
      },
      "source": [
        "(X_train, y_train), (X_test, y_test) = mnist.load_data()\n"
      ],
      "execution_count": null,
      "outputs": [
        {
          "output_type": "stream",
          "name": "stdout",
          "text": [
            "Downloading data from https://storage.googleapis.com/tensorflow/tf-keras-datasets/mnist.npz\n",
            "11490434/11490434 [==============================] - 0s 0us/step\n"
          ]
        }
      ]
    },
    {
      "cell_type": "code",
      "metadata": {
        "id": "I6Y9Va-xxMXG",
        "outputId": "f4faf742-3e3c-429d-85c1-df3b7274e37d",
        "colab": {
          "base_uri": "https://localhost:8080/",
          "height": 300
        }
      },
      "source": [
        "print (X_train.shape)\n",
        "from matplotlib import pyplot as plt\n",
        "%matplotlib inline\n",
        "plt.imshow(X_train[1])"
      ],
      "execution_count": null,
      "outputs": [
        {
          "output_type": "stream",
          "name": "stdout",
          "text": [
            "(60000, 28, 28)\n"
          ]
        },
        {
          "output_type": "execute_result",
          "data": {
            "text/plain": [
              "<matplotlib.image.AxesImage at 0x7faa12d66690>"
            ]
          },
          "metadata": {},
          "execution_count": 3
        },
        {
          "output_type": "display_data",
          "data": {
            "text/plain": [
              "<Figure size 432x288 with 1 Axes>"
            ],
            "image/png": "[encoded data removed]"
          },
          "metadata": {
            "needs_background": "light"
          }
        }
      ]
    },
    {
      "cell_type": "code",
      "metadata": {
        "id": "lxDZxPhhxOgO"
      },
      "source": [
        "X_train = X_train.reshape(X_train.shape[0], 28, 28,1)\n",
        "X_test = X_test.reshape(X_test.shape[0], 28, 28,1)"
      ],
      "execution_count": null,
      "outputs": []
    },
    {
      "cell_type": "code",
      "metadata": {
        "id": "3HzMqbTnxQQW"
      },
      "source": [
        "X_train = X_train.astype('float32')\n",
        "X_test = X_test.astype('float32')\n",
        "X_train /= 255\n",
        "X_test /= 255"
      ],
      "execution_count": null,
      "outputs": []
    },
    {
      "cell_type": "code",
      "metadata": {
        "id": "7LdYiW6ixR9e"
      },
      "source": [
        "y_train[:10]\n",
        "Y_train = np_utils.to_categorical(y_train, 10)\n",
        "Y_test = np_utils.to_categorical(y_test, 10)"
      ],
      "execution_count": null,
      "outputs": []
    },
    {
      "cell_type": "code",
      "metadata": {
        "id": "rFR0F9j0xVp2",
        "outputId": "828e2f40-72f7-4be9-be49-0d0e0faeab77",
        "colab": {
          "base_uri": "https://localhost:8080/"
        }
      },
      "source": [
        "Y_train[:10]"
      ],
      "execution_count": null,
      "outputs": [
        {
          "output_type": "execute_result",
          "data": {
            "text/plain": [
              "array([[0., 0., 0., 0., 0., 1., 0., 0., 0., 0.],\n",
              "       [1., 0., 0., 0., 0., 0., 0., 0., 0., 0.],\n",
              "       [0., 0., 0., 0., 1., 0., 0., 0., 0., 0.],\n",
              "       [0., 1., 0., 0., 0., 0., 0., 0., 0., 0.],\n",
              "       [0., 0., 0., 0., 0., 0., 0., 0., 0., 1.],\n",
              "       [0., 0., 1., 0., 0., 0., 0., 0., 0., 0.],\n",
              "       [0., 1., 0., 0., 0., 0., 0., 0., 0., 0.],\n",
              "       [0., 0., 0., 1., 0., 0., 0., 0., 0., 0.],\n",
              "       [0., 1., 0., 0., 0., 0., 0., 0., 0., 0.],\n",
              "       [0., 0., 0., 0., 1., 0., 0., 0., 0., 0.]], dtype=float32)"
            ]
          },
          "metadata": {},
          "execution_count": 7
        }
      ]
    },
    {
      "cell_type": "code",
      "metadata": {
        "id": "mDpXf4YQxXRm",
        "outputId": "a1de580a-88e5-492e-dd58-cfb62560f726",
        "colab": {
          "base_uri": "https://localhost:8080/"
        }
      },
      "source": [
        "from keras.layers import Activation\n",
        "model = Sequential()\n",
        "\n",
        "model.add(Convolution2D(10, kernel_size = 3, activation='relu', input_shape=(28,28,1))) #26\n",
        "model.add(BatchNormalization())\n",
        "model.add(Dropout(0.1))\n",
        "\n",
        "model.add(Convolution2D(16, kernel_size = 3, activation='relu')) #24\n",
        "model.add(BatchNormalization())\n",
        "model.add(Dropout(0.1))\n",
        "\n",
        "model.add(Convolution2D(10, kernel_size = 1, activation='relu')) #24\n",
        "\n",
        "model.add(MaxPooling2D(pool_size=(2, 2)))#12\n",
        "\n",
        "model.add(Convolution2D(16, kernel_size = 3, activation='relu'))#10\n",
        "model.add(BatchNormalization())\n",
        "model.add(Dropout(0.1))\n",
        "\n",
        "\n",
        "model.add(Convolution2D(16, kernel_size = 3, activation='relu'))#8\n",
        "model.add(BatchNormalization())\n",
        "model.add(Dropout(0.1))\n",
        "\n",
        "\n",
        "model.add(Convolution2D(16, kernel_size = 3, activation='relu'))#6\n",
        "model.add(BatchNormalization())\n",
        "model.add(Dropout(0.1))\n",
        "\n",
        "\n",
        "model.add(Convolution2D(16, kernel_size = 3, activation='relu'))#4\n",
        "model.add(BatchNormalization())\n",
        "model.add(Dropout(0.1))\n",
        "\n",
        "\n",
        "model.add(Convolution2D(10, kernel_size = 4))\n",
        "#keras.layers.AveragePooling2D(pool_size=(4, 4))\n",
        "#model.add(BatchNormalization())\n",
        "#model.add(Dropout(0.1))\n",
        "\n",
        "\n",
        "model.add(Flatten())\n",
        "model.add(Activation('softmax'))\n",
        "\n",
        "\n",
        "model.summary()"
      ],
      "execution_count": null,
      "outputs": [
        {
          "output_type": "stream",
          "name": "stdout",
          "text": [
            "Model: \"sequential\"\n",
            "_________________________________________________________________\n",
            " Layer (type)                Output Shape              Param #   \n",
            "=================================================================\n",
            " conv2d (Conv2D)             (None, 26, 26, 10)        100       \n",
            "                                                                 \n",
            " batch_normalization (BatchN  (None, 26, 26, 10)       40        \n",
            " ormalization)                                                   \n",
            "                                                                 \n",
            " dropout (Dropout)           (None, 26, 26, 10)        0         \n",
            "                                                                 \n",
            " conv2d_1 (Conv2D)           (None, 24, 24, 16)        1456      \n",
            "                                                                 \n",
            " batch_normalization_1 (Batc  (None, 24, 24, 16)       64        \n",
            " hNormalization)                                                 \n",
            "                                                                 \n",
            " dropout_1 (Dropout)         (None, 24, 24, 16)        0         \n",
            "                                                                 \n",
            " conv2d_2 (Conv2D)           (None, 24, 24, 10)        170       \n",
            "                                                                 \n",
            " max_pooling2d (MaxPooling2D  (None, 12, 12, 10)       0         \n",
            " )                                                               \n",
            "                                                                 \n",
            " conv2d_3 (Conv2D)           (None, 10, 10, 16)        1456      \n",
            "                                                                 \n",
            " batch_normalization_2 (Batc  (None, 10, 10, 16)       64        \n",
            " hNormalization)                                                 \n",
            "                                                                 \n",
            " dropout_2 (Dropout)         (None, 10, 10, 16)        0         \n",
            "                                                                 \n",
            " conv2d_4 (Conv2D)           (None, 8, 8, 16)          2320      \n",
            "                                                                 \n",
            " batch_normalization_3 (Batc  (None, 8, 8, 16)         64        \n",
            " hNormalization)                                                 \n",
            "                                                                 \n",
            " dropout_3 (Dropout)         (None, 8, 8, 16)          0         \n",
            "                                                                 \n",
            " conv2d_5 (Conv2D)           (None, 6, 6, 16)          2320      \n",
            "                                                                 \n",
            " batch_normalization_4 (Batc  (None, 6, 6, 16)         64        \n",
            " hNormalization)                                                 \n",
            "                                                                 \n",
            " dropout_4 (Dropout)         (None, 6, 6, 16)          0         \n",
            "                                                                 \n",
            " conv2d_6 (Conv2D)           (None, 4, 4, 16)          2320      \n",
            "                                                                 \n",
            " batch_normalization_5 (Batc  (None, 4, 4, 16)         64        \n",
            " hNormalization)                                                 \n",
            "                                                                 \n",
            " dropout_5 (Dropout)         (None, 4, 4, 16)          0         \n",
            "                                                                 \n",
            " conv2d_7 (Conv2D)           (None, 1, 1, 10)          2570      \n",
            "                                                                 \n",
            " flatten (Flatten)           (None, 10)                0         \n",
            "                                                                 \n",
            " activation (Activation)     (None, 10)                0         \n",
            "                                                                 \n",
            "=================================================================\n",
            "Total params: 13,072\n",
            "Trainable params: 12,892\n",
            "Non-trainable params: 180\n",
            "_________________________________________________________________\n"
          ]
        }
      ]
    },
    {
      "cell_type": "code",
      "metadata": {
        "id": "L2IicGJ4x3Be",
        "outputId": "62681f2f-9227-4aff-ae8e-3556e0cd81e6",
        "colab": {
          "base_uri": "https://localhost:8080/"
        }
      },
      "source": [
        "from keras.optimizers import Adam\n",
        "from keras.callbacks import LearningRateScheduler\n",
        "def scheduler(epoch, lr):\n",
        "  return round(0.003 * 1/(1 + 0.319 * epoch), 10)\n",
        "\n",
        "model.compile(loss='categorical_crossentropy', optimizer=Adam(lr=0.003), metrics=['accuracy'])\n",
        "\n",
        "model.fit(X_train, Y_train, batch_size=128, epochs=20, verbose=1, validation_data=(X_test, Y_test), callbacks=[LearningRateScheduler(scheduler, verbose=1)])"
      ],
      "execution_count": null,
      "outputs": [
        {
          "output_type": "stream",
          "name": "stderr",
          "text": [
            "/usr/local/lib/python3.7/dist-packages/keras/optimizers/optimizer_v2/adam.py:110: UserWarning: The `lr` argument is deprecated, use `learning_rate` instead.\n",
            "  super(Adam, self).__init__(name, **kwargs)\n"
          ]
        },
        {
          "output_type": "stream",
          "name": "stdout",
          "text": [
            "\n",
            "Epoch 1: LearningRateScheduler setting learning rate to 0.003.\n",
            "Epoch 1/20\n",
            "469/469 [==============================] - 16s 9ms/step - loss: 0.2280 - accuracy: 0.9283 - val_loss: 0.1976 - val_accuracy: 0.9358 - lr: 0.0030\n",
            "\n",
            "Epoch 2: LearningRateScheduler setting learning rate to 0.0022744503.\n",
            "Epoch 2/20\n",
            "469/469 [==============================] - 3s 7ms/step - loss: 0.0632 - accuracy: 0.9805 - val_loss: 0.0458 - val_accuracy: 0.9855 - lr: 0.0023\n",
            "\n",
            "Epoch 3: LearningRateScheduler setting learning rate to 0.0018315018.\n",
            "Epoch 3/20\n",
            "469/469 [==============================] - 3s 7ms/step - loss: 0.0489 - accuracy: 0.9843 - val_loss: 0.0343 - val_accuracy: 0.9898 - lr: 0.0018\n",
            "\n",
            "Epoch 4: LearningRateScheduler setting learning rate to 0.0015329586.\n",
            "Epoch 4/20\n",
            "469/469 [==============================] - 3s 7ms/step - loss: 0.0416 - accuracy: 0.9869 - val_loss: 0.0352 - val_accuracy: 0.9895 - lr: 0.0015\n",
            "\n",
            "Epoch 5: LearningRateScheduler setting learning rate to 0.0013181019.\n",
            "Epoch 5/20\n",
            "469/469 [==============================] - 3s 7ms/step - loss: 0.0379 - accuracy: 0.9878 - val_loss: 0.0326 - val_accuracy: 0.9910 - lr: 0.0013\n",
            "\n",
            "Epoch 6: LearningRateScheduler setting learning rate to 0.0011560694.\n",
            "Epoch 6/20\n",
            "469/469 [==============================] - 3s 7ms/step - loss: 0.0361 - accuracy: 0.9884 - val_loss: 0.0335 - val_accuracy: 0.9898 - lr: 0.0012\n",
            "\n",
            "Epoch 7: LearningRateScheduler setting learning rate to 0.0010295127.\n",
            "Epoch 7/20\n",
            "469/469 [==============================] - 3s 7ms/step - loss: 0.0316 - accuracy: 0.9899 - val_loss: 0.0300 - val_accuracy: 0.9910 - lr: 0.0010\n",
            "\n",
            "Epoch 8: LearningRateScheduler setting learning rate to 0.0009279307.\n",
            "Epoch 8/20\n",
            "469/469 [==============================] - 3s 7ms/step - loss: 0.0271 - accuracy: 0.9914 - val_loss: 0.0349 - val_accuracy: 0.9907 - lr: 9.2793e-04\n",
            "\n",
            "Epoch 9: LearningRateScheduler setting learning rate to 0.0008445946.\n",
            "Epoch 9/20\n",
            "469/469 [==============================] - 4s 8ms/step - loss: 0.0277 - accuracy: 0.9912 - val_loss: 0.0301 - val_accuracy: 0.9912 - lr: 8.4459e-04\n",
            "\n",
            "Epoch 10: LearningRateScheduler setting learning rate to 0.0007749935.\n",
            "Epoch 10/20\n",
            "469/469 [==============================] - 3s 7ms/step - loss: 0.0254 - accuracy: 0.9917 - val_loss: 0.0277 - val_accuracy: 0.9916 - lr: 7.7499e-04\n",
            "\n",
            "Epoch 11: LearningRateScheduler setting learning rate to 0.0007159905.\n",
            "Epoch 11/20\n",
            "469/469 [==============================] - 3s 7ms/step - loss: 0.0251 - accuracy: 0.9920 - val_loss: 0.0275 - val_accuracy: 0.9923 - lr: 7.1599e-04\n",
            "\n",
            "Epoch 12: LearningRateScheduler setting learning rate to 0.000665336.\n",
            "Epoch 12/20\n",
            "469/469 [==============================] - 3s 7ms/step - loss: 0.0233 - accuracy: 0.9923 - val_loss: 0.0309 - val_accuracy: 0.9920 - lr: 6.6534e-04\n",
            "\n",
            "Epoch 13: LearningRateScheduler setting learning rate to 0.0006213753.\n",
            "Epoch 13/20\n",
            "469/469 [==============================] - 3s 7ms/step - loss: 0.0214 - accuracy: 0.9929 - val_loss: 0.0267 - val_accuracy: 0.9926 - lr: 6.2138e-04\n",
            "\n",
            "Epoch 14: LearningRateScheduler setting learning rate to 0.0005828638.\n",
            "Epoch 14/20\n",
            "469/469 [==============================] - 4s 8ms/step - loss: 0.0206 - accuracy: 0.9934 - val_loss: 0.0267 - val_accuracy: 0.9924 - lr: 5.8286e-04\n",
            "\n",
            "Epoch 15: LearningRateScheduler setting learning rate to 0.0005488474.\n",
            "Epoch 15/20\n",
            "469/469 [==============================] - 3s 7ms/step - loss: 0.0219 - accuracy: 0.9930 - val_loss: 0.0216 - val_accuracy: 0.9937 - lr: 5.4885e-04\n",
            "\n",
            "Epoch 16: LearningRateScheduler setting learning rate to 0.0005185825.\n",
            "Epoch 16/20\n",
            "469/469 [==============================] - 3s 7ms/step - loss: 0.0195 - accuracy: 0.9935 - val_loss: 0.0239 - val_accuracy: 0.9931 - lr: 5.1858e-04\n",
            "\n",
            "Epoch 17: LearningRateScheduler setting learning rate to 0.000491481.\n",
            "Epoch 17/20\n",
            "469/469 [==============================] - 3s 7ms/step - loss: 0.0187 - accuracy: 0.9940 - val_loss: 0.0263 - val_accuracy: 0.9921 - lr: 4.9148e-04\n",
            "\n",
            "Epoch 18: LearningRateScheduler setting learning rate to 0.0004670715.\n",
            "Epoch 18/20\n",
            "469/469 [==============================] - 3s 7ms/step - loss: 0.0188 - accuracy: 0.9942 - val_loss: 0.0241 - val_accuracy: 0.9937 - lr: 4.6707e-04\n",
            "\n",
            "Epoch 19: LearningRateScheduler setting learning rate to 0.0004449718.\n",
            "Epoch 19/20\n",
            "469/469 [==============================] - 3s 7ms/step - loss: 0.0176 - accuracy: 0.9942 - val_loss: 0.0225 - val_accuracy: 0.9935 - lr: 4.4497e-04\n",
            "\n",
            "Epoch 20: LearningRateScheduler setting learning rate to 0.000424869.\n",
            "Epoch 20/20\n",
            "469/469 [==============================] - 4s 8ms/step - loss: 0.0170 - accuracy: 0.9942 - val_loss: 0.0228 - val_accuracy: 0.9936 - lr: 4.2487e-04\n"
          ]
        },
        {
          "output_type": "execute_result",
          "data": {
            "text/plain": [
              "<keras.callbacks.History at 0x7fa93c5ccc10>"
            ]
          },
          "metadata": {},
          "execution_count": 9
        }
      ]
    },
    {
      "cell_type": "code",
      "metadata": {
        "id": "WLxlW9ufyQiO",
        "outputId": "8def28e0-b59e-478d-d49b-4ded816d07ab",
        "colab": {
          "base_uri": "https://localhost:8080/"
        }
      },
      "source": [
        "\n",
        "score = model.evaluate(X_test, Y_test, verbose=0)\n",
        "print(score)"
      ],
      "execution_count": null,
      "outputs": [
        {
          "output_type": "stream",
          "name": "stdout",
          "text": [
            "[0.022812770679593086, 0.9936000108718872]\n"
          ]
        }
      ]
    }
  ]
}