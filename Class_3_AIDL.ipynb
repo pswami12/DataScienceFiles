{
  "nbformat": 4,
  "nbformat_minor": 0,
  "metadata": {
    "colab": {
      "provenance": [],
      "gpuType": "T4",
      "authorship_tag": "ABX9TyM2O1yTBb1y46+4VV6RZIFA",
      "include_colab_link": true
    },
    "kernelspec": {
      "name": "python3",
      "display_name": "Python 3"
    },
    "language_info": {
      "name": "python"
    },
    "accelerator": "GPU"
  },
  "cells": [
    {
      "cell_type": "markdown",
      "metadata": {
        "id": "view-in-github",
        "colab_type": "text"
      },
      "source": [
        "<a href=\"https://colab.research.google.com/github/pswami12/DataScienceFiles/blob/main/Class_3_AIDL.ipynb\" target=\"_parent\"><img src=\"https://colab.research.google.com/assets/colab-badge.svg\" alt=\"Open In Colab\"/></a>"
      ]
    },
    {
      "cell_type": "code",
      "execution_count": 1,
      "metadata": {
        "id": "FuL_KYFNUD8B"
      },
      "outputs": [],
      "source": [
        "import torch"
      ]
    },
    {
      "cell_type": "code",
      "source": [
        "V0 = torch.tensor(1.3)\n",
        "V1 = torch.tensor([1.,2.,3.])\n",
        "V2 = torch.tensor([[1.,2.],[4.,5.]])\n",
        "print(f'{V0}, {V1}, {V2}')"
      ],
      "metadata": {
        "colab": {
          "base_uri": "https://localhost:8080/"
        },
        "id": "xLSohTWYdlpi",
        "outputId": "062af26a-c5b3-494d-b5d6-f9ba95fed466"
      },
      "execution_count": 2,
      "outputs": [
        {
          "output_type": "stream",
          "name": "stdout",
          "text": [
            "1.2999999523162842, tensor([1., 2., 3.]), tensor([[1., 2.],\n",
            "        [4., 5.]])\n"
          ]
        }
      ]
    },
    {
      "cell_type": "code",
      "source": [
        "import numpy as np\n",
        "V0 = np.array(1.3)\n",
        "V1 = np.array([1.,2.,3.])\n",
        "V2 = np.array([[1.,2.],[4.,5.]])\n",
        "print(f'{V0}, {V1}, {V2}')"
      ],
      "metadata": {
        "colab": {
          "base_uri": "https://localhost:8080/"
        },
        "id": "4ei6Rbhagnih",
        "outputId": "b9aceca6-c51b-489f-e90c-693bb048f29c"
      },
      "execution_count": 3,
      "outputs": [
        {
          "output_type": "stream",
          "name": "stdout",
          "text": [
            "1.3, [1. 2. 3.], [[1. 2.]\n",
            " [4. 5.]]\n"
          ]
        }
      ]
    },
    {
      "cell_type": "code",
      "source": [
        "numpy_array = np.array([1,2,3])\n",
        "numpy_array"
      ],
      "metadata": {
        "colab": {
          "base_uri": "https://localhost:8080/"
        },
        "id": "lBek9vugg1hv",
        "outputId": "bc1a3ac2-abef-452c-b78b-34491fc91ac8"
      },
      "execution_count": 4,
      "outputs": [
        {
          "output_type": "execute_result",
          "data": {
            "text/plain": [
              "array([1, 2, 3])"
            ]
          },
          "metadata": {},
          "execution_count": 4
        }
      ]
    },
    {
      "cell_type": "code",
      "source": [
        "numpy_array*4"
      ],
      "metadata": {
        "colab": {
          "base_uri": "https://localhost:8080/"
        },
        "id": "p7DJ599Ef6ZC",
        "outputId": "7b44cd88-2d50-4843-f211-963cc0bd6cb6"
      },
      "execution_count": 5,
      "outputs": [
        {
          "output_type": "execute_result",
          "data": {
            "text/plain": [
              "array([ 4,  8, 12])"
            ]
          },
          "metadata": {},
          "execution_count": 5
        }
      ]
    },
    {
      "cell_type": "code",
      "source": [
        "t1 = torch.Tensor(numpy_array)\n",
        "t1\n",
        "#Constructor - same as torch.FloatTensor\n",
        "#Uses a default float32 tensor, can be changed\n",
        "#all other tensor inherits from this main tensor class\n",
        "#torch.tensor(data, dtype=None, device=None, requires_grad =False) -> Tensor"
      ],
      "metadata": {
        "colab": {
          "base_uri": "https://localhost:8080/"
        },
        "id": "7L3w9Bp1g_1r",
        "outputId": "95bbaf62-2dd7-423a-aa05-4a9c5ba590d8"
      },
      "execution_count": 6,
      "outputs": [
        {
          "output_type": "execute_result",
          "data": {
            "text/plain": [
              "tensor([1., 2., 3.])"
            ]
          },
          "metadata": {},
          "execution_count": 6
        }
      ]
    },
    {
      "cell_type": "code",
      "source": [
        "t2 = torch.tensor(numpy_array)\n",
        "t2\n",
        "#Factory function\n",
        "#produces a new tensor with same type\n",
        "#does not share underlying memory with numpy\n",
        "#always copies the data\n",
        "#torch.tensor(x) is equivalent to x.clone().detach()\n",
        "#recommend to use"
      ],
      "metadata": {
        "colab": {
          "base_uri": "https://localhost:8080/"
        },
        "id": "luPasjE7hG3z",
        "outputId": "ae562716-4d13-4d30-dbb3-d62e3af4edc6"
      },
      "execution_count": 7,
      "outputs": [
        {
          "output_type": "execute_result",
          "data": {
            "text/plain": [
              "tensor([1, 2, 3])"
            ]
          },
          "metadata": {},
          "execution_count": 7
        }
      ]
    },
    {
      "cell_type": "code",
      "source": [
        "t3 = torch.as_tensor(numpy_array)\n",
        "t3\n",
        "#produce a new tensor with same dtype\n",
        "#share underlying memory with numpy, changing one will change other\n",
        "#can accepts any array like python data structure\n",
        "#always try to avoid copies of the data (like using numpy's stored values directly)\n",
        "#Have to manually add required_grad_() function, or doesn't support requires_grad flag\n",
        "#recommend to use"
      ],
      "metadata": {
        "colab": {
          "base_uri": "https://localhost:8080/"
        },
        "id": "TszkunFQhNj-",
        "outputId": "125d3eb8-11e3-4b40-9156-f286d9b280c1"
      },
      "execution_count": 8,
      "outputs": [
        {
          "output_type": "execute_result",
          "data": {
            "text/plain": [
              "tensor([1, 2, 3])"
            ]
          },
          "metadata": {},
          "execution_count": 8
        }
      ]
    },
    {
      "cell_type": "code",
      "source": [
        "t4 = torch.from_numpy(numpy_array)\n",
        "t4\n",
        "#Factory function\n",
        "#produces a new tensor with same dtype\n",
        "#can accept only numpy arrays\n",
        "#share underlying memory with numpy, changing one will change other"
      ],
      "metadata": {
        "colab": {
          "base_uri": "https://localhost:8080/"
        },
        "id": "RHNTPo7Vhi7C",
        "outputId": "bfbc637d-4f59-4882-d2d0-74fb150642e3"
      },
      "execution_count": 9,
      "outputs": [
        {
          "output_type": "execute_result",
          "data": {
            "text/plain": [
              "tensor([1, 2, 3])"
            ]
          },
          "metadata": {},
          "execution_count": 9
        }
      ]
    },
    {
      "cell_type": "code",
      "source": [
        "numpy_array*=4\n",
        "t1,t2,t3,t4"
      ],
      "metadata": {
        "colab": {
          "base_uri": "https://localhost:8080/"
        },
        "id": "U5x7ELdqiW2p",
        "outputId": "2cc8e812-ad74-4ec1-ef11-576c845e2001"
      },
      "execution_count": 10,
      "outputs": [
        {
          "output_type": "execute_result",
          "data": {
            "text/plain": [
              "(tensor([1., 2., 3.]),\n",
              " tensor([1, 2, 3]),\n",
              " tensor([ 4,  8, 12]),\n",
              " tensor([ 4,  8, 12]))"
            ]
          },
          "metadata": {},
          "execution_count": 10
        }
      ]
    },
    {
      "cell_type": "code",
      "source": [
        "data = torch.tensor([[1,2,3],[4,5,6]])\n",
        "data[1, 0], data[0, : 2]"
      ],
      "metadata": {
        "colab": {
          "base_uri": "https://localhost:8080/"
        },
        "id": "fim2_hBBis10",
        "outputId": "ce4f4148-4d4d-4c7b-fd7e-9a4d3b4a1701"
      },
      "execution_count": 11,
      "outputs": [
        {
          "output_type": "execute_result",
          "data": {
            "text/plain": [
              "(tensor(4), tensor([1, 2]))"
            ]
          },
          "metadata": {},
          "execution_count": 11
        }
      ]
    },
    {
      "cell_type": "code",
      "source": [
        "from torch.autograd import grad\n",
        "\n",
        "x1 = torch.tensor(2, requires_grad = True, dtype=torch.float16)\n",
        "x2 = torch.tensor(3, requires_grad = True, dtype=torch.float16)\n",
        "x3 = torch.tensor(1, requires_grad = True, dtype=torch.float16)\n",
        "x4 = torch.tensor(4, requires_grad = True, dtype=torch.float16)"
      ],
      "metadata": {
        "id": "OcPK2egQjJKx"
      },
      "execution_count": 12,
      "outputs": []
    },
    {
      "cell_type": "code",
      "source": [
        "x1,x2,x3,x4"
      ],
      "metadata": {
        "colab": {
          "base_uri": "https://localhost:8080/"
        },
        "id": "ASMjQ1hO1LY_",
        "outputId": "9397fd3d-bfe9-4585-f255-cad5f93cdcff"
      },
      "execution_count": 13,
      "outputs": [
        {
          "output_type": "execute_result",
          "data": {
            "text/plain": [
              "(tensor(2., dtype=torch.float16, requires_grad=True),\n",
              " tensor(3., dtype=torch.float16, requires_grad=True),\n",
              " tensor(1., dtype=torch.float16, requires_grad=True),\n",
              " tensor(4., dtype=torch.float16, requires_grad=True))"
            ]
          },
          "metadata": {},
          "execution_count": 13
        }
      ]
    },
    {
      "cell_type": "code",
      "source": [
        "z1 = x1 * x2\n",
        "z2 = x3 * x4\n",
        "\n",
        "f = z1 + z2"
      ],
      "metadata": {
        "id": "2cD5oX9i0GD-"
      },
      "execution_count": 14,
      "outputs": []
    },
    {
      "cell_type": "code",
      "source": [
        "z1,z2,f"
      ],
      "metadata": {
        "id": "sXqQ10XA1UIG",
        "outputId": "25b27a79-42ea-495b-a4c4-774c3fae88b9",
        "colab": {
          "base_uri": "https://localhost:8080/"
        }
      },
      "execution_count": 15,
      "outputs": [
        {
          "output_type": "execute_result",
          "data": {
            "text/plain": [
              "(tensor(6., dtype=torch.float16, grad_fn=<MulBackward0>),\n",
              " tensor(4., dtype=torch.float16, grad_fn=<MulBackward0>),\n",
              " tensor(10., dtype=torch.float16, grad_fn=<AddBackward0>))"
            ]
          },
          "metadata": {},
          "execution_count": 15
        }
      ]
    },
    {
      "cell_type": "code",
      "source": [
        "df_dx = grad(outputs=f, inputs=[x1, x2, x3, x4]) #what if you forget an element here?\n",
        "\n",
        "print(f'gradient of x1 = {df_dx[0]}')\n",
        "print(f'gradient of x2 = {df_dx[1]}')\n",
        "print(f'gradient of x3 = {df_dx[2]}')\n",
        "print(f'gradient of x4 = {df_dx[3]}')"
      ],
      "metadata": {
        "colab": {
          "base_uri": "https://localhost:8080/"
        },
        "id": "mT0_1RLS0U9h",
        "outputId": "a681adb0-0330-47f9-8180-262abaef6318"
      },
      "execution_count": 16,
      "outputs": [
        {
          "output_type": "stream",
          "name": "stdout",
          "text": [
            "gradient of x1 = 3.0\n",
            "gradient of x2 = 2.0\n",
            "gradient of x3 = 4.0\n",
            "gradient of x4 = 1.0\n"
          ]
        }
      ]
    }
  ]
}