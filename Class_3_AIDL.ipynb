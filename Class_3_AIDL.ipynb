{
  "nbformat": 4,
  "nbformat_minor": 0,
  "metadata": {
    "colab": {
      "provenance": [],
      "gpuType": "T4",
      "authorship_tag": "ABX9TyN9SMdhJ6hffDK581tcMKpC",
      "include_colab_link": true
    },
    "kernelspec": {
      "name": "python3",
      "display_name": "Python 3"
    },
    "language_info": {
      "name": "python"
    },
    "accelerator": "GPU"
  },
  "cells": [
    {
      "cell_type": "markdown",
      "metadata": {
        "id": "view-in-github",
        "colab_type": "text"
      },
      "source": [
        "<a href=\"https://colab.research.google.com/github/pswami12/DataScienceFiles/blob/main/Class_3_AIDL.ipynb\" target=\"_parent\"><img src=\"https://colab.research.google.com/assets/colab-badge.svg\" alt=\"Open In Colab\"/></a>"
      ]
    },
    {
      "cell_type": "code",
      "execution_count": 1,
      "metadata": {
        "id": "FuL_KYFNUD8B"
      },
      "outputs": [],
      "source": [
        "import torch"
      ]
    },
    {
      "cell_type": "code",
      "source": [
        "V0 = torch.tensor(1.3)\n",
        "V1 = torch.tensor([1.,2.,3.])\n",
        "V2 = torch.tensor([[1.,2.],[4.,5.]])\n",
        "print(f'{V0}, {V1}, {V2}')"
      ],
      "metadata": {
        "colab": {
          "base_uri": "https://localhost:8080/"
        },
        "id": "xLSohTWYdlpi",
        "outputId": "88d07e74-8e6d-4bfe-8b0e-96bf012e7bba"
      },
      "execution_count": 2,
      "outputs": [
        {
          "output_type": "stream",
          "name": "stdout",
          "text": [
            "1.2999999523162842, tensor([1., 2., 3.]), tensor([[1., 2.],\n",
            "        [4., 5.]])\n"
          ]
        }
      ]
    },
    {
      "cell_type": "code",
      "source": [
        "import numpy as np\n",
        "V0 = np.array(1.3)\n",
        "V1 = np.array([1.,2.,3.])\n",
        "V2 = np.array([[1.,2.],[4.,5.]])\n",
        "print(f'{V0}, {V1}, {V2}')"
      ],
      "metadata": {
        "colab": {
          "base_uri": "https://localhost:8080/"
        },
        "id": "4ei6Rbhagnih",
        "outputId": "3fce89f5-919b-44f5-9150-212ed4ed0a46"
      },
      "execution_count": 3,
      "outputs": [
        {
          "output_type": "stream",
          "name": "stdout",
          "text": [
            "1.3, [1. 2. 3.], [[1. 2.]\n",
            " [4. 5.]]\n"
          ]
        }
      ]
    },
    {
      "cell_type": "code",
      "source": [
        "numpy_array = np.array([1,2,3])\n",
        "numpy_array"
      ],
      "metadata": {
        "colab": {
          "base_uri": "https://localhost:8080/"
        },
        "id": "lBek9vugg1hv",
        "outputId": "19ee532c-6a9f-4735-b083-2e90f605b235"
      },
      "execution_count": 4,
      "outputs": [
        {
          "output_type": "execute_result",
          "data": {
            "text/plain": [
              "array([1, 2, 3])"
            ]
          },
          "metadata": {},
          "execution_count": 4
        }
      ]
    },
    {
      "cell_type": "code",
      "source": [
        "numpy_array*4"
      ],
      "metadata": {
        "colab": {
          "base_uri": "https://localhost:8080/"
        },
        "id": "p7DJ599Ef6ZC",
        "outputId": "37f5db63-03ac-4399-c35d-373047937709"
      },
      "execution_count": 9,
      "outputs": [
        {
          "output_type": "execute_result",
          "data": {
            "text/plain": [
              "array([ 4,  8, 12])"
            ]
          },
          "metadata": {},
          "execution_count": 9
        }
      ]
    },
    {
      "cell_type": "code",
      "source": [
        "t1 = torch.Tensor(numpy_array)\n",
        "t1\n",
        "#Constructor - same as torch.FloatTensor\n",
        "#Uses a default float32 tensor, can be changed\n",
        "#all other tensor inherits from this main tensor class\n",
        "#torch.tensor(data, dtype=None, device=None, requires_grad =False) -> Tensor"
      ],
      "metadata": {
        "colab": {
          "base_uri": "https://localhost:8080/"
        },
        "id": "7L3w9Bp1g_1r",
        "outputId": "a0db8b32-4540-4c55-d751-a938a2e1c9b4"
      },
      "execution_count": 15,
      "outputs": [
        {
          "output_type": "execute_result",
          "data": {
            "text/plain": [
              "tensor([1., 2., 3.])"
            ]
          },
          "metadata": {},
          "execution_count": 15
        }
      ]
    },
    {
      "cell_type": "code",
      "source": [
        "t2 = torch.tensor(numpy_array)\n",
        "t2\n",
        "#Factory function\n",
        "#produces a new tensor with same type\n",
        "#does not share underlying memory with numpy\n",
        "#always copies the data\n",
        "#torch.tensor(x) is equivalent to x.clone().detach()\n",
        "#recommend to use"
      ],
      "metadata": {
        "colab": {
          "base_uri": "https://localhost:8080/"
        },
        "id": "luPasjE7hG3z",
        "outputId": "0457721f-2d3f-47bf-8f8d-cc9524841688"
      },
      "execution_count": 16,
      "outputs": [
        {
          "output_type": "execute_result",
          "data": {
            "text/plain": [
              "tensor([1, 2, 3])"
            ]
          },
          "metadata": {},
          "execution_count": 16
        }
      ]
    },
    {
      "cell_type": "code",
      "source": [
        "t3 = torch.as_tensor(numpy_array)\n",
        "t3\n",
        "#produce a new tensor with same dtype\n",
        "#share underlying memory with numpy, changing one will change other\n",
        "#can accepts any array like python data structure\n",
        "#always try to avoid copies of the data (like using numpy's stored values directly)\n",
        "#Have to manually add required_grad_() function, or doesn't support requires_grad flag\n",
        "#recommend to use"
      ],
      "metadata": {
        "colab": {
          "base_uri": "https://localhost:8080/"
        },
        "id": "TszkunFQhNj-",
        "outputId": "0d4771dc-41db-4e72-903a-8d215aa494fd"
      },
      "execution_count": 18,
      "outputs": [
        {
          "output_type": "execute_result",
          "data": {
            "text/plain": [
              "tensor([1, 2, 3])"
            ]
          },
          "metadata": {},
          "execution_count": 18
        }
      ]
    },
    {
      "cell_type": "code",
      "source": [
        "t4 = torch.from_numpy(numpy_array)\n",
        "t4\n",
        "#Factory function\n",
        "#produces a new tensor with same dtype\n",
        "#can accept only numpy arrays\n",
        "#share underlying memory with numpy, changing one will change other"
      ],
      "metadata": {
        "colab": {
          "base_uri": "https://localhost:8080/"
        },
        "id": "RHNTPo7Vhi7C",
        "outputId": "f962d7a6-7422-4356-cb00-07a0bc11379a"
      },
      "execution_count": 19,
      "outputs": [
        {
          "output_type": "execute_result",
          "data": {
            "text/plain": [
              "tensor([1, 2, 3])"
            ]
          },
          "metadata": {},
          "execution_count": 19
        }
      ]
    },
    {
      "cell_type": "code",
      "source": [
        "numpy_array*=4\n",
        "t1,t2,t3,t4"
      ],
      "metadata": {
        "colab": {
          "base_uri": "https://localhost:8080/"
        },
        "id": "U5x7ELdqiW2p",
        "outputId": "5d595cf0-37cc-4711-87b8-6aac54f3ca85"
      },
      "execution_count": 20,
      "outputs": [
        {
          "output_type": "execute_result",
          "data": {
            "text/plain": [
              "(tensor([1., 2., 3.]),\n",
              " tensor([1, 2, 3]),\n",
              " tensor([ 4,  8, 12]),\n",
              " tensor([ 4,  8, 12]))"
            ]
          },
          "metadata": {},
          "execution_count": 20
        }
      ]
    },
    {
      "cell_type": "code",
      "source": [
        "data = torch.tensor([[1,2,3],[4,5,6]])\n",
        "data[1, 0], data[0, : 2]"
      ],
      "metadata": {
        "colab": {
          "base_uri": "https://localhost:8080/"
        },
        "id": "fim2_hBBis10",
        "outputId": "26431dcf-2694-40bf-d273-cc23b1a2f691"
      },
      "execution_count": 21,
      "outputs": [
        {
          "output_type": "execute_result",
          "data": {
            "text/plain": [
              "(tensor(4), tensor([1, 2]))"
            ]
          },
          "metadata": {},
          "execution_count": 21
        }
      ]
    },
    {
      "cell_type": "code",
      "source": [],
      "metadata": {
        "id": "OcPK2egQjJKx"
      },
      "execution_count": null,
      "outputs": []
    }
  ]
}