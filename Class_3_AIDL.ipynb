{
  "nbformat": 4,
  "nbformat_minor": 0,
  "metadata": {
    "colab": {
      "provenance": [],
      "gpuType": "T4",
      "authorship_tag": "ABX9TyPSSJaNg3bY2u684/+MiiAW",
      "include_colab_link": true
    },
    "kernelspec": {
      "name": "python3",
      "display_name": "Python 3"
    },
    "language_info": {
      "name": "python"
    },
    "accelerator": "GPU"
  },
  "cells": [
    {
      "cell_type": "markdown",
      "metadata": {
        "id": "view-in-github",
        "colab_type": "text"
      },
      "source": [
        "<a href=\"https://colab.research.google.com/github/pswami12/DataScienceFiles/blob/main/Class_3_AIDL.ipynb\" target=\"_parent\"><img src=\"https://colab.research.google.com/assets/colab-badge.svg\" alt=\"Open In Colab\"/></a>"
      ]
    },
    {
      "cell_type": "code",
      "execution_count": 1,
      "metadata": {
        "id": "FuL_KYFNUD8B"
      },
      "outputs": [],
      "source": [
        "import torch"
      ]
    },
    {
      "cell_type": "code",
      "source": [
        "V0 = torch.tensor(1.3)\n",
        "V1 = torch.tensor([1.,2.,3.])\n",
        "V2 = torch.tensor([[1.,2.],[4.,5.]])\n",
        "print(f'{V0}, {V1}, {V2}')"
      ],
      "metadata": {
        "colab": {
          "base_uri": "https://localhost:8080/"
        },
        "id": "xLSohTWYdlpi",
        "outputId": "56de8685-3cc8-4095-b48e-4020707073e3"
      },
      "execution_count": 2,
      "outputs": [
        {
          "output_type": "stream",
          "name": "stdout",
          "text": [
            "1.2999999523162842, tensor([1., 2., 3.]), tensor([[1., 2.],\n",
            "        [4., 5.]])\n"
          ]
        }
      ]
    },
    {
      "cell_type": "code",
      "source": [
        "import numpy as np\n",
        "V0 = np.array(1.3)\n",
        "V1 = np.array([1.,2.,3.])\n",
        "V2 = np.array([[1.,2.],[4.,5.]])\n",
        "print(f'{V0}, {V1}, {V2}')"
      ],
      "metadata": {
        "colab": {
          "base_uri": "https://localhost:8080/"
        },
        "id": "4ei6Rbhagnih",
        "outputId": "60f28dc7-11e2-4b2f-9c5b-994db74934f3"
      },
      "execution_count": 3,
      "outputs": [
        {
          "output_type": "stream",
          "name": "stdout",
          "text": [
            "1.3, [1. 2. 3.], [[1. 2.]\n",
            " [4. 5.]]\n"
          ]
        }
      ]
    },
    {
      "cell_type": "code",
      "source": [
        "numpy_array = np.array([1,2,3])\n",
        "numpy_array"
      ],
      "metadata": {
        "colab": {
          "base_uri": "https://localhost:8080/"
        },
        "id": "lBek9vugg1hv",
        "outputId": "9417d1f5-9e0e-4b01-872b-cdcb19196a2a"
      },
      "execution_count": 4,
      "outputs": [
        {
          "output_type": "execute_result",
          "data": {
            "text/plain": [
              "array([1, 2, 3])"
            ]
          },
          "metadata": {},
          "execution_count": 4
        }
      ]
    },
    {
      "cell_type": "code",
      "source": [
        "numpy_array*4"
      ],
      "metadata": {
        "colab": {
          "base_uri": "https://localhost:8080/"
        },
        "id": "p7DJ599Ef6ZC",
        "outputId": "5f61bb76-0530-4e55-b8df-62ba5165aab3"
      },
      "execution_count": 5,
      "outputs": [
        {
          "output_type": "execute_result",
          "data": {
            "text/plain": [
              "array([ 4,  8, 12])"
            ]
          },
          "metadata": {},
          "execution_count": 5
        }
      ]
    },
    {
      "cell_type": "code",
      "source": [
        "t1 = torch.Tensor(numpy_array)\n",
        "t1\n",
        "#Constructor - same as torch.FloatTensor\n",
        "#Uses a default float32 tensor, can be changed\n",
        "#all other tensor inherits from this main tensor class\n",
        "#torch.tensor(data, dtype=None, device=None, requires_grad =False) -> Tensor"
      ],
      "metadata": {
        "colab": {
          "base_uri": "https://localhost:8080/"
        },
        "id": "7L3w9Bp1g_1r",
        "outputId": "1772bf1e-3699-44a4-b28d-e97675e752c5"
      },
      "execution_count": 6,
      "outputs": [
        {
          "output_type": "execute_result",
          "data": {
            "text/plain": [
              "tensor([1., 2., 3.])"
            ]
          },
          "metadata": {},
          "execution_count": 6
        }
      ]
    },
    {
      "cell_type": "code",
      "source": [
        "t2 = torch.tensor(numpy_array)\n",
        "t2\n",
        "#Factory function\n",
        "#produces a new tensor with same type\n",
        "#does not share underlying memory with numpy\n",
        "#always copies the data\n",
        "#torch.tensor(x) is equivalent to x.clone().detach()\n",
        "#recommend to use"
      ],
      "metadata": {
        "colab": {
          "base_uri": "https://localhost:8080/"
        },
        "id": "luPasjE7hG3z",
        "outputId": "4235191c-ac58-4489-bb88-1306a6866576"
      },
      "execution_count": 7,
      "outputs": [
        {
          "output_type": "execute_result",
          "data": {
            "text/plain": [
              "tensor([1, 2, 3])"
            ]
          },
          "metadata": {},
          "execution_count": 7
        }
      ]
    },
    {
      "cell_type": "code",
      "source": [
        "t3 = torch.as_tensor(numpy_array)\n",
        "t3\n",
        "#produce a new tensor with same dtype\n",
        "#share underlying memory with numpy, changing one will change other\n",
        "#can accepts any array like python data structure\n",
        "#always try to avoid copies of the data (like using numpy's stored values directly)\n",
        "#Have to manually add required_grad_() function, or doesn't support requires_grad flag\n",
        "#recommend to use"
      ],
      "metadata": {
        "colab": {
          "base_uri": "https://localhost:8080/"
        },
        "id": "TszkunFQhNj-",
        "outputId": "24788e5b-3b75-4918-8f01-de887b84a31d"
      },
      "execution_count": 8,
      "outputs": [
        {
          "output_type": "execute_result",
          "data": {
            "text/plain": [
              "tensor([1, 2, 3])"
            ]
          },
          "metadata": {},
          "execution_count": 8
        }
      ]
    },
    {
      "cell_type": "code",
      "source": [
        "t4 = torch.from_numpy(numpy_array)\n",
        "t4\n",
        "#Factory function\n",
        "#produces a new tensor with same dtype\n",
        "#can accept only numpy arrays\n",
        "#share underlying memory with numpy, changing one will change other"
      ],
      "metadata": {
        "colab": {
          "base_uri": "https://localhost:8080/"
        },
        "id": "RHNTPo7Vhi7C",
        "outputId": "512a4273-c836-4923-b580-c2176140e0e2"
      },
      "execution_count": 9,
      "outputs": [
        {
          "output_type": "execute_result",
          "data": {
            "text/plain": [
              "tensor([1, 2, 3])"
            ]
          },
          "metadata": {},
          "execution_count": 9
        }
      ]
    },
    {
      "cell_type": "code",
      "source": [
        "numpy_array*=4\n",
        "t1,t2,t3,t4"
      ],
      "metadata": {
        "colab": {
          "base_uri": "https://localhost:8080/"
        },
        "id": "U5x7ELdqiW2p",
        "outputId": "b752b9f4-e80e-4e34-f084-525cbbb83e16"
      },
      "execution_count": 10,
      "outputs": [
        {
          "output_type": "execute_result",
          "data": {
            "text/plain": [
              "(tensor([1., 2., 3.]),\n",
              " tensor([1, 2, 3]),\n",
              " tensor([ 4,  8, 12]),\n",
              " tensor([ 4,  8, 12]))"
            ]
          },
          "metadata": {},
          "execution_count": 10
        }
      ]
    },
    {
      "cell_type": "code",
      "source": [
        "data = torch.tensor([[1,2,3],[4,5,6]])\n",
        "data[1, 0], data[0, : 2]"
      ],
      "metadata": {
        "colab": {
          "base_uri": "https://localhost:8080/"
        },
        "id": "fim2_hBBis10",
        "outputId": "8f7569c2-8400-4838-d15f-f8fab1c2c474"
      },
      "execution_count": 11,
      "outputs": [
        {
          "output_type": "execute_result",
          "data": {
            "text/plain": [
              "(tensor(4), tensor([1, 2]))"
            ]
          },
          "metadata": {},
          "execution_count": 11
        }
      ]
    },
    {
      "cell_type": "code",
      "source": [
        "from torch.autograd import grad\n",
        "\n",
        "x1 = torch.tensor(2, requires_grad = True, dtype=torch.float16)\n",
        "x2 = torch.tensor(3, requires_grad = True, dtype=torch.float16)\n",
        "x3 = torch.tensor(1, requires_grad = True, dtype=torch.float16)\n",
        "x4 = torch.tensor(4, requires_grad = True, dtype=torch.float16)"
      ],
      "metadata": {
        "id": "OcPK2egQjJKx"
      },
      "execution_count": 12,
      "outputs": []
    },
    {
      "cell_type": "code",
      "source": [
        "x1,x2,x3,x4"
      ],
      "metadata": {
        "colab": {
          "base_uri": "https://localhost:8080/"
        },
        "id": "ASMjQ1hO1LY_",
        "outputId": "f012f4a1-822a-41a7-c8a7-5d399a379598"
      },
      "execution_count": 13,
      "outputs": [
        {
          "output_type": "execute_result",
          "data": {
            "text/plain": [
              "(tensor(2., dtype=torch.float16, requires_grad=True),\n",
              " tensor(3., dtype=torch.float16, requires_grad=True),\n",
              " tensor(1., dtype=torch.float16, requires_grad=True),\n",
              " tensor(4., dtype=torch.float16, requires_grad=True))"
            ]
          },
          "metadata": {},
          "execution_count": 13
        }
      ]
    },
    {
      "cell_type": "code",
      "source": [
        "z1 = x1 * x2\n",
        "z2 = x3 * x4\n",
        "\n",
        "f = z1 + z2"
      ],
      "metadata": {
        "id": "2cD5oX9i0GD-"
      },
      "execution_count": 14,
      "outputs": []
    },
    {
      "cell_type": "code",
      "source": [
        "z1,z2,f"
      ],
      "metadata": {
        "id": "sXqQ10XA1UIG",
        "outputId": "d8a3a0ab-477b-414f-972d-79c126cd3cff",
        "colab": {
          "base_uri": "https://localhost:8080/"
        }
      },
      "execution_count": 15,
      "outputs": [
        {
          "output_type": "execute_result",
          "data": {
            "text/plain": [
              "(tensor(6., dtype=torch.float16, grad_fn=<MulBackward0>),\n",
              " tensor(4., dtype=torch.float16, grad_fn=<MulBackward0>),\n",
              " tensor(10., dtype=torch.float16, grad_fn=<AddBackward0>))"
            ]
          },
          "metadata": {},
          "execution_count": 15
        }
      ]
    },
    {
      "cell_type": "code",
      "source": [
        "df_dx = grad(outputs=f, inputs=[x1, x2, x3, x4]) #what if you forget an element here?\n",
        "\n",
        "print(f'gradient of x1 = {df_dx[0]}')\n",
        "print(f'gradient of x2 = {df_dx[1]}')\n",
        "print(f'gradient of x3 = {df_dx[2]}')\n",
        "print(f'gradient of x4 = {df_dx[3]}')"
      ],
      "metadata": {
        "colab": {
          "base_uri": "https://localhost:8080/"
        },
        "id": "mT0_1RLS0U9h",
        "outputId": "c7766ad9-17eb-408e-b647-9f9db8dd9523"
      },
      "execution_count": 16,
      "outputs": [
        {
          "output_type": "stream",
          "name": "stdout",
          "text": [
            "gradient of x1 = 3.0\n",
            "gradient of x2 = 2.0\n",
            "gradient of x3 = 4.0\n",
            "gradient of x4 = 1.0\n"
          ]
        }
      ]
    },
    {
      "cell_type": "code",
      "source": [
        "t = torch.tensor([\n",
        "    [0, 0, 0, 0],\n",
        "    [1, 1, 1, 1],\n",
        "    [2, 2, 2, 2]\n",
        "], dtype=torch.float32)"
      ],
      "metadata": {
        "id": "bXRe2WS6jUTe"
      },
      "execution_count": 17,
      "outputs": []
    },
    {
      "cell_type": "code",
      "source": [
        "# we have two ways to access the shape of tensors\n",
        "t.shape, t.size()"
      ],
      "metadata": {
        "colab": {
          "base_uri": "https://localhost:8080/"
        },
        "id": "gfYtxNovlMrb",
        "outputId": "997deee8-4be7-4711-9a3c-e7703bc001c5"
      },
      "execution_count": 18,
      "outputs": [
        {
          "output_type": "execute_result",
          "data": {
            "text/plain": [
              "(torch.Size([3, 4]), torch.Size([3, 4]))"
            ]
          },
          "metadata": {},
          "execution_count": 18
        }
      ]
    },
    {
      "cell_type": "code",
      "source": [
        "# we can also learn about the total elements in a tensor by\n",
        "torch.tensor(t.shape).prod()"
      ],
      "metadata": {
        "colab": {
          "base_uri": "https://localhost:8080/"
        },
        "id": "qVdJTI_uliXH",
        "outputId": "b9ab8722-6019-4f84-c977-2b4b8788ac4a"
      },
      "execution_count": 19,
      "outputs": [
        {
          "output_type": "execute_result",
          "data": {
            "text/plain": [
              "tensor(12)"
            ]
          },
          "metadata": {},
          "execution_count": 19
        }
      ]
    },
    {
      "cell_type": "code",
      "source": [
        "# or by using numel\n",
        "t.numel()"
      ],
      "metadata": {
        "colab": {
          "base_uri": "https://localhost:8080/"
        },
        "id": "F6zLOPNslmkL",
        "outputId": "9d67a3c7-6196-48a0-c5d3-6201f7e0f2dd"
      },
      "execution_count": 20,
      "outputs": [
        {
          "output_type": "execute_result",
          "data": {
            "text/plain": [
              "12"
            ]
          },
          "metadata": {},
          "execution_count": 20
        }
      ]
    },
    {
      "cell_type": "code",
      "source": [
        "t.reshape(1, 12)"
      ],
      "metadata": {
        "colab": {
          "base_uri": "https://localhost:8080/"
        },
        "id": "DbVAloc2l_GC",
        "outputId": "8047a96a-a0f0-4b72-8be4-dfb402628f53"
      },
      "execution_count": 21,
      "outputs": [
        {
          "output_type": "execute_result",
          "data": {
            "text/plain": [
              "tensor([[0., 0., 0., 0., 1., 1., 1., 1., 2., 2., 2., 2.]])"
            ]
          },
          "metadata": {},
          "execution_count": 21
        }
      ]
    },
    {
      "cell_type": "code",
      "source": [
        "t.reshape(2, 6)"
      ],
      "metadata": {
        "colab": {
          "base_uri": "https://localhost:8080/"
        },
        "id": "7K416Pu0mAqN",
        "outputId": "fb866a57-45d6-4ac0-edcb-f39c358136d0"
      },
      "execution_count": 22,
      "outputs": [
        {
          "output_type": "execute_result",
          "data": {
            "text/plain": [
              "tensor([[0., 0., 0., 0., 1., 1.],\n",
              "        [1., 1., 2., 2., 2., 2.]])"
            ]
          },
          "metadata": {},
          "execution_count": 22
        }
      ]
    },
    {
      "cell_type": "code",
      "source": [
        "t.reshape(6, 2)"
      ],
      "metadata": {
        "colab": {
          "base_uri": "https://localhost:8080/"
        },
        "id": "hOJe8FVWmEQo",
        "outputId": "3f27f231-7101-4085-9772-e799d2da0c4f"
      },
      "execution_count": 23,
      "outputs": [
        {
          "output_type": "execute_result",
          "data": {
            "text/plain": [
              "tensor([[0., 0.],\n",
              "        [0., 0.],\n",
              "        [1., 1.],\n",
              "        [1., 1.],\n",
              "        [2., 2.],\n",
              "        [2., 2.]])"
            ]
          },
          "metadata": {},
          "execution_count": 23
        }
      ]
    },
    {
      "cell_type": "code",
      "source": [
        "t.reshape(3, 4)"
      ],
      "metadata": {
        "colab": {
          "base_uri": "https://localhost:8080/"
        },
        "id": "ouwBzaGKmHn8",
        "outputId": "cf49aebd-fb32-4d87-af1c-e2dc6362e2e0"
      },
      "execution_count": 24,
      "outputs": [
        {
          "output_type": "execute_result",
          "data": {
            "text/plain": [
              "tensor([[0., 0., 0., 0.],\n",
              "        [1., 1., 1., 1.],\n",
              "        [2., 2., 2., 2.]])"
            ]
          },
          "metadata": {},
          "execution_count": 24
        }
      ]
    },
    {
      "cell_type": "code",
      "source": [
        "t.reshape(4, 3)"
      ],
      "metadata": {
        "colab": {
          "base_uri": "https://localhost:8080/"
        },
        "id": "HrzCCEMomJvc",
        "outputId": "6a3d3e11-f8a3-4596-9a59-08563c655b3f"
      },
      "execution_count": 25,
      "outputs": [
        {
          "output_type": "execute_result",
          "data": {
            "text/plain": [
              "tensor([[0., 0., 0.],\n",
              "        [0., 1., 1.],\n",
              "        [1., 1., 2.],\n",
              "        [2., 2., 2.]])"
            ]
          },
          "metadata": {},
          "execution_count": 25
        }
      ]
    },
    {
      "cell_type": "code",
      "source": [
        "#Change rank of a tensor\n",
        "t.reshape(2, 2, 3)"
      ],
      "metadata": {
        "colab": {
          "base_uri": "https://localhost:8080/"
        },
        "id": "vwQR-HuAmNvM",
        "outputId": "c0f39581-21d5-400b-d594-3c91c1b39142"
      },
      "execution_count": 26,
      "outputs": [
        {
          "output_type": "execute_result",
          "data": {
            "text/plain": [
              "tensor([[[0., 0., 0.],\n",
              "         [0., 1., 1.]],\n",
              "\n",
              "        [[1., 1., 2.],\n",
              "         [2., 2., 2.]]])"
            ]
          },
          "metadata": {},
          "execution_count": 26
        }
      ]
    },
    {
      "cell_type": "code",
      "source": [
        "#Squeezing a Tensor\n",
        "\n",
        "#Removes all the dimensions that have a length of 1\n",
        "\n",
        "#Unsqueezing a Tensor Adds a dimension that has a length of 1.\n",
        "\n",
        "print(t.reshape(1, 12))\n",
        "print(t.reshape(1, 12).shape)"
      ],
      "metadata": {
        "colab": {
          "base_uri": "https://localhost:8080/"
        },
        "id": "awxjdIPFmjlV",
        "outputId": "9e7f76b8-13fb-41c3-a368-84fb0d5af143"
      },
      "execution_count": 27,
      "outputs": [
        {
          "output_type": "stream",
          "name": "stdout",
          "text": [
            "tensor([[0., 0., 0., 0., 1., 1., 1., 1., 2., 2., 2., 2.]])\n",
            "torch.Size([1, 12])\n"
          ]
        }
      ]
    },
    {
      "cell_type": "code",
      "source": [
        "print(t.reshape(1, 12).squeeze())\n",
        "print(t.reshape(1, 12).squeeze().shape)"
      ],
      "metadata": {
        "colab": {
          "base_uri": "https://localhost:8080/"
        },
        "id": "WKb3UaO8mzCm",
        "outputId": "691a2bca-7671-4d4f-84da-ad44d2aba9a6"
      },
      "execution_count": 28,
      "outputs": [
        {
          "output_type": "stream",
          "name": "stdout",
          "text": [
            "tensor([0., 0., 0., 0., 1., 1., 1., 1., 2., 2., 2., 2.])\n",
            "torch.Size([12])\n"
          ]
        }
      ]
    },
    {
      "cell_type": "code",
      "source": [
        "print(t.reshape(1, 12).squeeze().unsqueeze(dim=0))\n",
        "print(t.reshape(1, 12).squeeze().unsqueeze(dim=0).shape)"
      ],
      "metadata": {
        "colab": {
          "base_uri": "https://localhost:8080/"
        },
        "id": "18v-A2AZm6sZ",
        "outputId": "5d76d50d-86ab-4a2b-da5f-0005f4b5a9c0"
      },
      "execution_count": 29,
      "outputs": [
        {
          "output_type": "stream",
          "name": "stdout",
          "text": [
            "tensor([[0., 0., 0., 0., 1., 1., 1., 1., 2., 2., 2., 2.]])\n",
            "torch.Size([1, 12])\n"
          ]
        }
      ]
    },
    {
      "cell_type": "markdown",
      "source": [
        "#Use cases?\n",
        "\n",
        "Neural networks are always trained in a batch of samples. This is troubling because when we want to test 1 image, we do not have an array, we only have 1 image. Well we unsqueeze it to fake a batch.\n",
        "\n",
        "We use this function that is very common, called Flatten. This essentially create a new tensor that is only 1D. This is done to connect our data to next Fully Connected Layers. We use squeeze function for this.\n",
        "\n",
        "Let's implement such a function."
      ],
      "metadata": {
        "id": "bnRodRSNnc0J"
      }
    },
    {
      "cell_type": "code",
      "source": [
        "def flatten(t):\n",
        "  t = t.reshape(1, -1)\n",
        "  # In PyTorch this forces PyTorch to figure out the next dimension automatically so numel remains constant.\n",
        "  # i.e. if tensor was of 2x3x4 dimensions (1, -1) will calculate 24 for us and get us a 1x24 tensor. \n",
        "  t = t.squeeze()\n",
        "  # now we need to squeeze it since it is still acting like a 2D array.\n",
        "  return t"
      ],
      "metadata": {
        "id": "JlGMTdtBnhu4"
      },
      "execution_count": 30,
      "outputs": []
    },
    {
      "cell_type": "code",
      "source": [
        "t.shape"
      ],
      "metadata": {
        "colab": {
          "base_uri": "https://localhost:8080/"
        },
        "id": "O-h2hszznsA3",
        "outputId": "36f62a94-10cd-46d5-f518-32697d96ec03"
      },
      "execution_count": 31,
      "outputs": [
        {
          "output_type": "execute_result",
          "data": {
            "text/plain": [
              "torch.Size([3, 4])"
            ]
          },
          "metadata": {},
          "execution_count": 31
        }
      ]
    },
    {
      "cell_type": "code",
      "source": [
        "flatten(t)"
      ],
      "metadata": {
        "colab": {
          "base_uri": "https://localhost:8080/"
        },
        "id": "xHT76plin0Dy",
        "outputId": "1a62600a-dcdc-4fb5-96dd-584b2f35c78c"
      },
      "execution_count": 32,
      "outputs": [
        {
          "output_type": "execute_result",
          "data": {
            "text/plain": [
              "tensor([0., 0., 0., 0., 1., 1., 1., 1., 2., 2., 2., 2.])"
            ]
          },
          "metadata": {},
          "execution_count": 32
        }
      ]
    },
    {
      "cell_type": "code",
      "source": [
        "#Tensor concatenation\n",
        "t1 = torch.tensor([\n",
        "    [1, 2],\n",
        "    [3, 4]\n",
        "])\n",
        "\n",
        "t2 = torch.tensor([\n",
        "    [5, 6],\n",
        "    [7, 8]\n",
        "])\n",
        "\n",
        "torch.cat((t1, t2), dim=0), torch.cat((t1, t2), dim=1)"
      ],
      "metadata": {
        "colab": {
          "base_uri": "https://localhost:8080/"
        },
        "id": "yOOlECKqpJn0",
        "outputId": "2e2107d2-8d6e-4cab-ff9b-8bc43da33d27"
      },
      "execution_count": 33,
      "outputs": [
        {
          "output_type": "execute_result",
          "data": {
            "text/plain": [
              "(tensor([[1, 2],\n",
              "         [3, 4],\n",
              "         [5, 6],\n",
              "         [7, 8]]),\n",
              " tensor([[1, 2, 5, 6],\n",
              "         [3, 4, 7, 8]]))"
            ]
          },
          "metadata": {},
          "execution_count": 33
        }
      ]
    },
    {
      "cell_type": "code",
      "source": [
        "#More on Flatten and batches\n",
        "\n",
        "img1 = torch.tensor([\n",
        "  [1, 1, 1, 1],\n",
        "  [1, 1, 1, 1],\n",
        "  [1, 1, 1, 1],\n",
        "  [1, 1, 1, 1]\n",
        "])\n",
        "\n",
        "img2 = torch.tensor([\n",
        "  [2, 2, 2, 2],\n",
        "  [2, 2, 2, 2],\n",
        "  [2, 2, 2, 2],\n",
        "  [2, 2, 2, 2]\n",
        "])\n",
        "\n",
        "img3 = torch.tensor([\n",
        "  [3, 3, 3, 3],\n",
        "  [3, 3, 3, 3],\n",
        "  [3, 3, 3, 3],\n",
        "  [3, 3, 3, 3]\n",
        "])"
      ],
      "metadata": {
        "id": "LX1N9u5rpU1W"
      },
      "execution_count": 34,
      "outputs": []
    },
    {
      "cell_type": "markdown",
      "source": [
        "Assume that above we have 3 4x4 black and white images.\n",
        "\n",
        "But we feed batches to our neural networks. How do we convert this into a batch (one of the many ways)"
      ],
      "metadata": {
        "id": "KeQyM6f7pa7P"
      }
    },
    {
      "cell_type": "code",
      "source": [
        "batch = torch.stack((img1, img2, img3))\n",
        "batch.shape"
      ],
      "metadata": {
        "colab": {
          "base_uri": "https://localhost:8080/"
        },
        "id": "ug6UCrBipevG",
        "outputId": "b04f904c-9d4d-41ff-85f1-63c9706a148b"
      },
      "execution_count": 35,
      "outputs": [
        {
          "output_type": "execute_result",
          "data": {
            "text/plain": [
              "torch.Size([3, 4, 4])"
            ]
          },
          "metadata": {},
          "execution_count": 35
        }
      ]
    },
    {
      "cell_type": "code",
      "source": [
        "batch"
      ],
      "metadata": {
        "colab": {
          "base_uri": "https://localhost:8080/"
        },
        "id": "jw8JNpr6pkHF",
        "outputId": "64824af7-029e-4c1a-a739-52b9172ff288"
      },
      "execution_count": 36,
      "outputs": [
        {
          "output_type": "execute_result",
          "data": {
            "text/plain": [
              "tensor([[[1, 1, 1, 1],\n",
              "         [1, 1, 1, 1],\n",
              "         [1, 1, 1, 1],\n",
              "         [1, 1, 1, 1]],\n",
              "\n",
              "        [[2, 2, 2, 2],\n",
              "         [2, 2, 2, 2],\n",
              "         [2, 2, 2, 2],\n",
              "         [2, 2, 2, 2]],\n",
              "\n",
              "        [[3, 3, 3, 3],\n",
              "         [3, 3, 3, 3],\n",
              "         [3, 3, 3, 3],\n",
              "         [3, 3, 3, 3]]])"
            ]
          },
          "metadata": {},
          "execution_count": 36
        }
      ]
    },
    {
      "cell_type": "markdown",
      "source": [
        "3 above represents our batch size, and 4x4 represents the shape of our images. But that is not how NN expects the data to be. It needs to be explicitly specified that we have 1 channel and that channel has 4x4 size data, so"
      ],
      "metadata": {
        "id": "v9Dy3014pqyP"
      }
    },
    {
      "cell_type": "code",
      "source": [
        "batch = batch.reshape(3, 1, 4, 4)\n",
        "batch"
      ],
      "metadata": {
        "colab": {
          "base_uri": "https://localhost:8080/"
        },
        "id": "DP_FcpIYps9Q",
        "outputId": "7d130a86-6cac-4fea-f17a-78bfa00372e9"
      },
      "execution_count": 37,
      "outputs": [
        {
          "output_type": "execute_result",
          "data": {
            "text/plain": [
              "tensor([[[[1, 1, 1, 1],\n",
              "          [1, 1, 1, 1],\n",
              "          [1, 1, 1, 1],\n",
              "          [1, 1, 1, 1]]],\n",
              "\n",
              "\n",
              "        [[[2, 2, 2, 2],\n",
              "          [2, 2, 2, 2],\n",
              "          [2, 2, 2, 2],\n",
              "          [2, 2, 2, 2]]],\n",
              "\n",
              "\n",
              "        [[[3, 3, 3, 3],\n",
              "          [3, 3, 3, 3],\n",
              "          [3, 3, 3, 3],\n",
              "          [3, 3, 3, 3]]]])"
            ]
          },
          "metadata": {},
          "execution_count": 37
        }
      ]
    },
    {
      "cell_type": "code",
      "source": [
        "# let's get our first image\n",
        "\n",
        "batch[0]"
      ],
      "metadata": {
        "colab": {
          "base_uri": "https://localhost:8080/"
        },
        "id": "alow1PE8p1TQ",
        "outputId": "9d58af9b-84fb-48d6-bac4-aee0e38897bc"
      },
      "execution_count": 38,
      "outputs": [
        {
          "output_type": "execute_result",
          "data": {
            "text/plain": [
              "tensor([[[1, 1, 1, 1],\n",
              "         [1, 1, 1, 1],\n",
              "         [1, 1, 1, 1],\n",
              "         [1, 1, 1, 1]]])"
            ]
          },
          "metadata": {},
          "execution_count": 38
        }
      ]
    },
    {
      "cell_type": "code",
      "source": [
        "# let's get the first channel of our first image\n",
        "\n",
        "batch[0][0]"
      ],
      "metadata": {
        "colab": {
          "base_uri": "https://localhost:8080/"
        },
        "id": "294V5zdVp7ge",
        "outputId": "3d148c3c-abc2-4d1e-af2e-dfd6f68a7987"
      },
      "execution_count": 39,
      "outputs": [
        {
          "output_type": "execute_result",
          "data": {
            "text/plain": [
              "tensor([[1, 1, 1, 1],\n",
              "        [1, 1, 1, 1],\n",
              "        [1, 1, 1, 1],\n",
              "        [1, 1, 1, 1]])"
            ]
          },
          "metadata": {},
          "execution_count": 39
        }
      ]
    },
    {
      "cell_type": "code",
      "source": [
        "# let's get the first row of our first channel of our first image\n",
        "\n",
        "batch[0][0][0]"
      ],
      "metadata": {
        "colab": {
          "base_uri": "https://localhost:8080/"
        },
        "id": "5HcmopxUqA68",
        "outputId": "3f725a07-65f9-433e-8d98-79772d0ffa5f"
      },
      "execution_count": 40,
      "outputs": [
        {
          "output_type": "execute_result",
          "data": {
            "text/plain": [
              "tensor([1, 1, 1, 1])"
            ]
          },
          "metadata": {},
          "execution_count": 40
        }
      ]
    },
    {
      "cell_type": "code",
      "source": [
        "# let's get the first pixel of the first row of our first channel of our first image\n",
        "\n",
        "batch[0][0][0][0]"
      ],
      "metadata": {
        "colab": {
          "base_uri": "https://localhost:8080/"
        },
        "id": "ekdSJVNVqEQz",
        "outputId": "b4badc9b-1cdb-4f18-f4f6-dd7055c92d9d"
      },
      "execution_count": 41,
      "outputs": [
        {
          "output_type": "execute_result",
          "data": {
            "text/plain": [
              "tensor(1)"
            ]
          },
          "metadata": {},
          "execution_count": 41
        }
      ]
    },
    {
      "cell_type": "markdown",
      "source": [
        "Let's see how we flatten our image inside the\n",
        "\n",
        "1.List item\n",
        "2. List item\n"
      ],
      "metadata": {
        "id": "KIuIFEthqwVv"
      }
    },
    {
      "cell_type": "code",
      "source": [
        "batch.reshape(1, -1)[0]"
      ],
      "metadata": {
        "colab": {
          "base_uri": "https://localhost:8080/"
        },
        "id": "ELECsKDMq2h8",
        "outputId": "11bad3bf-5d26-4626-f6f7-e9a3c78d3166"
      },
      "execution_count": 42,
      "outputs": [
        {
          "output_type": "execute_result",
          "data": {
            "text/plain": [
              "tensor([1, 1, 1, 1, 1, 1, 1, 1, 1, 1, 1, 1, 1, 1, 1, 1, 2, 2, 2, 2, 2, 2, 2, 2,\n",
              "        2, 2, 2, 2, 2, 2, 2, 2, 3, 3, 3, 3, 3, 3, 3, 3, 3, 3, 3, 3, 3, 3, 3, 3])"
            ]
          },
          "metadata": {},
          "execution_count": 42
        }
      ]
    },
    {
      "cell_type": "code",
      "source": [
        "batch.reshape(-1)"
      ],
      "metadata": {
        "colab": {
          "base_uri": "https://localhost:8080/"
        },
        "id": "UVdVjmnsq6f5",
        "outputId": "9a01cb80-dfca-43a8-c775-8c94656b5d1f"
      },
      "execution_count": 43,
      "outputs": [
        {
          "output_type": "execute_result",
          "data": {
            "text/plain": [
              "tensor([1, 1, 1, 1, 1, 1, 1, 1, 1, 1, 1, 1, 1, 1, 1, 1, 2, 2, 2, 2, 2, 2, 2, 2,\n",
              "        2, 2, 2, 2, 2, 2, 2, 2, 3, 3, 3, 3, 3, 3, 3, 3, 3, 3, 3, 3, 3, 3, 3, 3])"
            ]
          },
          "metadata": {},
          "execution_count": 43
        }
      ]
    },
    {
      "cell_type": "code",
      "source": [
        "batch.reshape(batch.numel())"
      ],
      "metadata": {
        "colab": {
          "base_uri": "https://localhost:8080/"
        },
        "id": "D3EXui-Oq8nd",
        "outputId": "1692b6b6-4862-4b3c-e8e5-656d75e0c562"
      },
      "execution_count": 44,
      "outputs": [
        {
          "output_type": "execute_result",
          "data": {
            "text/plain": [
              "tensor([1, 1, 1, 1, 1, 1, 1, 1, 1, 1, 1, 1, 1, 1, 1, 1, 2, 2, 2, 2, 2, 2, 2, 2,\n",
              "        2, 2, 2, 2, 2, 2, 2, 2, 3, 3, 3, 3, 3, 3, 3, 3, 3, 3, 3, 3, 3, 3, 3, 3])"
            ]
          },
          "metadata": {},
          "execution_count": 44
        }
      ]
    },
    {
      "cell_type": "code",
      "source": [
        "batch.flatten() # inbuilt PyTorch method"
      ],
      "metadata": {
        "colab": {
          "base_uri": "https://localhost:8080/"
        },
        "id": "f-mrl8Glq_Pn",
        "outputId": "481c3471-bb42-4ed0-b212-1da004167494"
      },
      "execution_count": 45,
      "outputs": [
        {
          "output_type": "execute_result",
          "data": {
            "text/plain": [
              "tensor([1, 1, 1, 1, 1, 1, 1, 1, 1, 1, 1, 1, 1, 1, 1, 1, 2, 2, 2, 2, 2, 2, 2, 2,\n",
              "        2, 2, 2, 2, 2, 2, 2, 2, 3, 3, 3, 3, 3, 3, 3, 3, 3, 3, 3, 3, 3, 3, 3, 3])"
            ]
          },
          "metadata": {},
          "execution_count": 45
        }
      ]
    },
    {
      "cell_type": "markdown",
      "source": [
        "*But* what if we wanted to flatten the images but not collapse them into a single dim? Above data is anyways useless for our DNN"
      ],
      "metadata": {
        "id": "Scqe_5vYrdoj"
      }
    },
    {
      "cell_type": "code",
      "source": [
        "batch.reshape(3, -1)"
      ],
      "metadata": {
        "colab": {
          "base_uri": "https://localhost:8080/"
        },
        "id": "VOqvNcVDrh2Y",
        "outputId": "08835df8-6db8-4080-c234-ef9d4aff13c2"
      },
      "execution_count": 46,
      "outputs": [
        {
          "output_type": "execute_result",
          "data": {
            "text/plain": [
              "tensor([[1, 1, 1, 1, 1, 1, 1, 1, 1, 1, 1, 1, 1, 1, 1, 1],\n",
              "        [2, 2, 2, 2, 2, 2, 2, 2, 2, 2, 2, 2, 2, 2, 2, 2],\n",
              "        [3, 3, 3, 3, 3, 3, 3, 3, 3, 3, 3, 3, 3, 3, 3, 3]])"
            ]
          },
          "metadata": {},
          "execution_count": 46
        }
      ]
    },
    {
      "cell_type": "code",
      "source": [
        "# or inbuilt method\n",
        "batch.flatten(start_dim=1).shape"
      ],
      "metadata": {
        "colab": {
          "base_uri": "https://localhost:8080/"
        },
        "id": "B3EyqXZ5rm7n",
        "outputId": "38b873f3-0702-4b16-8fbe-d28f5d48ab84"
      },
      "execution_count": 47,
      "outputs": [
        {
          "output_type": "execute_result",
          "data": {
            "text/plain": [
              "torch.Size([3, 16])"
            ]
          },
          "metadata": {},
          "execution_count": 47
        }
      ]
    },
    {
      "cell_type": "code",
      "source": [
        "# or inbuilt method\n",
        "batch.flatten(start_dim=1)"
      ],
      "metadata": {
        "colab": {
          "base_uri": "https://localhost:8080/"
        },
        "id": "X6BamJAbrqTQ",
        "outputId": "f645f65d-fb6f-4f31-a43c-b5d87892b5a6"
      },
      "execution_count": 48,
      "outputs": [
        {
          "output_type": "execute_result",
          "data": {
            "text/plain": [
              "tensor([[1, 1, 1, 1, 1, 1, 1, 1, 1, 1, 1, 1, 1, 1, 1, 1],\n",
              "        [2, 2, 2, 2, 2, 2, 2, 2, 2, 2, 2, 2, 2, 2, 2, 2],\n",
              "        [3, 3, 3, 3, 3, 3, 3, 3, 3, 3, 3, 3, 3, 3, 3, 3]])"
            ]
          },
          "metadata": {},
          "execution_count": 48
        }
      ]
    },
    {
      "cell_type": "code",
      "source": [
        "t1 = torch.tensor([\n",
        "    [1, 2],\n",
        "    [3, 4]\n",
        "], dtype=torch.float32)\n",
        "\n",
        "t2 = torch.tensor([\n",
        "    [5, 6],\n",
        "    [7, 8]\n",
        "], dtype=torch.float32)"
      ],
      "metadata": {
        "id": "0pWVq7qtr5Mt"
      },
      "execution_count": 49,
      "outputs": []
    },
    {
      "cell_type": "code",
      "source": [
        "t1 + t2 "
      ],
      "metadata": {
        "colab": {
          "base_uri": "https://localhost:8080/"
        },
        "id": "oXG9MYDTr850",
        "outputId": "f9161659-a3e1-414c-b327-e96211c3c7f1"
      },
      "execution_count": 50,
      "outputs": [
        {
          "output_type": "execute_result",
          "data": {
            "text/plain": [
              "tensor([[ 6.,  8.],\n",
              "        [10., 12.]])"
            ]
          },
          "metadata": {},
          "execution_count": 50
        }
      ]
    },
    {
      "cell_type": "code",
      "source": [
        "t1 + 2"
      ],
      "metadata": {
        "colab": {
          "base_uri": "https://localhost:8080/"
        },
        "id": "0j32N0Iqr_sp",
        "outputId": "011dfe46-44e0-4918-bedf-55ba45f616e0"
      },
      "execution_count": 51,
      "outputs": [
        {
          "output_type": "execute_result",
          "data": {
            "text/plain": [
              "tensor([[3., 4.],\n",
              "        [5., 6.]])"
            ]
          },
          "metadata": {},
          "execution_count": 51
        }
      ]
    },
    {
      "cell_type": "code",
      "source": [
        "print(t1.add(2))\n",
        "\n",
        "print(t1.sub(2))\n",
        "\n",
        "print(t1.mul(2))\n",
        "\n",
        "print(t1.div(2))"
      ],
      "metadata": {
        "colab": {
          "base_uri": "https://localhost:8080/"
        },
        "id": "YUiaaFCisDrP",
        "outputId": "08206a92-e02c-473a-8ae1-e073a965edbf"
      },
      "execution_count": 52,
      "outputs": [
        {
          "output_type": "stream",
          "name": "stdout",
          "text": [
            "tensor([[3., 4.],\n",
            "        [5., 6.]])\n",
            "tensor([[-1.,  0.],\n",
            "        [ 1.,  2.]])\n",
            "tensor([[2., 4.],\n",
            "        [6., 8.]])\n",
            "tensor([[0.5000, 1.0000],\n",
            "        [1.5000, 2.0000]])\n"
          ]
        }
      ]
    },
    {
      "cell_type": "code",
      "source": [
        "t = torch.tensor([\n",
        "    [0, 5, 7],\n",
        "    [6, 0, 7],\n",
        "    [0, 8, 0]\n",
        "], dtype=torch.float32)"
      ],
      "metadata": {
        "id": "_LCZZlgLsIG7"
      },
      "execution_count": 53,
      "outputs": []
    },
    {
      "cell_type": "code",
      "source": [
        "t.eq(0)"
      ],
      "metadata": {
        "colab": {
          "base_uri": "https://localhost:8080/"
        },
        "id": "-yTDXqvOsUqg",
        "outputId": "b7583443-9e75-41b0-b7ec-ffeac65140d1"
      },
      "execution_count": 54,
      "outputs": [
        {
          "output_type": "execute_result",
          "data": {
            "text/plain": [
              "tensor([[ True, False, False],\n",
              "        [False,  True, False],\n",
              "        [ True, False,  True]])"
            ]
          },
          "metadata": {},
          "execution_count": 54
        }
      ]
    },
    {
      "cell_type": "code",
      "source": [
        "t.ge(0)"
      ],
      "metadata": {
        "colab": {
          "base_uri": "https://localhost:8080/"
        },
        "id": "eGtoYMa2sXsU",
        "outputId": "d3629343-50f3-4fac-9e3c-b142d5b7f92a"
      },
      "execution_count": 55,
      "outputs": [
        {
          "output_type": "execute_result",
          "data": {
            "text/plain": [
              "tensor([[True, True, True],\n",
              "        [True, True, True],\n",
              "        [True, True, True]])"
            ]
          },
          "metadata": {},
          "execution_count": 55
        }
      ]
    },
    {
      "cell_type": "code",
      "source": [
        "t.sqrt()"
      ],
      "metadata": {
        "colab": {
          "base_uri": "https://localhost:8080/"
        },
        "id": "_TZ1qrsJsdjl",
        "outputId": "4fb42c14-b5b0-401c-a6f4-fd3a0edd2cf7"
      },
      "execution_count": 56,
      "outputs": [
        {
          "output_type": "execute_result",
          "data": {
            "text/plain": [
              "tensor([[0.0000, 2.2361, 2.6458],\n",
              "        [2.4495, 0.0000, 2.6458],\n",
              "        [0.0000, 2.8284, 0.0000]])"
            ]
          },
          "metadata": {},
          "execution_count": 56
        }
      ]
    },
    {
      "cell_type": "code",
      "source": [
        "t.neg()"
      ],
      "metadata": {
        "colab": {
          "base_uri": "https://localhost:8080/"
        },
        "id": "9ra5gVlksey4",
        "outputId": "ea33bb18-4c10-4124-b965-88106d39ccb5"
      },
      "execution_count": 57,
      "outputs": [
        {
          "output_type": "execute_result",
          "data": {
            "text/plain": [
              "tensor([[-0., -5., -7.],\n",
              "        [-6., -0., -7.],\n",
              "        [-0., -8., -0.]])"
            ]
          },
          "metadata": {},
          "execution_count": 57
        }
      ]
    },
    {
      "cell_type": "markdown",
      "source": [
        "**Reduction Functions**\n",
        "A reduction operation on a tensor is an operation that reduces the number of elements contained within the tensor"
      ],
      "metadata": {
        "id": "hS87sVfAsj2F"
      }
    },
    {
      "cell_type": "code",
      "source": [
        "t = torch.tensor([\n",
        "    [0, 5, 7],\n",
        "    [6, 0, 7],\n",
        "    [0, 8, 0]\n",
        "], dtype=torch.float32)"
      ],
      "metadata": {
        "id": "peGudZfashIn"
      },
      "execution_count": 58,
      "outputs": []
    },
    {
      "cell_type": "code",
      "source": [
        "t.sum()"
      ],
      "metadata": {
        "colab": {
          "base_uri": "https://localhost:8080/"
        },
        "id": "Gto-wQjwsrQ4",
        "outputId": "30d0e22c-5c0d-4e3c-e973-f0f923ee632e"
      },
      "execution_count": 59,
      "outputs": [
        {
          "output_type": "execute_result",
          "data": {
            "text/plain": [
              "tensor(33.)"
            ]
          },
          "metadata": {},
          "execution_count": 59
        }
      ]
    },
    {
      "cell_type": "code",
      "source": [
        "t.std()"
      ],
      "metadata": {
        "colab": {
          "base_uri": "https://localhost:8080/"
        },
        "id": "4oEpI2VAsthO",
        "outputId": "5ead5aad-d377-4e0d-8908-4cf0b2c3e281"
      },
      "execution_count": 60,
      "outputs": [
        {
          "output_type": "execute_result",
          "data": {
            "text/plain": [
              "tensor(3.5707)"
            ]
          },
          "metadata": {},
          "execution_count": 60
        }
      ]
    },
    {
      "cell_type": "markdown",
      "source": [
        "Reduction operation do not recessarily reduce tensors to single value. We can perform operations on a specific axis as well"
      ],
      "metadata": {
        "id": "ZBGPThXmswUK"
      }
    },
    {
      "cell_type": "code",
      "source": [
        "t = torch.tensor([\n",
        "  [1, 1, 1, 1],\n",
        "  [2, 2, 2, 2],\n",
        "  [3, 3, 3, 3],\n",
        "  [4, 4, 4, 4]\n",
        "])"
      ],
      "metadata": {
        "id": "6USU1E3LsyWb"
      },
      "execution_count": 61,
      "outputs": []
    },
    {
      "cell_type": "code",
      "source": [
        "t.sum(dim=0) # 0th axis is arrays (y-axis here), 1st axis is numbers(x-axis here)"
      ],
      "metadata": {
        "colab": {
          "base_uri": "https://localhost:8080/"
        },
        "id": "gpDQXhuTs0Wq",
        "outputId": "2ec27906-df61-49b6-947c-bc3e4643129b"
      },
      "execution_count": 62,
      "outputs": [
        {
          "output_type": "execute_result",
          "data": {
            "text/plain": [
              "tensor([10, 10, 10, 10])"
            ]
          },
          "metadata": {},
          "execution_count": 62
        }
      ]
    },
    {
      "cell_type": "code",
      "source": [
        "t.sum(dim=1)"
      ],
      "metadata": {
        "colab": {
          "base_uri": "https://localhost:8080/"
        },
        "id": "9w3Fw3x_s4nG",
        "outputId": "9549c99a-914c-426b-e81f-a65d3e0f412d"
      },
      "execution_count": 63,
      "outputs": [
        {
          "output_type": "execute_result",
          "data": {
            "text/plain": [
              "tensor([ 4,  8, 12, 16])"
            ]
          },
          "metadata": {},
          "execution_count": 63
        }
      ]
    },
    {
      "cell_type": "code",
      "source": [
        "#ArgMax and ArgMin\n",
        "t.argmax(), t.max()"
      ],
      "metadata": {
        "colab": {
          "base_uri": "https://localhost:8080/"
        },
        "id": "kXP_BE6-tADx",
        "outputId": "bbe4baf5-79e0-423f-8ed7-0a922c325c57"
      },
      "execution_count": 64,
      "outputs": [
        {
          "output_type": "execute_result",
          "data": {
            "text/plain": [
              "(tensor(12), tensor(4))"
            ]
          },
          "metadata": {},
          "execution_count": 64
        }
      ]
    },
    {
      "cell_type": "code",
      "source": [
        "t.argmin(), t.min()"
      ],
      "metadata": {
        "colab": {
          "base_uri": "https://localhost:8080/"
        },
        "id": "VBy-3Sx8tSgD",
        "outputId": "5d7d05e0-a671-4764-c910-196e1dfabc1a"
      },
      "execution_count": 65,
      "outputs": [
        {
          "output_type": "execute_result",
          "data": {
            "text/plain": [
              "(tensor(0), tensor(1))"
            ]
          },
          "metadata": {},
          "execution_count": 65
        }
      ]
    },
    {
      "cell_type": "code",
      "source": [
        "t = torch.tensor([\n",
        "    [1, 0, 0, 2],\n",
        "    [0, 3, 3, 0],\n",
        "    [4, 0, 0, 5]\n",
        "], dtype=torch.float32)"
      ],
      "metadata": {
        "id": "aOwhuM7qtUX_"
      },
      "execution_count": 66,
      "outputs": []
    },
    {
      "cell_type": "code",
      "source": [
        "t.max(dim=0)"
      ],
      "metadata": {
        "colab": {
          "base_uri": "https://localhost:8080/"
        },
        "id": "ijfKWGw_tXle",
        "outputId": "ce8e4e08-013b-48a9-a7b0-b8ce5acc398b"
      },
      "execution_count": 67,
      "outputs": [
        {
          "output_type": "execute_result",
          "data": {
            "text/plain": [
              "torch.return_types.max(\n",
              "values=tensor([4., 3., 3., 5.]),\n",
              "indices=tensor([2, 1, 1, 2]))"
            ]
          },
          "metadata": {},
          "execution_count": 67
        }
      ]
    },
    {
      "cell_type": "code",
      "source": [
        "t.max(dim=1)"
      ],
      "metadata": {
        "colab": {
          "base_uri": "https://localhost:8080/"
        },
        "id": "KBKTxn0DtmYv",
        "outputId": "4a22bebc-ca18-43b8-bd6d-dfe18c4d7712"
      },
      "execution_count": 68,
      "outputs": [
        {
          "output_type": "execute_result",
          "data": {
            "text/plain": [
              "torch.return_types.max(\n",
              "values=tensor([2., 3., 5.]),\n",
              "indices=tensor([3, 1, 3]))"
            ]
          },
          "metadata": {},
          "execution_count": 68
        }
      ]
    },
    {
      "cell_type": "code",
      "source": [
        "t.argmax(dim=0)"
      ],
      "metadata": {
        "colab": {
          "base_uri": "https://localhost:8080/"
        },
        "id": "Mu5sZ2rCts__",
        "outputId": "f2b18ee3-0718-4778-9ec0-0a4196164b7c"
      },
      "execution_count": 69,
      "outputs": [
        {
          "output_type": "execute_result",
          "data": {
            "text/plain": [
              "tensor([2, 1, 1, 2])"
            ]
          },
          "metadata": {},
          "execution_count": 69
        }
      ]
    },
    {
      "cell_type": "code",
      "source": [
        "t.argmax(dim=1)"
      ],
      "metadata": {
        "colab": {
          "base_uri": "https://localhost:8080/"
        },
        "id": "h_pA1nF0tw59",
        "outputId": "1bf5c7de-01c6-4f8f-9c54-ef639e63f235"
      },
      "execution_count": 70,
      "outputs": [
        {
          "output_type": "execute_result",
          "data": {
            "text/plain": [
              "tensor([3, 1, 3])"
            ]
          },
          "metadata": {},
          "execution_count": 70
        }
      ]
    },
    {
      "cell_type": "code",
      "source": [
        "t.mean(), t.mean().item() #item works only with scalar value tensors"
      ],
      "metadata": {
        "colab": {
          "base_uri": "https://localhost:8080/"
        },
        "id": "W37bqxNat2kH",
        "outputId": "a8601042-6245-4ba9-9e08-75098dee5732"
      },
      "execution_count": 71,
      "outputs": [
        {
          "output_type": "execute_result",
          "data": {
            "text/plain": [
              "(tensor(1.5000), 1.5)"
            ]
          },
          "metadata": {},
          "execution_count": 71
        }
      ]
    },
    {
      "cell_type": "code",
      "source": [
        "# how to get multiple values out of a tensor as item only works with scalar values\n",
        "\n",
        "t.mean(dim=0).tolist(), t.mean(dim=0).tolist()[0]"
      ],
      "metadata": {
        "colab": {
          "base_uri": "https://localhost:8080/"
        },
        "id": "n2dH4bnyt6Qf",
        "outputId": "d82f8750-15b6-4ccb-c3ae-31924cf82e52"
      },
      "execution_count": 72,
      "outputs": [
        {
          "output_type": "execute_result",
          "data": {
            "text/plain": [
              "([1.6666666269302368, 1.0, 1.0, 2.3333332538604736], 1.6666666269302368)"
            ]
          },
          "metadata": {},
          "execution_count": 72
        }
      ]
    },
    {
      "cell_type": "code",
      "source": [
        "# or\n",
        "\n",
        "t.mean(dim=0).numpy(), t.mean(dim=0).numpy()[0]"
      ],
      "metadata": {
        "id": "HF40BD_vuA27",
        "outputId": "4705a91e-f4b1-4e73-d3c4-1c76aabc2068",
        "colab": {
          "base_uri": "https://localhost:8080/"
        }
      },
      "execution_count": 73,
      "outputs": [
        {
          "output_type": "execute_result",
          "data": {
            "text/plain": [
              "(array([1.6666666, 1.       , 1.       , 2.3333333], dtype=float32), 1.6666666)"
            ]
          },
          "metadata": {},
          "execution_count": 73
        }
      ]
    },
    {
      "cell_type": "markdown",
      "source": [
        "## **Churn classification Pytorch**"
      ],
      "metadata": {
        "id": "L0ock1GQv8NE"
      }
    },
    {
      "cell_type": "code",
      "source": [
        "import numpy as np\n",
        "import pandas as pd\n",
        "import matplotlib.pyplot as plt"
      ],
      "metadata": {
        "id": "q9giA0BIwCsD"
      },
      "execution_count": 74,
      "outputs": []
    },
    {
      "cell_type": "code",
      "source": [
        "# Importing the dataset\n",
        "dataset = pd.read_csv('Churn_Modelling.csv')"
      ],
      "metadata": {
        "id": "xnhI9XVCwsra"
      },
      "execution_count": 75,
      "outputs": []
    },
    {
      "cell_type": "code",
      "source": [
        "dataset.head()"
      ],
      "metadata": {
        "colab": {
          "base_uri": "https://localhost:8080/",
          "height": 270
        },
        "id": "mifvWoY2wzim",
        "outputId": "cc6148b5-b195-409c-8af2-fe26ae0f930d"
      },
      "execution_count": 76,
      "outputs": [
        {
          "output_type": "execute_result",
          "data": {
            "text/plain": [
              "   RowNumber  CustomerId   Surname  CreditScore Geography  Gender  Age  \\\n",
              "0          1    15634602  Hargrave          619    France  Female   42   \n",
              "1          2    15647311      Hill          608     Spain  Female   41   \n",
              "2          3    15619304      Onio          502    France  Female   42   \n",
              "3          4    15701354      Boni          699    France  Female   39   \n",
              "4          5    15737888  Mitchell          850     Spain  Female   43   \n",
              "\n",
              "   Tenure    Balance  NumOfProducts  HasCrCard  IsActiveMember  \\\n",
              "0       2       0.00              1          1               1   \n",
              "1       1   83807.86              1          0               1   \n",
              "2       8  159660.80              3          1               0   \n",
              "3       1       0.00              2          0               0   \n",
              "4       2  125510.82              1          1               1   \n",
              "\n",
              "   EstimatedSalary  Exited  \n",
              "0        101348.88       1  \n",
              "1        112542.58       0  \n",
              "2        113931.57       1  \n",
              "3         93826.63       0  \n",
              "4         79084.10       0  "
            ],
            "text/html": [
              "\n",
              "  <div id=\"df-c76e26fc-260c-4784-ab4e-0befa4ee02e7\">\n",
              "    <div class=\"colab-df-container\">\n",
              "      <div>\n",
              "<style scoped>\n",
              "    .dataframe tbody tr th:only-of-type {\n",
              "        vertical-align: middle;\n",
              "    }\n",
              "\n",
              "    .dataframe tbody tr th {\n",
              "        vertical-align: top;\n",
              "    }\n",
              "\n",
              "    .dataframe thead th {\n",
              "        text-align: right;\n",
              "    }\n",
              "</style>\n",
              "<table border=\"1\" class=\"dataframe\">\n",
              "  <thead>\n",
              "    <tr style=\"text-align: right;\">\n",
              "      <th></th>\n",
              "      <th>RowNumber</th>\n",
              "      <th>CustomerId</th>\n",
              "      <th>Surname</th>\n",
              "      <th>CreditScore</th>\n",
              "      <th>Geography</th>\n",
              "      <th>Gender</th>\n",
              "      <th>Age</th>\n",
              "      <th>Tenure</th>\n",
              "      <th>Balance</th>\n",
              "      <th>NumOfProducts</th>\n",
              "      <th>HasCrCard</th>\n",
              "      <th>IsActiveMember</th>\n",
              "      <th>EstimatedSalary</th>\n",
              "      <th>Exited</th>\n",
              "    </tr>\n",
              "  </thead>\n",
              "  <tbody>\n",
              "    <tr>\n",
              "      <th>0</th>\n",
              "      <td>1</td>\n",
              "      <td>15634602</td>\n",
              "      <td>Hargrave</td>\n",
              "      <td>619</td>\n",
              "      <td>France</td>\n",
              "      <td>Female</td>\n",
              "      <td>42</td>\n",
              "      <td>2</td>\n",
              "      <td>0.00</td>\n",
              "      <td>1</td>\n",
              "      <td>1</td>\n",
              "      <td>1</td>\n",
              "      <td>101348.88</td>\n",
              "      <td>1</td>\n",
              "    </tr>\n",
              "    <tr>\n",
              "      <th>1</th>\n",
              "      <td>2</td>\n",
              "      <td>15647311</td>\n",
              "      <td>Hill</td>\n",
              "      <td>608</td>\n",
              "      <td>Spain</td>\n",
              "      <td>Female</td>\n",
              "      <td>41</td>\n",
              "      <td>1</td>\n",
              "      <td>83807.86</td>\n",
              "      <td>1</td>\n",
              "      <td>0</td>\n",
              "      <td>1</td>\n",
              "      <td>112542.58</td>\n",
              "      <td>0</td>\n",
              "    </tr>\n",
              "    <tr>\n",
              "      <th>2</th>\n",
              "      <td>3</td>\n",
              "      <td>15619304</td>\n",
              "      <td>Onio</td>\n",
              "      <td>502</td>\n",
              "      <td>France</td>\n",
              "      <td>Female</td>\n",
              "      <td>42</td>\n",
              "      <td>8</td>\n",
              "      <td>159660.80</td>\n",
              "      <td>3</td>\n",
              "      <td>1</td>\n",
              "      <td>0</td>\n",
              "      <td>113931.57</td>\n",
              "      <td>1</td>\n",
              "    </tr>\n",
              "    <tr>\n",
              "      <th>3</th>\n",
              "      <td>4</td>\n",
              "      <td>15701354</td>\n",
              "      <td>Boni</td>\n",
              "      <td>699</td>\n",
              "      <td>France</td>\n",
              "      <td>Female</td>\n",
              "      <td>39</td>\n",
              "      <td>1</td>\n",
              "      <td>0.00</td>\n",
              "      <td>2</td>\n",
              "      <td>0</td>\n",
              "      <td>0</td>\n",
              "      <td>93826.63</td>\n",
              "      <td>0</td>\n",
              "    </tr>\n",
              "    <tr>\n",
              "      <th>4</th>\n",
              "      <td>5</td>\n",
              "      <td>15737888</td>\n",
              "      <td>Mitchell</td>\n",
              "      <td>850</td>\n",
              "      <td>Spain</td>\n",
              "      <td>Female</td>\n",
              "      <td>43</td>\n",
              "      <td>2</td>\n",
              "      <td>125510.82</td>\n",
              "      <td>1</td>\n",
              "      <td>1</td>\n",
              "      <td>1</td>\n",
              "      <td>79084.10</td>\n",
              "      <td>0</td>\n",
              "    </tr>\n",
              "  </tbody>\n",
              "</table>\n",
              "</div>\n",
              "      <button class=\"colab-df-convert\" onclick=\"convertToInteractive('df-c76e26fc-260c-4784-ab4e-0befa4ee02e7')\"\n",
              "              title=\"Convert this dataframe to an interactive table.\"\n",
              "              style=\"display:none;\">\n",
              "        \n",
              "  <svg xmlns=\"http://www.w3.org/2000/svg\" height=\"24px\"viewBox=\"0 0 24 24\"\n",
              "       width=\"24px\">\n",
              "    <path d=\"M0 0h24v24H0V0z\" fill=\"none\"/>\n",
              "    <path d=\"M18.56 5.44l.94 2.06.94-2.06 2.06-.94-2.06-.94-.94-2.06-.94 2.06-2.06.94zm-11 1L8.5 8.5l.94-2.06 2.06-.94-2.06-.94L8.5 2.5l-.94 2.06-2.06.94zm10 10l.94 2.06.94-2.06 2.06-.94-2.06-.94-.94-2.06-.94 2.06-2.06.94z\"/><path d=\"M17.41 7.96l-1.37-1.37c-.4-.4-.92-.59-1.43-.59-.52 0-1.04.2-1.43.59L10.3 9.45l-7.72 7.72c-.78.78-.78 2.05 0 2.83L4 21.41c.39.39.9.59 1.41.59.51 0 1.02-.2 1.41-.59l7.78-7.78 2.81-2.81c.8-.78.8-2.07 0-2.86zM5.41 20L4 18.59l7.72-7.72 1.47 1.35L5.41 20z\"/>\n",
              "  </svg>\n",
              "      </button>\n",
              "      \n",
              "  <style>\n",
              "    .colab-df-container {\n",
              "      display:flex;\n",
              "      flex-wrap:wrap;\n",
              "      gap: 12px;\n",
              "    }\n",
              "\n",
              "    .colab-df-convert {\n",
              "      background-color: #E8F0FE;\n",
              "      border: none;\n",
              "      border-radius: 50%;\n",
              "      cursor: pointer;\n",
              "      display: none;\n",
              "      fill: #1967D2;\n",
              "      height: 32px;\n",
              "      padding: 0 0 0 0;\n",
              "      width: 32px;\n",
              "    }\n",
              "\n",
              "    .colab-df-convert:hover {\n",
              "      background-color: #E2EBFA;\n",
              "      box-shadow: 0px 1px 2px rgba(60, 64, 67, 0.3), 0px 1px 3px 1px rgba(60, 64, 67, 0.15);\n",
              "      fill: #174EA6;\n",
              "    }\n",
              "\n",
              "    [theme=dark] .colab-df-convert {\n",
              "      background-color: #3B4455;\n",
              "      fill: #D2E3FC;\n",
              "    }\n",
              "\n",
              "    [theme=dark] .colab-df-convert:hover {\n",
              "      background-color: #434B5C;\n",
              "      box-shadow: 0px 1px 3px 1px rgba(0, 0, 0, 0.15);\n",
              "      filter: drop-shadow(0px 1px 2px rgba(0, 0, 0, 0.3));\n",
              "      fill: #FFFFFF;\n",
              "    }\n",
              "  </style>\n",
              "\n",
              "      <script>\n",
              "        const buttonEl =\n",
              "          document.querySelector('#df-c76e26fc-260c-4784-ab4e-0befa4ee02e7 button.colab-df-convert');\n",
              "        buttonEl.style.display =\n",
              "          google.colab.kernel.accessAllowed ? 'block' : 'none';\n",
              "\n",
              "        async function convertToInteractive(key) {\n",
              "          const element = document.querySelector('#df-c76e26fc-260c-4784-ab4e-0befa4ee02e7');\n",
              "          const dataTable =\n",
              "            await google.colab.kernel.invokeFunction('convertToInteractive',\n",
              "                                                     [key], {});\n",
              "          if (!dataTable) return;\n",
              "\n",
              "          const docLinkHtml = 'Like what you see? Visit the ' +\n",
              "            '<a target=\"_blank\" href=https://colab.research.google.com/notebooks/data_table.ipynb>data table notebook</a>'\n",
              "            + ' to learn more about interactive tables.';\n",
              "          element.innerHTML = '';\n",
              "          dataTable['output_type'] = 'display_data';\n",
              "          await google.colab.output.renderOutput(dataTable, element);\n",
              "          const docLink = document.createElement('div');\n",
              "          docLink.innerHTML = docLinkHtml;\n",
              "          element.appendChild(docLink);\n",
              "        }\n",
              "      </script>\n",
              "    </div>\n",
              "  </div>\n",
              "  "
            ]
          },
          "metadata": {},
          "execution_count": 76
        }
      ]
    },
    {
      "cell_type": "code",
      "source": [
        "dataset.drop(['RowNumber', 'CustomerId', 'Surname'], axis=1, inplace=True)"
      ],
      "metadata": {
        "id": "5qVq_HLcw5Ad"
      },
      "execution_count": 77,
      "outputs": []
    },
    {
      "cell_type": "code",
      "source": [
        "dataset.head()"
      ],
      "metadata": {
        "colab": {
          "base_uri": "https://localhost:8080/",
          "height": 270
        },
        "id": "Lu1uFw2Mw9z0",
        "outputId": "fc6ae9dd-e86b-4ad4-e85a-26808748924b"
      },
      "execution_count": 78,
      "outputs": [
        {
          "output_type": "execute_result",
          "data": {
            "text/plain": [
              "   CreditScore Geography  Gender  Age  Tenure    Balance  NumOfProducts  \\\n",
              "0          619    France  Female   42       2       0.00              1   \n",
              "1          608     Spain  Female   41       1   83807.86              1   \n",
              "2          502    France  Female   42       8  159660.80              3   \n",
              "3          699    France  Female   39       1       0.00              2   \n",
              "4          850     Spain  Female   43       2  125510.82              1   \n",
              "\n",
              "   HasCrCard  IsActiveMember  EstimatedSalary  Exited  \n",
              "0          1               1        101348.88       1  \n",
              "1          0               1        112542.58       0  \n",
              "2          1               0        113931.57       1  \n",
              "3          0               0         93826.63       0  \n",
              "4          1               1         79084.10       0  "
            ],
            "text/html": [
              "\n",
              "  <div id=\"df-d58da797-943f-4e52-b251-ab00be908132\">\n",
              "    <div class=\"colab-df-container\">\n",
              "      <div>\n",
              "<style scoped>\n",
              "    .dataframe tbody tr th:only-of-type {\n",
              "        vertical-align: middle;\n",
              "    }\n",
              "\n",
              "    .dataframe tbody tr th {\n",
              "        vertical-align: top;\n",
              "    }\n",
              "\n",
              "    .dataframe thead th {\n",
              "        text-align: right;\n",
              "    }\n",
              "</style>\n",
              "<table border=\"1\" class=\"dataframe\">\n",
              "  <thead>\n",
              "    <tr style=\"text-align: right;\">\n",
              "      <th></th>\n",
              "      <th>CreditScore</th>\n",
              "      <th>Geography</th>\n",
              "      <th>Gender</th>\n",
              "      <th>Age</th>\n",
              "      <th>Tenure</th>\n",
              "      <th>Balance</th>\n",
              "      <th>NumOfProducts</th>\n",
              "      <th>HasCrCard</th>\n",
              "      <th>IsActiveMember</th>\n",
              "      <th>EstimatedSalary</th>\n",
              "      <th>Exited</th>\n",
              "    </tr>\n",
              "  </thead>\n",
              "  <tbody>\n",
              "    <tr>\n",
              "      <th>0</th>\n",
              "      <td>619</td>\n",
              "      <td>France</td>\n",
              "      <td>Female</td>\n",
              "      <td>42</td>\n",
              "      <td>2</td>\n",
              "      <td>0.00</td>\n",
              "      <td>1</td>\n",
              "      <td>1</td>\n",
              "      <td>1</td>\n",
              "      <td>101348.88</td>\n",
              "      <td>1</td>\n",
              "    </tr>\n",
              "    <tr>\n",
              "      <th>1</th>\n",
              "      <td>608</td>\n",
              "      <td>Spain</td>\n",
              "      <td>Female</td>\n",
              "      <td>41</td>\n",
              "      <td>1</td>\n",
              "      <td>83807.86</td>\n",
              "      <td>1</td>\n",
              "      <td>0</td>\n",
              "      <td>1</td>\n",
              "      <td>112542.58</td>\n",
              "      <td>0</td>\n",
              "    </tr>\n",
              "    <tr>\n",
              "      <th>2</th>\n",
              "      <td>502</td>\n",
              "      <td>France</td>\n",
              "      <td>Female</td>\n",
              "      <td>42</td>\n",
              "      <td>8</td>\n",
              "      <td>159660.80</td>\n",
              "      <td>3</td>\n",
              "      <td>1</td>\n",
              "      <td>0</td>\n",
              "      <td>113931.57</td>\n",
              "      <td>1</td>\n",
              "    </tr>\n",
              "    <tr>\n",
              "      <th>3</th>\n",
              "      <td>699</td>\n",
              "      <td>France</td>\n",
              "      <td>Female</td>\n",
              "      <td>39</td>\n",
              "      <td>1</td>\n",
              "      <td>0.00</td>\n",
              "      <td>2</td>\n",
              "      <td>0</td>\n",
              "      <td>0</td>\n",
              "      <td>93826.63</td>\n",
              "      <td>0</td>\n",
              "    </tr>\n",
              "    <tr>\n",
              "      <th>4</th>\n",
              "      <td>850</td>\n",
              "      <td>Spain</td>\n",
              "      <td>Female</td>\n",
              "      <td>43</td>\n",
              "      <td>2</td>\n",
              "      <td>125510.82</td>\n",
              "      <td>1</td>\n",
              "      <td>1</td>\n",
              "      <td>1</td>\n",
              "      <td>79084.10</td>\n",
              "      <td>0</td>\n",
              "    </tr>\n",
              "  </tbody>\n",
              "</table>\n",
              "</div>\n",
              "      <button class=\"colab-df-convert\" onclick=\"convertToInteractive('df-d58da797-943f-4e52-b251-ab00be908132')\"\n",
              "              title=\"Convert this dataframe to an interactive table.\"\n",
              "              style=\"display:none;\">\n",
              "        \n",
              "  <svg xmlns=\"http://www.w3.org/2000/svg\" height=\"24px\"viewBox=\"0 0 24 24\"\n",
              "       width=\"24px\">\n",
              "    <path d=\"M0 0h24v24H0V0z\" fill=\"none\"/>\n",
              "    <path d=\"M18.56 5.44l.94 2.06.94-2.06 2.06-.94-2.06-.94-.94-2.06-.94 2.06-2.06.94zm-11 1L8.5 8.5l.94-2.06 2.06-.94-2.06-.94L8.5 2.5l-.94 2.06-2.06.94zm10 10l.94 2.06.94-2.06 2.06-.94-2.06-.94-.94-2.06-.94 2.06-2.06.94z\"/><path d=\"M17.41 7.96l-1.37-1.37c-.4-.4-.92-.59-1.43-.59-.52 0-1.04.2-1.43.59L10.3 9.45l-7.72 7.72c-.78.78-.78 2.05 0 2.83L4 21.41c.39.39.9.59 1.41.59.51 0 1.02-.2 1.41-.59l7.78-7.78 2.81-2.81c.8-.78.8-2.07 0-2.86zM5.41 20L4 18.59l7.72-7.72 1.47 1.35L5.41 20z\"/>\n",
              "  </svg>\n",
              "      </button>\n",
              "      \n",
              "  <style>\n",
              "    .colab-df-container {\n",
              "      display:flex;\n",
              "      flex-wrap:wrap;\n",
              "      gap: 12px;\n",
              "    }\n",
              "\n",
              "    .colab-df-convert {\n",
              "      background-color: #E8F0FE;\n",
              "      border: none;\n",
              "      border-radius: 50%;\n",
              "      cursor: pointer;\n",
              "      display: none;\n",
              "      fill: #1967D2;\n",
              "      height: 32px;\n",
              "      padding: 0 0 0 0;\n",
              "      width: 32px;\n",
              "    }\n",
              "\n",
              "    .colab-df-convert:hover {\n",
              "      background-color: #E2EBFA;\n",
              "      box-shadow: 0px 1px 2px rgba(60, 64, 67, 0.3), 0px 1px 3px 1px rgba(60, 64, 67, 0.15);\n",
              "      fill: #174EA6;\n",
              "    }\n",
              "\n",
              "    [theme=dark] .colab-df-convert {\n",
              "      background-color: #3B4455;\n",
              "      fill: #D2E3FC;\n",
              "    }\n",
              "\n",
              "    [theme=dark] .colab-df-convert:hover {\n",
              "      background-color: #434B5C;\n",
              "      box-shadow: 0px 1px 3px 1px rgba(0, 0, 0, 0.15);\n",
              "      filter: drop-shadow(0px 1px 2px rgba(0, 0, 0, 0.3));\n",
              "      fill: #FFFFFF;\n",
              "    }\n",
              "  </style>\n",
              "\n",
              "      <script>\n",
              "        const buttonEl =\n",
              "          document.querySelector('#df-d58da797-943f-4e52-b251-ab00be908132 button.colab-df-convert');\n",
              "        buttonEl.style.display =\n",
              "          google.colab.kernel.accessAllowed ? 'block' : 'none';\n",
              "\n",
              "        async function convertToInteractive(key) {\n",
              "          const element = document.querySelector('#df-d58da797-943f-4e52-b251-ab00be908132');\n",
              "          const dataTable =\n",
              "            await google.colab.kernel.invokeFunction('convertToInteractive',\n",
              "                                                     [key], {});\n",
              "          if (!dataTable) return;\n",
              "\n",
              "          const docLinkHtml = 'Like what you see? Visit the ' +\n",
              "            '<a target=\"_blank\" href=https://colab.research.google.com/notebooks/data_table.ipynb>data table notebook</a>'\n",
              "            + ' to learn more about interactive tables.';\n",
              "          element.innerHTML = '';\n",
              "          dataTable['output_type'] = 'display_data';\n",
              "          await google.colab.output.renderOutput(dataTable, element);\n",
              "          const docLink = document.createElement('div');\n",
              "          docLink.innerHTML = docLinkHtml;\n",
              "          element.appendChild(docLink);\n",
              "        }\n",
              "      </script>\n",
              "    </div>\n",
              "  </div>\n",
              "  "
            ]
          },
          "metadata": {},
          "execution_count": 78
        }
      ]
    },
    {
      "cell_type": "code",
      "source": [
        "dataset_new = pd.get_dummies(dataset, ['Geography', 'Gender'], drop_first=True)"
      ],
      "metadata": {
        "id": "H0dtD53WxBLg"
      },
      "execution_count": 79,
      "outputs": []
    },
    {
      "cell_type": "code",
      "source": [
        "X = dataset_new[dataset_new.columns.difference(['Exited'])]\n",
        "y = dataset_new['Exited']"
      ],
      "metadata": {
        "id": "Px44i7VtxEwU"
      },
      "execution_count": 80,
      "outputs": []
    },
    {
      "cell_type": "code",
      "source": [
        "from sklearn.model_selection import train_test_split"
      ],
      "metadata": {
        "id": "b5-G9WBcxOhQ"
      },
      "execution_count": 82,
      "outputs": []
    },
    {
      "cell_type": "code",
      "source": [
        "X_train, X_test, y_train, y_test = train_test_split(X, y, test_size=0.3, random_state =123)"
      ],
      "metadata": {
        "id": "oE7TG7GzxXwP"
      },
      "execution_count": 83,
      "outputs": []
    },
    {
      "cell_type": "code",
      "source": [
        "#Scaling variables - Helps to converge quickly\n",
        "\n",
        "from sklearn.preprocessing import StandardScaler\n",
        "sc = StandardScaler()\n",
        "X_train = sc.fit_transform(X_train)\n",
        "X_test = sc.transform(X_test)"
      ],
      "metadata": {
        "id": "tqWiHtccxdNU"
      },
      "execution_count": 84,
      "outputs": []
    },
    {
      "cell_type": "code",
      "source": [
        "import torch\n",
        "import torch.nn as nn\n",
        "from torch.autograd import Variable\n",
        "import torch.nn.functional as F\n",
        "import torch.utils.data\n",
        "import torch.optim as optim"
      ],
      "metadata": {
        "id": "btgqO7qRxfgA"
      },
      "execution_count": 85,
      "outputs": []
    },
    {
      "cell_type": "code",
      "source": [
        "# Numpy to Tensor Conversion (Train Set)\n",
        "X_train = torch.from_numpy(X_train)\n",
        "y_train = torch.from_numpy(y_train.values).view(-1,1)\n",
        "\n",
        "# Numpy to Tensor Conversion (Train Set)\n",
        "X_test = torch.from_numpy(X_test)\n",
        "y_test = torch.from_numpy(y_test.values).view(-1,1)"
      ],
      "metadata": {
        "id": "N9Ze3tpKxkMF"
      },
      "execution_count": 86,
      "outputs": []
    },
    {
      "cell_type": "code",
      "source": [
        "X_train"
      ],
      "metadata": {
        "colab": {
          "base_uri": "https://localhost:8080/"
        },
        "id": "oO_J_30Yxqrz",
        "outputId": "caa6ccbd-c085-4846-b125-51fed7aa7e6b"
      },
      "execution_count": 87,
      "outputs": [
        {
          "output_type": "execute_result",
          "data": {
            "text/plain": [
              "tensor([[ 1.5132,  0.0785, -0.0222,  ...,  0.9699, -0.9170, -1.3889],\n",
              "        [ 1.7017, -1.2193,  0.4439,  ...,  0.9699,  0.7988,  1.3750],\n",
              "        [-0.5600, -1.2193, -0.6644,  ...,  0.9699,  0.7988,  0.6840],\n",
              "        ...,\n",
              "        [-1.7851,  0.4509,  0.3610,  ..., -1.0311,  0.7988, -0.3525],\n",
              "        [-0.8427,  0.2870, -0.0740,  ...,  0.9699, -0.9170, -0.0070],\n",
              "        [-0.3715, -1.2193,  0.3714,  ..., -1.0311, -0.9170, -0.3525]],\n",
              "       dtype=torch.float64)"
            ]
          },
          "metadata": {},
          "execution_count": 87
        }
      ]
    },
    {
      "cell_type": "code",
      "source": [
        "y_train"
      ],
      "metadata": {
        "colab": {
          "base_uri": "https://localhost:8080/"
        },
        "id": "QdqEyLL9xvVR",
        "outputId": "2a89b2ac-f979-4513-da0f-e45d82c61a59"
      },
      "execution_count": 88,
      "outputs": [
        {
          "output_type": "execute_result",
          "data": {
            "text/plain": [
              "tensor([[0],\n",
              "        [0],\n",
              "        [0],\n",
              "        ...,\n",
              "        [0],\n",
              "        [0],\n",
              "        [0]])"
            ]
          },
          "metadata": {},
          "execution_count": 88
        }
      ]
    },
    {
      "cell_type": "code",
      "source": [
        "X_train.shape"
      ],
      "metadata": {
        "colab": {
          "base_uri": "https://localhost:8080/"
        },
        "id": "gPr0PTfRxy5Z",
        "outputId": "65cbeb13-c53f-48db-d75f-aac7c6d8b6c4"
      },
      "execution_count": 89,
      "outputs": [
        {
          "output_type": "execute_result",
          "data": {
            "text/plain": [
              "torch.Size([7000, 11])"
            ]
          },
          "metadata": {},
          "execution_count": 89
        }
      ]
    },
    {
      "cell_type": "code",
      "source": [
        "class ANN(nn.Module):\n",
        "    def __init__(self, input_dim = 11, output_dim = 1): #no of features are 11 -> input_dim\n",
        "        super(ANN, self).__init__()\n",
        "        self.fc1 = nn.Linear(input_dim, 6) #Hidden Layer 1\n",
        "        self.fc2 = nn.Linear(6, 6)         #Hidden Layer2\n",
        "        self.output_layer = nn.Linear(6,output_dim) #Output Layer\n",
        "\n",
        "    \n",
        "    # Feed Forward Function\n",
        "    def forward(self, x):\n",
        "        x = F.relu(self.fc1(x))    # Add ReLU activation function to each layer\n",
        "        x = F.relu(self.fc2(x))\n",
        "        x = F.sigmoid(self.output_layer(x))\n",
        "        return x     # Return the created model"
      ],
      "metadata": {
        "id": "CsUDFw29x3nQ"
      },
      "execution_count": 95,
      "outputs": []
    },
    {
      "cell_type": "code",
      "source": [
        "# Hyper-parameters\n",
        "input_size = 11\n",
        "output_size = 1\n",
        "num_epochs = 1000\n",
        "learning_rate = 0.01"
      ],
      "metadata": {
        "id": "9JH0tKaUyAap"
      },
      "execution_count": 96,
      "outputs": []
    },
    {
      "cell_type": "code",
      "source": [
        "# Create the Neural Network Model\n",
        "model = ANN(input_dim = input_size, output_dim = output_size)\n",
        "# Print its architecture\n",
        "print(model)"
      ],
      "metadata": {
        "colab": {
          "base_uri": "https://localhost:8080/"
        },
        "id": "FKWwBOV-zYGv",
        "outputId": "d0a085d5-ff6b-44d2-8a8d-ff16d95727aa"
      },
      "execution_count": 97,
      "outputs": [
        {
          "output_type": "stream",
          "name": "stdout",
          "text": [
            "ANN(\n",
            "  (fc1): Linear(in_features=11, out_features=6, bias=True)\n",
            "  (fc2): Linear(in_features=6, out_features=6, bias=True)\n",
            "  (output_layer): Linear(in_features=6, out_features=1, bias=True)\n",
            ")\n"
          ]
        }
      ]
    },
    {
      "cell_type": "code",
      "source": [
        "#Loss & Optimizer\n",
        "criterion = nn.BCELoss()   # specify loss function - BCELoss: Binary Cross Entropy loss\n",
        "#optimizer = optim.SGD(model.parameters(), lr=learning_rate) # specify optimizer\n",
        "optimizer = optim.Adam(model.parameters(), lr=learning_rate)"
      ],
      "metadata": {
        "id": "BqCcf-a8zbTW"
      },
      "execution_count": 98,
      "outputs": []
    },
    {
      "cell_type": "code",
      "source": [
        "#Before model building, calculate the test loss for verfication\n",
        "model.eval()     #not updating the model weights\n",
        "data_test = Variable(X_test).float()\n",
        "target_test = Variable(y_test).type(torch.FloatTensor)\n",
        "y_pred_test = model(data_test)\n",
        "before_train = criterion(y_pred_test, target_test) \n",
        "print('Test loss before training' , before_train.item())"
      ],
      "metadata": {
        "colab": {
          "base_uri": "https://localhost:8080/"
        },
        "id": "y7EpvQCTzfLH",
        "outputId": "c5e0fbd3-00da-42b7-8bbf-930e78bdb8b0"
      },
      "execution_count": 99,
      "outputs": [
        {
          "output_type": "stream",
          "name": "stdout",
          "text": [
            "Test loss before training 0.8494329452514648\n"
          ]
        }
      ]
    },
    {
      "cell_type": "code",
      "source": [],
      "metadata": {
        "id": "fbwd4xsRzizq"
      },
      "execution_count": null,
      "outputs": []
    }
  ]
}